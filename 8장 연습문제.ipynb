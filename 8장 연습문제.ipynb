{
 "cells": [
  {
   "cell_type": "code",
   "execution_count": 3,
   "id": "accessible-failure",
   "metadata": {},
   "outputs": [
    {
     "data": {
      "text/plain": [
       "{'Dog': 'chien', 'Cat': 'chat', 'Walrus': 'morse'}"
      ]
     },
     "execution_count": 3,
     "metadata": {},
     "output_type": "execute_result"
    }
   ],
   "source": [
    "#8.1 영어-프랑스어 사전을 의미하는 e2f딕셔너리를 만들어 출력해보자. 영어 dog는 프랑스어 chien이고, cat은 chat, walrus는 morse다.\n",
    "e2f={'Dog': 'chien', 'Cat': 'chat', 'Walrus': 'morse'}\n",
    "e2f"
   ]
  },
  {
   "cell_type": "code",
   "execution_count": 4,
   "id": "verbal-nigeria",
   "metadata": {},
   "outputs": [
    {
     "data": {
      "text/plain": [
       "'morse'"
      ]
     },
     "execution_count": 4,
     "metadata": {},
     "output_type": "execute_result"
    }
   ],
   "source": [
    "#8.2 e2f딕셔너리에서 영어 walrus를 프랑스어로 출력해보자\n",
    "e2f['Walrus']"
   ]
  },
  {
   "cell_type": "code",
   "execution_count": 5,
   "id": "equal-subsection",
   "metadata": {},
   "outputs": [
    {
     "data": {
      "text/plain": [
       "{'chien': 'Dog', 'chat': 'Cat', 'morse': 'Walrus'}"
      ]
     },
     "execution_count": 5,
     "metadata": {},
     "output_type": "execute_result"
    }
   ],
   "source": [
    "#8.3 e2f딕셔너리에서f2e딕셔너리라는 영어-프랑스어 사전을 만들어보자(items메서드사용)\n",
    "f2e = {}\n",
    "for english, french in e2f.items():\n",
    "    f2e[french] = english\n",
    "f2e    "
   ]
  },
  {
   "cell_type": "code",
   "execution_count": 6,
   "id": "beginning-clearing",
   "metadata": {},
   "outputs": [
    {
     "data": {
      "text/plain": [
       "'Dog'"
      ]
     },
     "execution_count": 6,
     "metadata": {},
     "output_type": "execute_result"
    }
   ],
   "source": [
    "#8.4 e2f딕셔너리를 사용해서 프랑스어chien을 영어로 출력해보자\n",
    "f2e['chien']"
   ]
  },
  {
   "cell_type": "code",
   "execution_count": 8,
   "id": "funny-shannon",
   "metadata": {},
   "outputs": [
    {
     "data": {
      "text/plain": [
       "{'Cat', 'Dog', 'Walrus'}"
      ]
     },
     "execution_count": 8,
     "metadata": {},
     "output_type": "execute_result"
    }
   ],
   "source": [
    "#8.5 e2f딕셔너리의 영어 단어키들을 출력해보자\n",
    "set(e2f.keys())"
   ]
  },
  {
   "cell_type": "code",
   "execution_count": 10,
   "id": "rubber-building",
   "metadata": {},
   "outputs": [],
   "source": [
    "#8.6 이차원 딕셔너리life를 만들어보자. 최상위키는 'animals', 'plants', 'other'다.그리고\n",
    "#    'animals'는 각각 'cats', 'octopi', 'emus'를 키로하고, 'Henri', 'Grumpy','Lucy'\n",
    "#    값으로 하는 또 다른 딕셔너리를 참조하고있다. 나머지 요소는 빈 딕셔너리를 참조한다\n",
    "life = {\n",
    "    'animals' : {'cats' : ['Henri', 'Grumpy', 'Lucy'],'octopi' : {},'emus' : {}},\n",
    "    'plants' : {},'other' : {}}"
   ]
  },
  {
   "cell_type": "code",
   "execution_count": 11,
   "id": "numeric-azerbaijan",
   "metadata": {},
   "outputs": [
    {
     "name": "stdout",
     "output_type": "stream",
     "text": [
      "dict_keys(['animals', 'plants', 'other'])\n"
     ]
    }
   ],
   "source": [
    "#8.7 life 딕셔너리의 최상위 키를 출력해보자\n",
    "print(life.keys())"
   ]
  },
  {
   "cell_type": "code",
   "execution_count": 14,
   "id": "durable-elements",
   "metadata": {},
   "outputs": [
    {
     "name": "stdout",
     "output_type": "stream",
     "text": [
      "dict_keys(['cats', 'octopi', 'emus'])\n"
     ]
    }
   ],
   "source": [
    "#8.8 life['animals']의 모든키를 출력해보자\n",
    "print(life['animals'].keys())"
   ]
  },
  {
   "cell_type": "code",
   "execution_count": 16,
   "id": "metric-gibraltar",
   "metadata": {},
   "outputs": [
    {
     "name": "stdout",
     "output_type": "stream",
     "text": [
      "['Henri', 'Grumpy', 'Lucy']\n"
     ]
    }
   ],
   "source": [
    "#8.9 life['animals']['cats']의 모든 값을 출력해보자\n",
    "print(life['animals']['cats'])"
   ]
  },
  {
   "cell_type": "code",
   "execution_count": 17,
   "id": "friendly-desktop",
   "metadata": {},
   "outputs": [
    {
     "data": {
      "text/plain": [
       "{0: 0, 1: 1, 2: 4, 3: 9, 4: 16, 5: 25, 6: 36, 7: 49, 8: 64, 9: 81}"
      ]
     },
     "execution_count": 17,
     "metadata": {},
     "output_type": "execute_result"
    }
   ],
   "source": [
    "#8.10 딕셔너리 컴프리헨션으로 squares 딕셔너리를 생성한다. range(10)를 키로하고, 각키의 제곱을 값으로한다.\n",
    "squares ={key : key*key for key in range(10)}\n",
    "squares"
   ]
  },
  {
   "cell_type": "code",
   "execution_count": 18,
   "id": "collect-upset",
   "metadata": {},
   "outputs": [
    {
     "data": {
      "text/plain": [
       "{1, 3, 5, 7, 9}"
      ]
     },
     "execution_count": 18,
     "metadata": {},
     "output_type": "execute_result"
    }
   ],
   "source": [
    "#8.11 셋 컴프리헨션을 이용하여 range(10)에서 홀수 셋을 만든다.\n",
    "odd = {number for number in range(10) if number %2 ==1}\n",
    "odd"
   ]
  },
  {
   "cell_type": "code",
   "execution_count": 20,
   "id": "norwegian-ukraine",
   "metadata": {},
   "outputs": [
    {
     "name": "stdout",
     "output_type": "stream",
     "text": [
      "Got 0\n",
      "Got 1\n",
      "Got 2\n",
      "Got 3\n",
      "Got 4\n",
      "Got 5\n",
      "Got 6\n",
      "Got 7\n",
      "Got 8\n",
      "Got 9\n"
     ]
    }
   ],
   "source": [
    "#8.12 제너레이터 컴프리헨션을 이용하여 문자열 'Got'과 range(10)의  각 숫자를 반환한다. \n",
    "#      for문을 사용해서 제너레이터를 순회한다.\n",
    "for thing in ('Got %s' %number for number in range(10)):\n",
    "    print(thing)"
   ]
  },
  {
   "cell_type": "code",
   "execution_count": 23,
   "id": "centered-calculator",
   "metadata": {},
   "outputs": [
    {
     "data": {
      "text/plain": [
       "{'optimist': 'The glass is half full',\n",
       " 'pessimist': 'The glass is half empty',\n",
       " 'troll': 'How did you get a glass?'}"
      ]
     },
     "execution_count": 23,
     "metadata": {},
     "output_type": "execute_result"
    }
   ],
   "source": [
    "#8.13 zip()을 사용해서 딕셯너리를 생성한다. 키로('optimist','pessimist','troll')튜플을사용하고\n",
    "#     값으로 ('The glass is half full', 'The glass is half empty', 'How did you get a glass?')\n",
    "#     튜플을사용한다.\n",
    "keys = ('optimist','pessimist','troll')\n",
    "values = ('The glass is half full', 'The glass is half empty', 'How did you get a glass?')\n",
    "dict(zip(keys, values))"
   ]
  },
  {
   "cell_type": "code",
   "execution_count": 25,
   "id": "supposed-defense",
   "metadata": {},
   "outputs": [
    {
     "data": {
      "text/plain": [
       "{'Creature of habit': 'A nun turns into a mon ster',\n",
       " 'Crewel Fate': 'A haunted yarn shop'}"
      ]
     },
     "execution_count": 25,
     "metadata": {},
     "output_type": "execute_result"
    }
   ],
   "source": [
    "#8.14 zip()을 사용해서 다음 두 리스트를 짝으로 하는 movies딕셔너리를 만들어보자\n",
    "titles = ['Creature of habit', 'Crewel Fate']\n",
    "plots = ['A nun turns into a mon ster', 'A haunted yarn shop']\n",
    "movie = dict(zip(titles,plots))\n",
    "movie"
   ]
  }
 ],
 "metadata": {
  "kernelspec": {
   "display_name": "Python 3",
   "language": "python",
   "name": "python3"
  },
  "language_info": {
   "codemirror_mode": {
    "name": "ipython",
    "version": 3
   },
   "file_extension": ".py",
   "mimetype": "text/x-python",
   "name": "python",
   "nbconvert_exporter": "python",
   "pygments_lexer": "ipython3",
   "version": "3.9.1"
  }
 },
 "nbformat": 4,
 "nbformat_minor": 5
}
