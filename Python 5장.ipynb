{
 "cells": [
  {
   "cell_type": "code",
   "execution_count": 1,
   "id": "plain-lender",
   "metadata": {},
   "outputs": [
    {
     "data": {
      "text/plain": [
       "'Snap'"
      ]
     },
     "execution_count": 1,
     "metadata": {},
     "output_type": "execute_result"
    }
   ],
   "source": [
    "'Snap'"
   ]
  },
  {
   "cell_type": "code",
   "execution_count": 2,
   "id": "induced-amazon",
   "metadata": {},
   "outputs": [
    {
     "data": {
      "text/plain": [
       "'snap'"
      ]
     },
     "execution_count": 2,
     "metadata": {},
     "output_type": "execute_result"
    }
   ],
   "source": [
    "\"snap\""
   ]
  },
  {
   "cell_type": "code",
   "execution_count": 3,
   "id": "relative-activity",
   "metadata": {},
   "outputs": [
    {
     "data": {
      "text/plain": [
       "\"'hey'said the naysayer\""
      ]
     },
     "execution_count": 3,
     "metadata": {},
     "output_type": "execute_result"
    }
   ],
   "source": [
    "\"'hey'said the naysayer\"\n",
    "#\"\"큰따옴표 안에 ''작은 따옴표 드갈수 있다"
   ]
  },
  {
   "cell_type": "code",
   "execution_count": 4,
   "id": "dress-projection",
   "metadata": {},
   "outputs": [
    {
     "data": {
      "text/plain": [
       "'the rare double quote in captivity:\".'"
      ]
     },
     "execution_count": 4,
     "metadata": {},
     "output_type": "execute_result"
    }
   ],
   "source": [
    "'the rare double quote in captivity:\".'\n",
    "#''작은따옴표 안에 \"\"큰따옴표 드갈수 있다"
   ]
  },
  {
   "cell_type": "code",
   "execution_count": 5,
   "id": "collective-grenada",
   "metadata": {},
   "outputs": [
    {
     "data": {
      "text/plain": [
       "'a\"two by four\"is actually 1 1/2\" x 3 1/2\".'"
      ]
     },
     "execution_count": 5,
     "metadata": {},
     "output_type": "execute_result"
    }
   ],
   "source": [
    "'a\"two by four\"is actually 1 1/2\" x 3 1/2\".'"
   ]
  },
  {
   "cell_type": "code",
   "execution_count": 6,
   "id": "patient-liechtenstein",
   "metadata": {},
   "outputs": [
    {
     "data": {
      "text/plain": [
       "'boom!'"
      ]
     },
     "execution_count": 6,
     "metadata": {},
     "output_type": "execute_result"
    }
   ],
   "source": [
    "'''boom!'''"
   ]
  },
  {
   "cell_type": "code",
   "execution_count": 9,
   "id": "common-netherlands",
   "metadata": {},
   "outputs": [
    {
     "data": {
      "text/plain": [
       "'boom!'"
      ]
     },
     "execution_count": 9,
     "metadata": {},
     "output_type": "execute_result"
    }
   ],
   "source": [
    "\"\"\"boom!\"\"\""
   ]
  },
  {
   "cell_type": "code",
   "execution_count": 16,
   "id": "dependent-analyst",
   "metadata": {},
   "outputs": [
    {
     "name": "stdout",
     "output_type": "stream",
     "text": [
      "There was a Young Lady of Norway,\n",
      "...Who casually sat in a door way;\n",
      "...When the door squeezed her flat,\n",
      "...She exclaimed, \"What of that?\"\n",
      "...This courageous Young Lady of Norway.\n"
     ]
    }
   ],
   "source": [
    "poem = '''There was a Young Lady of Norway,\n",
    "...Who casually sat in a door way;\n",
    "...When the door squeezed her flat,\n",
    "...She exclaimed, \"What of that?\"\n",
    "...This courageous Young Lady of Norway.'''\n",
    "print(poem)"
   ]
  },
  {
   "cell_type": "code",
   "execution_count": 14,
   "id": "perceived-lying",
   "metadata": {},
   "outputs": [
    {
     "ename": "SyntaxError",
     "evalue": "EOL while scanning string literal (<ipython-input-14-0f5a3ca5feec>, line 1)",
     "output_type": "error",
     "traceback": [
      "\u001b[0;36m  File \u001b[0;32m\"<ipython-input-14-0f5a3ca5feec>\"\u001b[0;36m, line \u001b[0;32m1\u001b[0m\n\u001b[0;31m    poem = 'There was a Young Lady of Norway,\u001b[0m\n\u001b[0m                                             ^\u001b[0m\n\u001b[0;31mSyntaxError\u001b[0m\u001b[0;31m:\u001b[0m EOL while scanning string literal\n"
     ]
    }
   ],
   "source": [
    "poem = 'There was a Young Lady of Norway,\n",
    "...Who casually sat in a door way;\n",
    "...When the door squeezed her flat,\n",
    "...She exclaimed, \"What of that?\"\n",
    "...This courageous Young Lady of Norway.'\n",
    "# '따옴표 하나는 여러줄을 보존을 못하므로 '''를 해야한다"
   ]
  },
  {
   "cell_type": "code",
   "execution_count": 21,
   "id": "following-forum",
   "metadata": {},
   "outputs": [
    {
     "data": {
      "text/plain": [
       "'I do not lke thee, Doctor Fell.\\nThe reason why, I cannot tell.\\nBut this I know, and know full well:\\nI do not like thee, Doctor Fell.\\n'"
      ]
     },
     "execution_count": 21,
     "metadata": {},
     "output_type": "execute_result"
    }
   ],
   "source": [
    "poem2 = '''I do not lke thee, Doctor Fell.\n",
    "The reason why, I cannot tell.\n",
    "But this I know, and know full well:\n",
    "I do not like thee, Doctor Fell.\n",
    "'''\n",
    "poem2"
   ]
  },
  {
   "cell_type": "code",
   "execution_count": 22,
   "id": "twenty-leonard",
   "metadata": {},
   "outputs": [
    {
     "name": "stdout",
     "output_type": "stream",
     "text": [
      "I do not lke thee, Doctor Fell.\n",
      "The reason why, I cannot tell.\n",
      "But this I know, and know full well:\n",
      "I do not like thee, Doctor Fell.\n",
      "\n"
     ]
    }
   ],
   "source": [
    "print(poem2)"
   ]
  },
  {
   "cell_type": "code",
   "execution_count": 23,
   "id": "nonprofit-train",
   "metadata": {},
   "outputs": [
    {
     "name": "stdout",
     "output_type": "stream",
     "text": [
      "Give us some space\n"
     ]
    }
   ],
   "source": [
    "print('Give', \"us\", '''some''', \"\"\"space\"\"\")\n",
    "#print 는 문자열에서 따옴표를 제거한 뒤 내용을 출력한다."
   ]
  },
  {
   "cell_type": "code",
   "execution_count": 24,
   "id": "contrary-division",
   "metadata": {},
   "outputs": [
    {
     "data": {
      "text/plain": [
       "\"'Guten Morgen, mein Herr!'\\nsaid mad king Ludwig to his wig.\""
      ]
     },
     "execution_count": 24,
     "metadata": {},
     "output_type": "execute_result"
    }
   ],
   "source": [
    "\"\"\"'Guten Morgen, mein Herr!'\n",
    "said mad king Ludwig to his wig.\"\"\""
   ]
  },
  {
   "cell_type": "code",
   "execution_count": 25,
   "id": "public-floor",
   "metadata": {},
   "outputs": [
    {
     "data": {
      "text/plain": [
       "'98.8'"
      ]
     },
     "execution_count": 25,
     "metadata": {},
     "output_type": "execute_result"
    }
   ],
   "source": [
    "str(98.8)\n",
    "#str()은 다른 데이터 타입을 문자열을 변환할 수 있다."
   ]
  },
  {
   "cell_type": "code",
   "execution_count": 27,
   "id": "alike-campus",
   "metadata": {},
   "outputs": [
    {
     "name": "stdout",
     "output_type": "stream",
     "text": [
      "A man, \n",
      "A plan,\n",
      "A canal:Panama.\n"
     ]
    }
   ],
   "source": [
    "palindrome = 'A man, \\nA plan,\\nA canal:Panama.'\n",
    "print(palindrome)"
   ]
  },
  {
   "cell_type": "code",
   "execution_count": 28,
   "id": "extraordinary-washer",
   "metadata": {},
   "outputs": [
    {
     "name": "stdout",
     "output_type": "stream",
     "text": [
      "\tabc\n"
     ]
    }
   ],
   "source": [
    "#텍스트 공백에 사용디는 이스케이프 시퀀스 \\t를 살펴보자(t=tab)\n",
    "print('\\tabc')"
   ]
  },
  {
   "cell_type": "code",
   "execution_count": 29,
   "id": "developmental-protein",
   "metadata": {},
   "outputs": [
    {
     "name": "stdout",
     "output_type": "stream",
     "text": [
      "a\tbc\n"
     ]
    }
   ],
   "source": [
    "print('a\\tbc')"
   ]
  },
  {
   "cell_type": "code",
   "execution_count": 45,
   "id": "expressed-montana",
   "metadata": {},
   "outputs": [
    {
     "name": "stdout",
     "output_type": "stream",
     "text": [
      "ab\tc\n"
     ]
    }
   ],
   "source": [
    "print('ab\\tc')"
   ]
  },
  {
   "cell_type": "code",
   "execution_count": 31,
   "id": "differential-fetish",
   "metadata": {},
   "outputs": [
    {
     "data": {
      "text/plain": [
       "'\"I did nothing !\"he said.\"Or that other thing.\"'"
      ]
     },
     "execution_count": 31,
     "metadata": {},
     "output_type": "execute_result"
    }
   ],
   "source": [
    "# \\'따옴표 \\\" 큰따옴표\n",
    "testimony = \"\\\"I did nothing !\\\"he said.\\\"Or that other thing.\\\"\"\n",
    "testimony"
   ]
  },
  {
   "cell_type": "code",
   "execution_count": 33,
   "id": "hundred-builder",
   "metadata": {},
   "outputs": [
    {
     "name": "stdout",
     "output_type": "stream",
     "text": [
      "The World's largest rubber duck was 54' 2\" by 65'7\"by 105'\n"
     ]
    }
   ],
   "source": [
    "fact= \"The World's largest rubber duck was 54' 2\\\" by 65'7\\\"by 105'\"\n",
    "print(fact)"
   ]
  },
  {
   "cell_type": "code",
   "execution_count": 34,
   "id": "lyric-shooting",
   "metadata": {},
   "outputs": [
    {
     "name": "stdout",
     "output_type": "stream",
     "text": [
      "The backslash (\\) bends over backwards to please you.\n"
     ]
    }
   ],
   "source": [
    "# \\를 입력하고 싶으면  \\\\처럼 두 번 입력해라\n",
    "speech = 'The backslash (\\\\) bends over backwards to please you.'\n",
    "print(speech)"
   ]
  },
  {
   "cell_type": "code",
   "execution_count": 35,
   "id": "postal-uncle",
   "metadata": {},
   "outputs": [
    {
     "data": {
      "text/plain": [
       "'Type a \\\\n to get a new line in a normal string'"
      ]
     },
     "execution_count": 35,
     "metadata": {},
     "output_type": "execute_result"
    }
   ],
   "source": [
    "#원시 문자열은 이스케이프 문자를 무효화 한다\n",
    "info = r'Type a \\n to get a new line in a normal string'\n",
    "info\n"
   ]
  },
  {
   "cell_type": "code",
   "execution_count": 36,
   "id": "interested-tribute",
   "metadata": {},
   "outputs": [
    {
     "name": "stdout",
     "output_type": "stream",
     "text": [
      "Type a \\n to get a new line in a normal string\n"
     ]
    }
   ],
   "source": [
    "print(info)"
   ]
  },
  {
   "cell_type": "code",
   "execution_count": 38,
   "id": "metropolitan-wrestling",
   "metadata": {},
   "outputs": [
    {
     "data": {
      "text/plain": [
       "'Boys and girls, come out to play.\\nThe moon doth shine as bright as day.'"
      ]
     },
     "execution_count": 38,
     "metadata": {},
     "output_type": "execute_result"
    }
   ],
   "source": [
    "poem = r'''Boys and girls, come out to play.\n",
    "The moon doth shine as bright as day.'''\n",
    "poem"
   ]
  },
  {
   "cell_type": "code",
   "execution_count": 39,
   "id": "indirect-passage",
   "metadata": {},
   "outputs": [
    {
     "name": "stdout",
     "output_type": "stream",
     "text": [
      "Boys and girls, come out to play.\n",
      "The moon doth shine as bright as day.\n"
     ]
    }
   ],
   "source": [
    "#f F 로 시작하는 원시문자열 : 포매팅 foramting에 사용\n",
    "#r R 로 시작하는 원시문자열 : 이스케이프 시퀀스를 방지하는데 사용한다\n",
    "#fr 원시 f문자열이있다\n",
    "#u로 시작하는 ㅇ문자열 : 일반 문자열과 같은 유니코드 문자열을 의미한다\n",
    "#b로 시작하는 문자열은 바이트타입\n",
    "print(poem)"
   ]
  },
  {
   "cell_type": "code",
   "execution_count": 42,
   "id": "regulated-canyon",
   "metadata": {},
   "outputs": [
    {
     "data": {
      "text/plain": [
       "'Release the kraken! no, wait!'"
      ]
     },
     "execution_count": 42,
     "metadata": {},
     "output_type": "execute_result"
    }
   ],
   "source": [
    "#결합하기\n",
    "'Release the kraken! ' + 'no, wait!'"
   ]
  },
  {
   "cell_type": "code",
   "execution_count": 43,
   "id": "olympic-maker",
   "metadata": {},
   "outputs": [
    {
     "data": {
      "text/plain": [
       "'My word! A gnetleman caller!'"
      ]
     },
     "execution_count": 43,
     "metadata": {},
     "output_type": "execute_result"
    }
   ],
   "source": [
    "\"My word! \" \"A gnetleman caller!\""
   ]
  },
  {
   "cell_type": "code",
   "execution_count": 44,
   "id": "greatest-ghana",
   "metadata": {},
   "outputs": [
    {
     "data": {
      "text/plain": [
       "'aeiou'"
      ]
     },
     "execution_count": 44,
     "metadata": {},
     "output_type": "execute_result"
    }
   ],
   "source": [
    "#괄호로 묵어서 여려줄에 걸쳐문자열 출력할 수 있다.\n",
    "vowels = ('a'\n",
    "          \"e\"'''i'''\n",
    "         'o'\"\"\"u\"\"\"\n",
    "         )\n",
    "vowels"
   ]
  },
  {
   "cell_type": "code",
   "execution_count": 46,
   "id": "liquid-press",
   "metadata": {},
   "outputs": [
    {
     "data": {
      "text/plain": [
       "'Duck.Duck.Grey Duck!'"
      ]
     },
     "execution_count": 46,
     "metadata": {},
     "output_type": "execute_result"
    }
   ],
   "source": [
    "a = 'Duck.'\n",
    "b = a\n",
    "c = 'Grey Duck!'\n",
    "a+b+c"
   ]
  },
  {
   "cell_type": "code",
   "execution_count": 47,
   "id": "portable-platinum",
   "metadata": {},
   "outputs": [
    {
     "name": "stdout",
     "output_type": "stream",
     "text": [
      "Duck. Duck. Grey Duck!\n"
     ]
    }
   ],
   "source": [
    "print(a,b,c)"
   ]
  },
  {
   "cell_type": "code",
   "execution_count": 48,
   "id": "determined-pressing",
   "metadata": {},
   "outputs": [
    {
     "name": "stdout",
     "output_type": "stream",
     "text": [
      "NaNaNaNa\n",
      "NaNaNaNa\n",
      "HeyHeyHey\n",
      "Goodbye\n"
     ]
    }
   ],
   "source": [
    "start = 'Na'*4+'\\n' #4번 na를쓰고 줄바꿈\n",
    "middle = 'Hey'*3+'\\n'\n",
    "end = 'Goodbye'\n",
    "print(start+start+middle+end)"
   ]
  },
  {
   "cell_type": "code",
   "execution_count": 49,
   "id": "monetary-clock",
   "metadata": {},
   "outputs": [
    {
     "data": {
      "text/plain": [
       "'a'"
      ]
     },
     "execution_count": 49,
     "metadata": {},
     "output_type": "execute_result"
    }
   ],
   "source": [
    "letters = 'abcdefghijklmnopqrstuvwxyz'\n",
    "letters[0]"
   ]
  },
  {
   "cell_type": "code",
   "execution_count": 4,
   "id": "connected-wisdom",
   "metadata": {},
   "outputs": [
    {
     "name": "stdout",
     "output_type": "stream",
     "text": [
      "b k z\n"
     ]
    }
   ],
   "source": [
    "letters = 'abcdefghijklmnopqrstuvwxyz'\n",
    "print(letters[1],letters[10],letters[-1])"
   ]
  },
  {
   "cell_type": "code",
   "execution_count": 5,
   "id": "other-struggle",
   "metadata": {},
   "outputs": [
    {
     "data": {
      "text/plain": [
       "'Penny'"
      ]
     },
     "execution_count": 5,
     "metadata": {},
     "output_type": "execute_result"
    }
   ],
   "source": [
    "#Henny를 Penny로 바꾸고싶을때\n",
    "name = 'Henny'\n",
    "name.replace('H','P')\n"
   ]
  },
  {
   "cell_type": "code",
   "execution_count": 6,
   "id": "interpreted-rover",
   "metadata": {},
   "outputs": [
    {
     "data": {
      "text/plain": [
       "'Penny'"
      ]
     },
     "execution_count": 6,
     "metadata": {},
     "output_type": "execute_result"
    }
   ],
   "source": [
    "'P'+name[1:]\n",
    "#교체해서 출력하는 것이라 name에 Penny라 저장되는 것이 아님"
   ]
  },
  {
   "cell_type": "code",
   "execution_count": 7,
   "id": "pharmaceutical-stick",
   "metadata": {},
   "outputs": [
    {
     "data": {
      "text/plain": [
       "'Henny'"
      ]
     },
     "execution_count": 7,
     "metadata": {},
     "output_type": "execute_result"
    }
   ],
   "source": [
    "name"
   ]
  },
  {
   "cell_type": "code",
   "execution_count": 8,
   "id": "center-dodge",
   "metadata": {},
   "outputs": [
    {
     "data": {
      "text/plain": [
       "'1234567'"
      ]
     },
     "execution_count": 8,
     "metadata": {},
     "output_type": "execute_result"
    }
   ],
   "source": [
    "#[:] 처음부터 끝까지 전체 시퀀스 추출\n",
    "letters = '1234567'\n",
    "letters[:]"
   ]
  },
  {
   "cell_type": "code",
   "execution_count": 9,
   "id": "purple-technique",
   "metadata": {},
   "outputs": [
    {
     "data": {
      "text/plain": [
       "'4567'"
      ]
     },
     "execution_count": 9,
     "metadata": {},
     "output_type": "execute_result"
    }
   ],
   "source": [
    "#[start:] start 오프셋부터 끝까지 시퀀스를 추출한다.\n",
    "letters[3:]"
   ]
  },
  {
   "cell_type": "code",
   "execution_count": 11,
   "id": "floral-hampton",
   "metadata": {},
   "outputs": [
    {
     "data": {
      "text/plain": [
       "'1234'"
      ]
     },
     "execution_count": 11,
     "metadata": {},
     "output_type": "execute_result"
    }
   ],
   "source": [
    "#[:end] 시작부터 end-1오프셋까지 시퀀스를 추출한다\n",
    "letters[: 4]"
   ]
  },
  {
   "cell_type": "code",
   "execution_count": 13,
   "id": "mechanical-hurricane",
   "metadata": {},
   "outputs": [
    {
     "data": {
      "text/plain": [
       "'abcd'"
      ]
     },
     "execution_count": 13,
     "metadata": {},
     "output_type": "execute_result"
    }
   ],
   "source": [
    "letters = 'abcdefghijklmnopqrstuvwxyz'\n",
    "letters[:4]"
   ]
  },
  {
   "cell_type": "code",
   "execution_count": 14,
   "id": "reasonable-adult",
   "metadata": {},
   "outputs": [
    {
     "data": {
      "text/plain": [
       "'bcd'"
      ]
     },
     "execution_count": 14,
     "metadata": {},
     "output_type": "execute_result"
    }
   ],
   "source": [
    "#[start:end] start부터 end-1까지\n",
    "letters[1:4]"
   ]
  },
  {
   "cell_type": "code",
   "execution_count": 15,
   "id": "several-classroom",
   "metadata": {},
   "outputs": [
    {
     "data": {
      "text/plain": [
       "'adgj'"
      ]
     },
     "execution_count": 15,
     "metadata": {},
     "output_type": "execute_result"
    }
   ],
   "source": [
    "#[start : end : step] step만큼 문자를 건너뛰면서 start 오프셋부터 end오프셋까지\n",
    "letters[0:10:3]"
   ]
  },
  {
   "cell_type": "code",
   "execution_count": 16,
   "id": "portuguese-desktop",
   "metadata": {},
   "outputs": [
    {
     "data": {
      "text/plain": [
       "26"
      ]
     },
     "execution_count": 16,
     "metadata": {},
     "output_type": "execute_result"
    }
   ],
   "source": [
    "#문자열 길이 len\n",
    "len(letters)"
   ]
  },
  {
   "cell_type": "code",
   "execution_count": 17,
   "id": "adaptive-sweden",
   "metadata": {},
   "outputs": [
    {
     "data": {
      "text/plain": [
       "0"
      ]
     },
     "execution_count": 17,
     "metadata": {},
     "output_type": "execute_result"
    }
   ],
   "source": [
    "empty = \"\"\n",
    "len(empty)"
   ]
  },
  {
   "cell_type": "code",
   "execution_count": 19,
   "id": "angry-customs",
   "metadata": {},
   "outputs": [
    {
     "data": {
      "text/plain": [
       "False"
      ]
     },
     "execution_count": 19,
     "metadata": {},
     "output_type": "execute_result"
    }
   ],
   "source": [
    "bool(len(empty))"
   ]
  },
  {
   "cell_type": "code",
   "execution_count": 23,
   "id": "ignored-stroke",
   "metadata": {},
   "outputs": [
    {
     "data": {
      "text/plain": [
       "['get gloves', 'get mask ', 'give cat vitamins', 'call ambulance']"
      ]
     },
     "execution_count": 23,
     "metadata": {},
     "output_type": "execute_result"
    }
   ],
   "source": [
    "#문자열 나누기 split()\n",
    "tasks = 'get gloves,get mask ,give cat vitamins,call ambulance'\n",
    "tasks.split(',')"
   ]
  },
  {
   "cell_type": "code",
   "execution_count": 22,
   "id": "sufficient-budget",
   "metadata": {},
   "outputs": [
    {
     "data": {
      "text/plain": [
       "['get,gloves,get', 'mask', ',give', 'cat', 'vitamins,call', 'ambulance']"
      ]
     },
     "execution_count": 22,
     "metadata": {},
     "output_type": "execute_result"
    }
   ],
   "source": [
    "tasks.split()"
   ]
  },
  {
   "cell_type": "code",
   "execution_count": 24,
   "id": "contained-surge",
   "metadata": {},
   "outputs": [
    {
     "name": "stdout",
     "output_type": "stream",
     "text": [
      "Found and signing book deals: Yeti,Bigfoot,Loch Ness Monster\n"
     ]
    }
   ],
   "source": [
    "#문자열 결합하기 join()\n",
    "crypto_list = ['Yeti','Bigfoot','Loch Ness Monster']\n",
    "crypto_string =','.join(crypto_list)\n",
    "print('Found and signing book deals:', crypto_string)"
   ]
  },
  {
   "cell_type": "code",
   "execution_count": 25,
   "id": "necessary-petroleum",
   "metadata": {},
   "outputs": [
    {
     "data": {
      "text/plain": [
       "'a marmoset goes into a bar ...'"
      ]
     },
     "execution_count": 25,
     "metadata": {},
     "output_type": "execute_result"
    }
   ],
   "source": [
    "#문자열 대체하기 replace()\n",
    "setup= \"a duck goes into a bar ...\"\n",
    "setup.replace('duck','marmoset')\n"
   ]
  },
  {
   "cell_type": "code",
   "execution_count": 26,
   "id": "heated-footwear",
   "metadata": {},
   "outputs": [
    {
     "data": {
      "text/plain": [
       "'a duck goes into a bar ...'"
      ]
     },
     "execution_count": 26,
     "metadata": {},
     "output_type": "execute_result"
    }
   ],
   "source": [
    "setup"
   ]
  },
  {
   "cell_type": "code",
   "execution_count": 27,
   "id": "adjustable-concept",
   "metadata": {},
   "outputs": [
    {
     "data": {
      "text/plain": [
       "'a famous duck goes into a famous ba famousr ...'"
      ]
     },
     "execution_count": 27,
     "metadata": {},
     "output_type": "execute_result"
    }
   ],
   "source": [
    "setup.replace('a','a famous',100)"
   ]
  },
  {
   "cell_type": "code",
   "execution_count": 28,
   "id": "interested-liabilities",
   "metadata": {},
   "outputs": [
    {
     "data": {
      "text/plain": [
       "'a famous duck goes into a famous ba famousr ...'"
      ]
     },
     "execution_count": 28,
     "metadata": {},
     "output_type": "execute_result"
    }
   ],
   "source": [
    "setup.replace('a','a famous',101)"
   ]
  },
  {
   "cell_type": "code",
   "execution_count": 35,
   "id": "verified-federation",
   "metadata": {},
   "outputs": [
    {
     "data": {
      "text/plain": [
       "'earth'"
      ]
     },
     "execution_count": 35,
     "metadata": {},
     "output_type": "execute_result"
    }
   ],
   "source": [
    "#문자열 strip()\n",
    "world = \" earth \"\n",
    "world.strip()"
   ]
  },
  {
   "cell_type": "code",
   "execution_count": 36,
   "id": "timely-removal",
   "metadata": {},
   "outputs": [
    {
     "data": {
      "text/plain": [
       "'earth'"
      ]
     },
     "execution_count": 36,
     "metadata": {},
     "output_type": "execute_result"
    }
   ],
   "source": [
    "world.strip(' ')"
   ]
  },
  {
   "cell_type": "code",
   "execution_count": 37,
   "id": "divine-apple",
   "metadata": {},
   "outputs": [
    {
     "data": {
      "text/plain": [
       "'earth '"
      ]
     },
     "execution_count": 37,
     "metadata": {},
     "output_type": "execute_result"
    }
   ],
   "source": [
    "world.lstrip()"
   ]
  },
  {
   "cell_type": "code",
   "execution_count": 38,
   "id": "german-title",
   "metadata": {},
   "outputs": [
    {
     "data": {
      "text/plain": [
       "' earth'"
      ]
     },
     "execution_count": 38,
     "metadata": {},
     "output_type": "execute_result"
    }
   ],
   "source": [
    "world.rstrip()"
   ]
  },
  {
   "cell_type": "code",
   "execution_count": 1,
   "id": "deluxe-creation",
   "metadata": {},
   "outputs": [
    {
     "data": {
      "text/plain": [
       "'What the'"
      ]
     },
     "execution_count": 1,
     "metadata": {},
     "output_type": "execute_result"
    }
   ],
   "source": [
    "blurt = \"What the...!?\"\n",
    "blurt.strip('.?!')"
   ]
  },
  {
   "cell_type": "code",
   "execution_count": 2,
   "id": "scheduled-baghdad",
   "metadata": {},
   "outputs": [
    {
     "data": {
      "text/plain": [
       "' \\t\\n\\r\\x0b\\x0c'"
      ]
     },
     "execution_count": 2,
     "metadata": {},
     "output_type": "execute_result"
    }
   ],
   "source": [
    "import string\n",
    "string.whitespace\n"
   ]
  },
  {
   "cell_type": "code",
   "execution_count": 3,
   "id": "equal-laugh",
   "metadata": {},
   "outputs": [
    {
     "data": {
      "text/plain": [
       "'!\"#$%&\\'()*+,-./:;<=>?@[\\\\]^_`{|}~'"
      ]
     },
     "execution_count": 3,
     "metadata": {},
     "output_type": "execute_result"
    }
   ],
   "source": [
    "string.punctuation"
   ]
  },
  {
   "cell_type": "code",
   "execution_count": 4,
   "id": "incorporated-guinea",
   "metadata": {},
   "outputs": [
    {
     "data": {
      "text/plain": [
       "'What the'"
      ]
     },
     "execution_count": 4,
     "metadata": {},
     "output_type": "execute_result"
    }
   ],
   "source": [
    "blurt.strip(string.punctuation)"
   ]
  },
  {
   "cell_type": "code",
   "execution_count": 9,
   "id": "verified-gospel",
   "metadata": {},
   "outputs": [
    {
     "data": {
      "text/plain": [
       "'What in tarnation'"
      ]
     },
     "execution_count": 9,
     "metadata": {},
     "output_type": "execute_result"
    }
   ],
   "source": [
    "prospector = \"What in tarnation...??!!\"\n",
    "prospector.strip(string.whitespace + string.punctuation)\n",
    "#strip 부분 다시 공부하기 뭔소리인지 하나도 모르겄네"
   ]
  },
  {
   "cell_type": "code",
   "execution_count": 11,
   "id": "listed-cream",
   "metadata": {},
   "outputs": [
    {
     "data": {
      "text/plain": [
       "'All that doth'"
      ]
     },
     "execution_count": 11,
     "metadata": {},
     "output_type": "execute_result"
    }
   ],
   "source": [
    "poem = '''All that doth flow we cannot liquid name\n",
    "or else would fire and water be the same;\n",
    "but that is liquid which is moist and wet\n",
    "fire that property can never get.\n",
    "then 'tis not cold that doth the fire put out\n",
    "but 'tis the wet that makes it die,no doubt. '''\n",
    "poem[:13]#처음 13자 출력"
   ]
  },
  {
   "cell_type": "code",
   "execution_count": 12,
   "id": "considerable-webmaster",
   "metadata": {},
   "outputs": [
    {
     "data": {
      "text/plain": [
       "250"
      ]
     },
     "execution_count": 12,
     "metadata": {},
     "output_type": "execute_result"
    }
   ],
   "source": [
    "len(poem)#총 몇글자로 되어있을까?"
   ]
  },
  {
   "cell_type": "code",
   "execution_count": 13,
   "id": "transsexual-flood",
   "metadata": {},
   "outputs": [
    {
     "data": {
      "text/plain": [
       "True"
      ]
     },
     "execution_count": 13,
     "metadata": {},
     "output_type": "execute_result"
    }
   ],
   "source": [
    "poem.startswith('All')#이 시는 All로 시작하는가?"
   ]
  },
  {
   "cell_type": "code",
   "execution_count": 16,
   "id": "round-hughes",
   "metadata": {},
   "outputs": [
    {
     "data": {
      "text/plain": [
       "False"
      ]
     },
     "execution_count": 16,
     "metadata": {},
     "output_type": "execute_result"
    }
   ],
   "source": [
    "poem.endswith('that\\'s all,folks!') #이 시는 that's all, folks!로 끝나는가?"
   ]
  },
  {
   "cell_type": "code",
   "execution_count": 17,
   "id": "coastal-mineral",
   "metadata": {},
   "outputs": [
    {
     "data": {
      "text/plain": [
       "73"
      ]
     },
     "execution_count": 17,
     "metadata": {},
     "output_type": "execute_result"
    }
   ],
   "source": [
    "# 문자열 오프셋을 찾기 위한 두 개의 메서드 find() ,index()가 있음\n",
    "word ='the'\n",
    "poem.find(word)"
   ]
  },
  {
   "cell_type": "code",
   "execution_count": 18,
   "id": "intermediate-uncertainty",
   "metadata": {},
   "outputs": [
    {
     "data": {
      "text/plain": [
       "73"
      ]
     },
     "execution_count": 18,
     "metadata": {},
     "output_type": "execute_result"
    }
   ],
   "source": [
    "poem.index(word)"
   ]
  },
  {
   "cell_type": "code",
   "execution_count": 19,
   "id": "underlying-identification",
   "metadata": {},
   "outputs": [
    {
     "data": {
      "text/plain": [
       "214"
      ]
     },
     "execution_count": 19,
     "metadata": {},
     "output_type": "execute_result"
    }
   ],
   "source": [
    "poem.rfind(word)"
   ]
  },
  {
   "cell_type": "code",
   "execution_count": 20,
   "id": "economic-benjamin",
   "metadata": {},
   "outputs": [
    {
     "data": {
      "text/plain": [
       "214"
      ]
     },
     "execution_count": 20,
     "metadata": {},
     "output_type": "execute_result"
    }
   ],
   "source": [
    "poem.rindex(word)"
   ]
  },
  {
   "cell_type": "code",
   "execution_count": 21,
   "id": "massive-semiconductor",
   "metadata": {},
   "outputs": [
    {
     "data": {
      "text/plain": [
       "-1"
      ]
     },
     "execution_count": 21,
     "metadata": {},
     "output_type": "execute_result"
    }
   ],
   "source": [
    "word = 'duck'\n",
    "poem.find(word)\n",
    "#시에 duck이란 문자가 없으므로 -1을 출력한다"
   ]
  },
  {
   "cell_type": "code",
   "execution_count": 22,
   "id": "earlier-selling",
   "metadata": {},
   "outputs": [
    {
     "data": {
      "text/plain": [
       "-1"
      ]
     },
     "execution_count": 22,
     "metadata": {},
     "output_type": "execute_result"
    }
   ],
   "source": [
    "poem.rfind(word)"
   ]
  },
  {
   "cell_type": "code",
   "execution_count": 23,
   "id": "palestinian-sharp",
   "metadata": {},
   "outputs": [
    {
     "data": {
      "text/plain": [
       "4"
      ]
     },
     "execution_count": 23,
     "metadata": {},
     "output_type": "execute_result"
    }
   ],
   "source": [
    "#시에 the개수를 알아보고자한다면\n",
    "word ='the'\n",
    "poem.count(word)"
   ]
  },
  {
   "cell_type": "code",
   "execution_count": 24,
   "id": "higher-double",
   "metadata": {},
   "outputs": [
    {
     "data": {
      "text/plain": [
       "False"
      ]
     },
     "execution_count": 24,
     "metadata": {},
     "output_type": "execute_result"
    }
   ],
   "source": [
    "#이 시가 알파벳 또는 숫자로 이루어져있나요?\n",
    "poem.isalnum()"
   ]
  },
  {
   "cell_type": "code",
   "execution_count": 25,
   "id": "worse-treasury",
   "metadata": {},
   "outputs": [
    {
     "data": {
      "text/plain": [
       "' a duck goes into  a bar'"
      ]
     },
     "execution_count": 25,
     "metadata": {},
     "output_type": "execute_result"
    }
   ],
   "source": [
    "setup= 'a duck goes into  a bar...'\n",
    "setup.strip('.')"
   ]
  },
  {
   "cell_type": "code",
   "execution_count": 26,
   "id": "searching-inspector",
   "metadata": {},
   "outputs": [
    {
     "data": {
      "text/plain": [
       "' A Duck Goes Into  A Bar...'"
      ]
     },
     "execution_count": 26,
     "metadata": {},
     "output_type": "execute_result"
    }
   ],
   "source": [
    "setup.capitalize()\n",
    "\n",
    "setup.title()#모든 단어의 첫 글자를 대문자로 만들어보자"
   ]
  },
  {
   "cell_type": "code",
   "execution_count": 27,
   "id": "cellular-hands",
   "metadata": {},
   "outputs": [
    {
     "data": {
      "text/plain": [
       "' A DUCK GOES INTO  A BAR...'"
      ]
     },
     "execution_count": 27,
     "metadata": {},
     "output_type": "execute_result"
    }
   ],
   "source": [
    "setup.upper()#모든 단어를 대문자로 만들어보자"
   ]
  },
  {
   "cell_type": "code",
   "execution_count": 29,
   "id": "demographic-belgium",
   "metadata": {},
   "outputs": [
    {
     "data": {
      "text/plain": [
       "' a duck goes into  a bar...'"
      ]
     },
     "execution_count": 29,
     "metadata": {},
     "output_type": "execute_result"
    }
   ],
   "source": [
    "setup.lower()#모든단어를 소문자로 만들어보자"
   ]
  },
  {
   "cell_type": "code",
   "execution_count": 30,
   "id": "joint-salmon",
   "metadata": {},
   "outputs": [
    {
     "data": {
      "text/plain": [
       "' A DUCK GOES INTO  A BAR...'"
      ]
     },
     "execution_count": 30,
     "metadata": {},
     "output_type": "execute_result"
    }
   ],
   "source": [
    "setup.swapcase()#대문자는 소문자로 소문자는 대문자로 만들어보자"
   ]
  },
  {
   "cell_type": "code",
   "execution_count": 42,
   "id": "trying-restaurant",
   "metadata": {},
   "outputs": [
    {
     "data": {
      "text/plain": [
       "'A duck goes into a bar...'"
      ]
     },
     "execution_count": 42,
     "metadata": {},
     "output_type": "execute_result"
    }
   ],
   "source": [
    "setup.capitalize() #첫 글자만 대문자로"
   ]
  },
  {
   "cell_type": "code",
   "execution_count": 32,
   "id": "chubby-parker",
   "metadata": {},
   "outputs": [
    {
     "data": {
      "text/plain": [
       "\"i'M IRONMAN\""
      ]
     },
     "execution_count": 32,
     "metadata": {},
     "output_type": "execute_result"
    }
   ],
   "source": [
    "setup = 'I\\'m ironman'\n",
    "setup.swapcase()"
   ]
  },
  {
   "cell_type": "code",
   "execution_count": 33,
   "id": "forward-alias",
   "metadata": {},
   "outputs": [
    {
     "data": {
      "text/plain": [
       "'  a duck goes into a bar...   '"
      ]
     },
     "execution_count": 33,
     "metadata": {},
     "output_type": "execute_result"
    }
   ],
   "source": [
    "#정렬\n",
    "setup = 'a duck goes into a bar...'\n",
    "setup.center(30)#문자열 중앙에 정렬"
   ]
  },
  {
   "cell_type": "code",
   "execution_count": 34,
   "id": "practical-healthcare",
   "metadata": {},
   "outputs": [
    {
     "data": {
      "text/plain": [
       "'a duck goes into a bar...     '"
      ]
     },
     "execution_count": 34,
     "metadata": {},
     "output_type": "execute_result"
    }
   ],
   "source": [
    "setup.ljust(30)#왼쪽으로 정렬"
   ]
  },
  {
   "cell_type": "code",
   "execution_count": 35,
   "id": "retained-sight",
   "metadata": {},
   "outputs": [
    {
     "data": {
      "text/plain": [
       "'     a duck goes into a bar...'"
      ]
     },
     "execution_count": 35,
     "metadata": {},
     "output_type": "execute_result"
    }
   ],
   "source": [
    "setup.rjust(30)#오른쪽으로 정렬"
   ]
  },
  {
   "cell_type": "code",
   "execution_count": 36,
   "id": "overall-donor",
   "metadata": {},
   "outputs": [
    {
     "data": {
      "text/plain": [
       "'42'"
      ]
     },
     "execution_count": 36,
     "metadata": {},
     "output_type": "execute_result"
    }
   ],
   "source": [
    "# %s 문자열 , %d 10진수 , %x 16진수 , %o 8진수 , %f 10진 부동소수점 , %e 지수로 나타낸 부동소수점\n",
    "'%s' %42"
   ]
  },
  {
   "cell_type": "code",
   "execution_count": 37,
   "id": "communist-upset",
   "metadata": {},
   "outputs": [
    {
     "data": {
      "text/plain": [
       "'42'"
      ]
     },
     "execution_count": 37,
     "metadata": {},
     "output_type": "execute_result"
    }
   ],
   "source": [
    "'%d' %42"
   ]
  },
  {
   "cell_type": "code",
   "execution_count": 38,
   "id": "peaceful-catalog",
   "metadata": {},
   "outputs": [
    {
     "data": {
      "text/plain": [
       "'2a'"
      ]
     },
     "execution_count": 38,
     "metadata": {},
     "output_type": "execute_result"
    }
   ],
   "source": [
    "'%x' %42"
   ]
  },
  {
   "cell_type": "code",
   "execution_count": 39,
   "id": "champion-macintosh",
   "metadata": {},
   "outputs": [
    {
     "data": {
      "text/plain": [
       "'52'"
      ]
     },
     "execution_count": 39,
     "metadata": {},
     "output_type": "execute_result"
    }
   ],
   "source": [
    "'%o' %42"
   ]
  },
  {
   "cell_type": "code",
   "execution_count": 43,
   "id": "perceived-valuable",
   "metadata": {},
   "outputs": [
    {
     "data": {
      "text/plain": [
       "'100%'"
      ]
     },
     "execution_count": 43,
     "metadata": {},
     "output_type": "execute_result"
    }
   ],
   "source": [
    "'%d%%' %100"
   ]
  },
  {
   "cell_type": "code",
   "execution_count": 44,
   "id": "foreign-accessory",
   "metadata": {},
   "outputs": [
    {
     "data": {
      "text/plain": [
       "\"My wife's favorite actor is Richard Gere\""
      ]
     },
     "execution_count": 44,
     "metadata": {},
     "output_type": "execute_result"
    }
   ],
   "source": [
    "actor = 'Richard Gere'\n",
    "cat = 'Chester'\n",
    "weight = 28\n",
    "\"My wife's favorite actor is %s\" %actor"
   ]
  },
  {
   "cell_type": "code",
   "execution_count": 46,
   "id": "rocky-drama",
   "metadata": {},
   "outputs": [
    {
     "data": {
      "text/plain": [
       "'Our cat Chester weights 28 pounds'"
      ]
     },
     "execution_count": 46,
     "metadata": {},
     "output_type": "execute_result"
    }
   ],
   "source": [
    "\"Our cat %s weights %s pounds\" %(cat,weight)"
   ]
  },
  {
   "cell_type": "code",
   "execution_count": 47,
   "id": "structural-tenant",
   "metadata": {},
   "outputs": [
    {
     "data": {
      "text/plain": [
       "'woodstuck.'"
      ]
     },
     "execution_count": 47,
     "metadata": {},
     "output_type": "execute_result"
    }
   ],
   "source": [
    "#새 스타일:{},format()\n",
    "thing = 'woodstuck'\n",
    "'{}.'.format(thing)"
   ]
  },
  {
   "cell_type": "code",
   "execution_count": 49,
   "id": "stone-factor",
   "metadata": {},
   "outputs": [
    {
     "data": {
      "text/plain": [
       "'thewoodstuck is in the lake.'"
      ]
     },
     "execution_count": 49,
     "metadata": {},
     "output_type": "execute_result"
    }
   ],
   "source": [
    "place ='lake'\n",
    "'the {} is in the {}.' .format(thing,place)"
   ]
  },
  {
   "cell_type": "code",
   "execution_count": 50,
   "id": "derived-rhythm",
   "metadata": {},
   "outputs": [
    {
     "data": {
      "text/plain": [
       "'The woodstuck is in the lake'"
      ]
     },
     "execution_count": 50,
     "metadata": {},
     "output_type": "execute_result"
    }
   ],
   "source": [
    "'The {1} is in the {0}' .format(place,thing)"
   ]
  },
  {
   "cell_type": "code",
   "execution_count": null,
   "id": "posted-objective",
   "metadata": {},
   "outputs": [],
   "source": []
  }
 ],
 "metadata": {
  "kernelspec": {
   "display_name": "Python 3",
   "language": "python",
   "name": "python3"
  },
  "language_info": {
   "codemirror_mode": {
    "name": "ipython",
    "version": 3
   },
   "file_extension": ".py",
   "mimetype": "text/x-python",
   "name": "python",
   "nbconvert_exporter": "python",
   "pygments_lexer": "ipython3",
   "version": "3.9.1"
  }
 },
 "nbformat": 4,
 "nbformat_minor": 5
}
