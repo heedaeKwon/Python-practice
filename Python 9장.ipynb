{
 "cells": [
  {
   "cell_type": "code",
   "execution_count": 1,
   "id": "subject-allah",
   "metadata": {},
   "outputs": [],
   "source": [
    "#함수를 정의한다  def 함수이름(매개변수):\n",
    "def do_nothing():\n",
    "    pass\n",
    "do_nothing()"
   ]
  },
  {
   "cell_type": "code",
   "execution_count": 2,
   "id": "organizational-cotton",
   "metadata": {},
   "outputs": [
    {
     "name": "stdout",
     "output_type": "stream",
     "text": [
      "quack\n"
     ]
    }
   ],
   "source": [
    "def make_a_sound():\n",
    "    print('quack')\n",
    "make_a_sound()    "
   ]
  },
  {
   "cell_type": "code",
   "execution_count": 3,
   "id": "silver-proportion",
   "metadata": {},
   "outputs": [
    {
     "name": "stdout",
     "output_type": "stream",
     "text": [
      "splendid\n"
     ]
    }
   ],
   "source": [
    "def agree():\n",
    "    return True\n",
    "if agree():\n",
    "    print('splendid')\n",
    "else:\n",
    "    print('That was unexpected')\n",
    "    "
   ]
  },
  {
   "cell_type": "code",
   "execution_count": 4,
   "id": "corresponding-runner",
   "metadata": {},
   "outputs": [
    {
     "data": {
      "text/plain": [
       "'1 1'"
      ]
     },
     "execution_count": 4,
     "metadata": {},
     "output_type": "execute_result"
    }
   ],
   "source": [
    "def echo(x):\n",
    "    return x + ' '+ x\n",
    "echo('1')"
   ]
  },
  {
   "cell_type": "code",
   "execution_count": 5,
   "id": "adequate-essex",
   "metadata": {},
   "outputs": [
    {
     "data": {
      "text/plain": [
       "'Rumplestiltskin Rumplestiltskin'"
      ]
     },
     "execution_count": 5,
     "metadata": {},
     "output_type": "execute_result"
    }
   ],
   "source": [
    "echo('Rumplestiltskin')"
   ]
  },
  {
   "cell_type": "code",
   "execution_count": 7,
   "id": "overhead-honolulu",
   "metadata": {},
   "outputs": [
    {
     "data": {
      "text/plain": [
       "\"I've never heard of the color purple.\""
      ]
     },
     "execution_count": 7,
     "metadata": {},
     "output_type": "execute_result"
    }
   ],
   "source": [
    "def commentary(color):\n",
    "    if color == 'red':\n",
    "        print('red is apple')\n",
    "    elif color == 'green':\n",
    "        print('green is lalo')\n",
    "    else:\n",
    "        return \"I've never heard of the color \" + color+\".\"\n",
    "commentary('purple')    "
   ]
  },
  {
   "cell_type": "code",
   "execution_count": 8,
   "id": "underlying-bedroom",
   "metadata": {},
   "outputs": [
    {
     "name": "stdout",
     "output_type": "stream",
     "text": [
      "red is apple\n"
     ]
    }
   ],
   "source": [
    "commentary('red')"
   ]
  },
  {
   "cell_type": "code",
   "execution_count": 9,
   "id": "subjective-islam",
   "metadata": {},
   "outputs": [
    {
     "name": "stdout",
     "output_type": "stream",
     "text": [
      "green is lalo\n"
     ]
    }
   ],
   "source": [
    "commentary('green')"
   ]
  },
  {
   "cell_type": "code",
   "execution_count": 10,
   "id": "driving-power",
   "metadata": {},
   "outputs": [
    {
     "name": "stdout",
     "output_type": "stream",
     "text": [
      "y\n"
     ]
    }
   ],
   "source": [
    "#None :아무것도 없다는 것을 뜻하는 파이썬의 특별한 값\n",
    "thing = None\n",
    "if thing:\n",
    "    print('x')\n",
    "else:\n",
    "    print('y')\n",
    "#이렇게 보면 불리언 False값과 비슷해 보인다        "
   ]
  },
  {
   "cell_type": "code",
   "execution_count": 11,
   "id": "statutory-chapter",
   "metadata": {},
   "outputs": [
    {
     "name": "stdout",
     "output_type": "stream",
     "text": [
      "x\n"
     ]
    }
   ],
   "source": [
    "thing = None\n",
    "if thing is None:\n",
    "    print('x')\n",
    "else:\n",
    "    print('y')\n",
    "#불리언 False마냥 맨날y값만 출력하는게 아님"
   ]
  },
  {
   "cell_type": "code",
   "execution_count": 12,
   "id": "simple-drama",
   "metadata": {},
   "outputs": [
    {
     "name": "stdout",
     "output_type": "stream",
     "text": [
      "x\n"
     ]
    }
   ],
   "source": [
    "thing = False\n",
    "if thing is False:\n",
    "    print('x')\n",
    "else:\n",
    "    print('y')\n",
    "#????? False 도 이렇게 하면 되네 싯팔    "
   ]
  },
  {
   "cell_type": "code",
   "execution_count": 13,
   "id": "quiet-texture",
   "metadata": {},
   "outputs": [
    {
     "name": "stdout",
     "output_type": "stream",
     "text": [
      "True  is True\n"
     ]
    }
   ],
   "source": [
    "def whatis(thing):\n",
    "    if thing is None:\n",
    "        print(thing,\" is None\")\n",
    "    elif thing:\n",
    "        print(thing,\" is True\")\n",
    "    else:\n",
    "        print(thing,\" is False\")\n",
    "whatis(True)        "
   ]
  },
  {
   "cell_type": "code",
   "execution_count": 14,
   "id": "liquid-advertiser",
   "metadata": {},
   "outputs": [
    {
     "name": "stdout",
     "output_type": "stream",
     "text": [
      "False  is False\n"
     ]
    }
   ],
   "source": [
    "whatis(False)"
   ]
  },
  {
   "cell_type": "code",
   "execution_count": 16,
   "id": "perfect-syria",
   "metadata": {},
   "outputs": [
    {
     "name": "stdout",
     "output_type": "stream",
     "text": [
      "apple  is True\n"
     ]
    }
   ],
   "source": [
    "whatis('apple')"
   ]
  },
  {
   "cell_type": "code",
   "execution_count": 17,
   "id": "annoying-earthquake",
   "metadata": {},
   "outputs": [
    {
     "name": "stdout",
     "output_type": "stream",
     "text": [
      "None  is True\n"
     ]
    }
   ],
   "source": [
    "whatis('None')"
   ]
  },
  {
   "cell_type": "code",
   "execution_count": 18,
   "id": "ultimate-future",
   "metadata": {},
   "outputs": [
    {
     "name": "stdout",
     "output_type": "stream",
     "text": [
      "0  is False\n"
     ]
    }
   ],
   "source": [
    "whatis(0)"
   ]
  },
  {
   "cell_type": "code",
   "execution_count": 19,
   "id": "multiple-ghost",
   "metadata": {},
   "outputs": [
    {
     "name": "stdout",
     "output_type": "stream",
     "text": [
      "[]  is False\n"
     ]
    }
   ],
   "source": [
    "whatis([])"
   ]
  },
  {
   "cell_type": "code",
   "execution_count": 20,
   "id": "unavailable-capitol",
   "metadata": {},
   "outputs": [
    {
     "data": {
      "text/plain": [
       "{'wine': 'chatto', 'entree': 'pizza', 'dessert': 'pie'}"
      ]
     },
     "execution_count": 20,
     "metadata": {},
     "output_type": "execute_result"
    }
   ],
   "source": [
    "#위치 인수\n",
    "def menu(x , y, z):\n",
    "    return{'wine':x,'entree':y,'dessert':z}\n",
    "menu('chatto','pizza','pie')"
   ]
  },
  {
   "cell_type": "code",
   "execution_count": 21,
   "id": "editorial-chapter",
   "metadata": {},
   "outputs": [
    {
     "data": {
      "text/plain": [
       "{'wine': 'Terra', 'entree': 'beed', 'dessert': 'pie'}"
      ]
     },
     "execution_count": 21,
     "metadata": {},
     "output_type": "execute_result"
    }
   ],
   "source": [
    "#키워드 인수\n",
    "menu(y='beed',z = 'pie',x = 'Terra')"
   ]
  },
  {
   "cell_type": "code",
   "execution_count": 23,
   "id": "sought-delay",
   "metadata": {},
   "outputs": [
    {
     "data": {
      "text/plain": [
       "{'wine': 'terra', 'entree': 'deer', 'dessert': 'pie'}"
      ]
     },
     "execution_count": 23,
     "metadata": {},
     "output_type": "execute_result"
    }
   ],
   "source": [
    "#기본 매개변수 값 지정하기\n",
    "def menu(x,y ,z = 'pie'):\n",
    "    return {'wine':x , 'entree':y , 'dessert':z }\n",
    "menu('terra','deer')"
   ]
  },
  {
   "cell_type": "code",
   "execution_count": 24,
   "id": "surgical-economics",
   "metadata": {},
   "outputs": [
    {
     "data": {
      "text/plain": [
       "{'wine': '1', 'entree': '2', 'dessert': '3'}"
      ]
     },
     "execution_count": 24,
     "metadata": {},
     "output_type": "execute_result"
    }
   ],
   "source": [
    "menu('1','2','3')"
   ]
  },
  {
   "cell_type": "code",
   "execution_count": 25,
   "id": "ongoing-elements",
   "metadata": {},
   "outputs": [
    {
     "name": "stdout",
     "output_type": "stream",
     "text": [
      "['x']\n"
     ]
    }
   ],
   "source": [
    "def buggy(arg,result=[]):\n",
    "    result.append(arg)\n",
    "    print(result)\n",
    "buggy('x')    "
   ]
  },
  {
   "cell_type": "code",
   "execution_count": 26,
   "id": "banned-mechanism",
   "metadata": {},
   "outputs": [
    {
     "name": "stdout",
     "output_type": "stream",
     "text": [
      "['x', 'x']\n"
     ]
    }
   ],
   "source": [
    "buggy('x')\n",
    "#이게 계속 더해져지네 싯팔 뭐 어떻게 안되나!!!"
   ]
  },
  {
   "cell_type": "code",
   "execution_count": 27,
   "id": "sixth-consideration",
   "metadata": {},
   "outputs": [
    {
     "data": {
      "text/plain": [
       "['a']"
      ]
     },
     "execution_count": 27,
     "metadata": {},
     "output_type": "execute_result"
    }
   ],
   "source": [
    "def works(arg):\n",
    "    result=[]\n",
    "    result.append(arg)\n",
    "    return result\n",
    "works('a')"
   ]
  },
  {
   "cell_type": "code",
   "execution_count": 28,
   "id": "opponent-integral",
   "metadata": {},
   "outputs": [
    {
     "data": {
      "text/plain": [
       "['b']"
      ]
     },
     "execution_count": 28,
     "metadata": {},
     "output_type": "execute_result"
    }
   ],
   "source": [
    "works('b')\n",
    "#무야호"
   ]
  },
  {
   "cell_type": "code",
   "execution_count": 31,
   "id": "expressed-christian",
   "metadata": {},
   "outputs": [
    {
     "name": "stdout",
     "output_type": "stream",
     "text": [
      "['a']\n"
     ]
    }
   ],
   "source": [
    "def  nonbuggy(arg,result=None):\n",
    "    if result is None:\n",
    "        result = []\n",
    "        result.append(arg)\n",
    "        print(result)\n",
    "nonbuggy('a')    "
   ]
  },
  {
   "cell_type": "code",
   "execution_count": 32,
   "id": "destroyed-scale",
   "metadata": {},
   "outputs": [
    {
     "name": "stdout",
     "output_type": "stream",
     "text": [
      "['b']\n"
     ]
    }
   ],
   "source": [
    "nonbuggy('b')"
   ]
  },
  {
   "cell_type": "code",
   "execution_count": 33,
   "id": "green-transaction",
   "metadata": {},
   "outputs": [
    {
     "name": "stdout",
     "output_type": "stream",
     "text": [
      "Positional tuple: ('1',)\n"
     ]
    }
   ],
   "source": [
    "#위치 인수 분해하기 모으기 :*\n",
    "def print_args(*args):\n",
    "    print('Positional tuple:' , args)\n",
    "print_args('1')"
   ]
  },
  {
   "cell_type": "code",
   "execution_count": 35,
   "id": "geographic-wrong",
   "metadata": {},
   "outputs": [
    {
     "name": "stdout",
     "output_type": "stream",
     "text": [
      "Positional tuple: ('1',)\n"
     ]
    },
    {
     "data": {
      "text/plain": [
       "NoneType"
      ]
     },
     "execution_count": 35,
     "metadata": {},
     "output_type": "execute_result"
    }
   ],
   "source": [
    "type(print_args('1'))"
   ]
  },
  {
   "cell_type": "code",
   "execution_count": 36,
   "id": "insured-gardening",
   "metadata": {},
   "outputs": [
    {
     "name": "stdout",
     "output_type": "stream",
     "text": [
      "Nedd this one: 1\n",
      "Need this one: 2\n",
      "All the rest: ('3', '4', '5')\n"
     ]
    }
   ],
   "source": [
    "def print_more(required1,required2,*args):\n",
    "    print(\"Nedd this one:\", required1)\n",
    "    print(\"Need this one:\", required2)\n",
    "    print('All the rest:', args)\n",
    "print_more('1','2','3','4','5')"
   ]
  },
  {
   "cell_type": "code",
   "execution_count": 37,
   "id": "yellow-compilation",
   "metadata": {},
   "outputs": [
    {
     "name": "stdout",
     "output_type": "stream",
     "text": [
      "hI: ('1',)\n"
     ]
    }
   ],
   "source": [
    "def x(*q):\n",
    "    print(\"hI:\", q)\n",
    "x('1')    "
   ]
  },
  {
   "cell_type": "code",
   "execution_count": 38,
   "id": "cardiovascular-breed",
   "metadata": {},
   "outputs": [
    {
     "name": "stdout",
     "output_type": "stream",
     "text": [
      "Positional tuple: (2, 45, 7, 'x')\n"
     ]
    }
   ],
   "source": [
    "print_args(2,45,7,'x')"
   ]
  },
  {
   "cell_type": "code",
   "execution_count": 41,
   "id": "individual-advocate",
   "metadata": {},
   "outputs": [],
   "source": [
    "args=(2,5,6,'x')"
   ]
  },
  {
   "cell_type": "code",
   "execution_count": 42,
   "id": "flexible-friday",
   "metadata": {},
   "outputs": [
    {
     "name": "stdout",
     "output_type": "stream",
     "text": [
      "Positional tuple: ((2, 5, 6, 'x'),)\n"
     ]
    }
   ],
   "source": [
    "print_args(args)"
   ]
  },
  {
   "cell_type": "code",
   "execution_count": 43,
   "id": "otherwise-pharmaceutical",
   "metadata": {},
   "outputs": [
    {
     "name": "stdout",
     "output_type": "stream",
     "text": [
      "Positional tuple: (2, 5, 6, 'x')\n"
     ]
    }
   ],
   "source": [
    "print_args(*args)"
   ]
  },
  {
   "cell_type": "code",
   "execution_count": 46,
   "id": "possible-collaboration",
   "metadata": {},
   "outputs": [
    {
     "name": "stdout",
     "output_type": "stream",
     "text": [
      "Keyword arguments: {}\n"
     ]
    }
   ],
   "source": [
    "def print_x(**y):\n",
    "    print('Keyword arguments:', y)\n",
    "print_x()    "
   ]
  },
  {
   "cell_type": "code",
   "execution_count": 47,
   "id": "sharp-enlargement",
   "metadata": {},
   "outputs": [
    {
     "name": "stdout",
     "output_type": "stream",
     "text": [
      "Keyword arguments: {'wine': '1', 'entree': '2', 'dessert': '3'}\n"
     ]
    }
   ],
   "source": [
    "print_x(wine = '1',entree = '2',dessert = '3')"
   ]
  },
  {
   "cell_type": "code",
   "execution_count": 48,
   "id": "organizational-collectible",
   "metadata": {},
   "outputs": [
    {
     "ename": "NameError",
     "evalue": "name 'print_kwargs' is not defined",
     "output_type": "error",
     "traceback": [
      "\u001b[0;31m---------------------------------------------------------------------------\u001b[0m",
      "\u001b[0;31mNameError\u001b[0m                                 Traceback (most recent call last)",
      "\u001b[0;32m<ipython-input-48-91be96a80ca2>\u001b[0m in \u001b[0;36m<module>\u001b[0;34m\u001b[0m\n\u001b[0;32m----> 1\u001b[0;31m \u001b[0mprint_kwargs\u001b[0m\u001b[0;34m(\u001b[0m\u001b[0;34m'1'\u001b[0m\u001b[0;34m,\u001b[0m\u001b[0;34m'2'\u001b[0m\u001b[0;34m)\u001b[0m\u001b[0;34m\u001b[0m\u001b[0;34m\u001b[0m\u001b[0m\n\u001b[0m",
      "\u001b[0;31mNameError\u001b[0m: name 'print_kwargs' is not defined"
     ]
    }
   ],
   "source": [
    "print_kwargs('1','2')"
   ]
  },
  {
   "cell_type": "code",
   "execution_count": 50,
   "id": "collective-ottawa",
   "metadata": {},
   "outputs": [],
   "source": [
    "def print_data(data,*,start = 0 ,end =100):\n",
    "    for value in (data[start:end]):\n",
    "        print(value)"
   ]
  },
  {
   "cell_type": "code",
   "execution_count": 52,
   "id": "wrapped-trick",
   "metadata": {},
   "outputs": [
    {
     "name": "stdout",
     "output_type": "stream",
     "text": [
      "a\n",
      "b\n",
      "c\n",
      "d\n",
      "e\n",
      "f\n",
      "g\n",
      "h\n",
      "i\n",
      "j\n",
      "k\n",
      "l\n",
      "m\n",
      "n\n",
      "o\n",
      "p\n",
      "q\n",
      "r\n",
      "s\n",
      "t\n",
      "u\n",
      "v\n",
      "w\n",
      "x\n",
      "y\n",
      "z\n"
     ]
    }
   ],
   "source": [
    "data =('a','b','c','d','e','f','g','h','i','j','k','l','m','n','o','p','q','r','s','t','u','v','w','x','y','z')\n",
    "print_data(data)"
   ]
  },
  {
   "cell_type": "code",
   "execution_count": 54,
   "id": "latest-client",
   "metadata": {},
   "outputs": [
    {
     "name": "stdout",
     "output_type": "stream",
     "text": [
      "d\n",
      "e\n",
      "f\n",
      "g\n",
      "h\n",
      "i\n",
      "j\n",
      "k\n",
      "l\n",
      "m\n",
      "n\n",
      "o\n",
      "p\n",
      "q\n",
      "r\n",
      "s\n",
      "t\n",
      "u\n",
      "v\n",
      "w\n",
      "x\n",
      "y\n",
      "z\n"
     ]
    }
   ],
   "source": [
    "print_data(data , start =3)"
   ]
  },
  {
   "cell_type": "code",
   "execution_count": 55,
   "id": "worst-carry",
   "metadata": {},
   "outputs": [
    {
     "name": "stdout",
     "output_type": "stream",
     "text": [
      "a\n",
      "b\n",
      "c\n"
     ]
    }
   ],
   "source": [
    "print_data(data,end=3)"
   ]
  },
  {
   "cell_type": "code",
   "execution_count": 56,
   "id": "separated-metropolitan",
   "metadata": {},
   "outputs": [
    {
     "data": {
      "text/plain": [
       "['a', 'b', 'c']"
      ]
     },
     "execution_count": 56,
     "metadata": {},
     "output_type": "execute_result"
    }
   ],
   "source": [
    "#가변 불변 인수\n",
    "outside = ['a','b','c']\n",
    "def mangle(arg):\n",
    "    arg[1] = 'y'\n",
    "outside    "
   ]
  },
  {
   "cell_type": "code",
   "execution_count": 57,
   "id": "dynamic-stewart",
   "metadata": {},
   "outputs": [],
   "source": [
    "mangle(outside)"
   ]
  },
  {
   "cell_type": "code",
   "execution_count": 58,
   "id": "satisfactory-taiwan",
   "metadata": {},
   "outputs": [
    {
     "data": {
      "text/plain": [
       "['a', 'y', 'c']"
      ]
     },
     "execution_count": 58,
     "metadata": {},
     "output_type": "execute_result"
    }
   ],
   "source": [
    "outside"
   ]
  },
  {
   "cell_type": "code",
   "execution_count": 60,
   "id": "charming-polyester",
   "metadata": {},
   "outputs": [
    {
     "data": {
      "text/plain": [
       "'x'"
      ]
     },
     "execution_count": 60,
     "metadata": {},
     "output_type": "execute_result"
    }
   ],
   "source": [
    "#독스트링\n",
    "def echo(anything):\n",
    "    'echo returns its input argument' #함수 정의에 문서를 붙일 수 있다. 이게 독스트링\n",
    "    return anything\n",
    "echo('x')"
   ]
  },
  {
   "cell_type": "code",
   "execution_count": 67,
   "id": "corrected-feeding",
   "metadata": {},
   "outputs": [],
   "source": [
    "def print_if_true(thing, check):\n",
    "    '''\n",
    "    Prints the first argument if a second argument is true.\n",
    "    The operation is:\n",
    "        1. Check whether the *second* argument is true.\n",
    "        2. if it is, print the *first* argument\n",
    "    ''' #이건 독스트링을 길게 작정한 것이다\n",
    "    if check:\n",
    "        print(thing)\n",
    "print_if_true('x',False)        "
   ]
  },
  {
   "cell_type": "code",
   "execution_count": 68,
   "id": "meaningful-butter",
   "metadata": {},
   "outputs": [
    {
     "name": "stdout",
     "output_type": "stream",
     "text": [
      "Help on function echo in module __main__:\n",
      "\n",
      "echo(anything)\n",
      "    echo returns its input argument\n",
      "\n"
     ]
    }
   ],
   "source": [
    "help(echo)"
   ]
  },
  {
   "cell_type": "code",
   "execution_count": 69,
   "id": "about-naples",
   "metadata": {},
   "outputs": [
    {
     "name": "stdout",
     "output_type": "stream",
     "text": [
      "echo returns its input argument\n"
     ]
    }
   ],
   "source": [
    "print(echo.__doc__)"
   ]
  },
  {
   "cell_type": "code",
   "execution_count": 70,
   "id": "greater-worse",
   "metadata": {},
   "outputs": [
    {
     "name": "stdout",
     "output_type": "stream",
     "text": [
      "42\n"
     ]
    }
   ],
   "source": [
    "#일등시민:힘수\n",
    "def answer():\n",
    "    print(42)\n",
    "answer()   "
   ]
  },
  {
   "cell_type": "code",
   "execution_count": 71,
   "id": "satisfactory-advocacy",
   "metadata": {},
   "outputs": [
    {
     "ename": "TypeError",
     "evalue": "answer() takes 0 positional arguments but 1 was given",
     "output_type": "error",
     "traceback": [
      "\u001b[0;31m---------------------------------------------------------------------------\u001b[0m",
      "\u001b[0;31mTypeError\u001b[0m                                 Traceback (most recent call last)",
      "\u001b[0;32m<ipython-input-71-65b0062be9cc>\u001b[0m in \u001b[0;36m<module>\u001b[0;34m\u001b[0m\n\u001b[0;32m----> 1\u001b[0;31m \u001b[0manswer\u001b[0m\u001b[0;34m(\u001b[0m\u001b[0;34m'1'\u001b[0m\u001b[0;34m)\u001b[0m\u001b[0;34m\u001b[0m\u001b[0;34m\u001b[0m\u001b[0m\n\u001b[0m",
      "\u001b[0;31mTypeError\u001b[0m: answer() takes 0 positional arguments but 1 was given"
     ]
    }
   ],
   "source": [
    "answer('1')"
   ]
  },
  {
   "cell_type": "code",
   "execution_count": 72,
   "id": "armed-music",
   "metadata": {},
   "outputs": [
    {
     "name": "stdout",
     "output_type": "stream",
     "text": [
      "42\n"
     ]
    }
   ],
   "source": [
    "def x(func):\n",
    "    func()\n",
    "x(answer)    "
   ]
  },
  {
   "cell_type": "code",
   "execution_count": 73,
   "id": "religious-donna",
   "metadata": {},
   "outputs": [
    {
     "name": "stdout",
     "output_type": "stream",
     "text": [
      "42\n"
     ]
    },
    {
     "ename": "TypeError",
     "evalue": "'NoneType' object is not callable",
     "output_type": "error",
     "traceback": [
      "\u001b[0;31m---------------------------------------------------------------------------\u001b[0m",
      "\u001b[0;31mTypeError\u001b[0m                                 Traceback (most recent call last)",
      "\u001b[0;32m<ipython-input-73-fcd627e6b573>\u001b[0m in \u001b[0;36m<module>\u001b[0;34m\u001b[0m\n\u001b[0;32m----> 1\u001b[0;31m \u001b[0mx\u001b[0m\u001b[0;34m(\u001b[0m\u001b[0manswer\u001b[0m\u001b[0;34m(\u001b[0m\u001b[0;34m)\u001b[0m\u001b[0;34m)\u001b[0m\u001b[0;34m\u001b[0m\u001b[0;34m\u001b[0m\u001b[0m\n\u001b[0m",
      "\u001b[0;32m<ipython-input-72-6fa04191326b>\u001b[0m in \u001b[0;36mx\u001b[0;34m(func)\u001b[0m\n\u001b[1;32m      1\u001b[0m \u001b[0;32mdef\u001b[0m \u001b[0mx\u001b[0m\u001b[0;34m(\u001b[0m\u001b[0mfunc\u001b[0m\u001b[0;34m)\u001b[0m\u001b[0;34m:\u001b[0m\u001b[0;34m\u001b[0m\u001b[0;34m\u001b[0m\u001b[0m\n\u001b[0;32m----> 2\u001b[0;31m     \u001b[0mfunc\u001b[0m\u001b[0;34m(\u001b[0m\u001b[0;34m)\u001b[0m\u001b[0;34m\u001b[0m\u001b[0;34m\u001b[0m\u001b[0m\n\u001b[0m\u001b[1;32m      3\u001b[0m \u001b[0mx\u001b[0m\u001b[0;34m(\u001b[0m\u001b[0manswer\u001b[0m\u001b[0;34m)\u001b[0m\u001b[0;34m\u001b[0m\u001b[0;34m\u001b[0m\u001b[0m\n",
      "\u001b[0;31mTypeError\u001b[0m: 'NoneType' object is not callable"
     ]
    }
   ],
   "source": [
    "x(answer())"
   ]
  },
  {
   "cell_type": "code",
   "execution_count": 74,
   "id": "stopped-loading",
   "metadata": {},
   "outputs": [
    {
     "data": {
      "text/plain": [
       "function"
      ]
     },
     "execution_count": 74,
     "metadata": {},
     "output_type": "execute_result"
    }
   ],
   "source": [
    "type(x)"
   ]
  },
  {
   "cell_type": "code",
   "execution_count": 75,
   "id": "federal-street",
   "metadata": {},
   "outputs": [
    {
     "data": {
      "text/plain": [
       "function"
      ]
     },
     "execution_count": 75,
     "metadata": {},
     "output_type": "execute_result"
    }
   ],
   "source": [
    "def add(args1,args2):\n",
    "    print(args1+args2)\n",
    "type(add)    "
   ]
  },
  {
   "cell_type": "code",
   "execution_count": 79,
   "id": "animal-sigma",
   "metadata": {},
   "outputs": [
    {
     "name": "stdout",
     "output_type": "stream",
     "text": [
      "3\n"
     ]
    }
   ],
   "source": [
    "add(1,2)"
   ]
  },
  {
   "cell_type": "code",
   "execution_count": 83,
   "id": "closing-divorce",
   "metadata": {},
   "outputs": [
    {
     "name": "stdout",
     "output_type": "stream",
     "text": [
      "3\n"
     ]
    }
   ],
   "source": [
    "def mid(args1,args2):\n",
    "    add(args1,args2)\n",
    "mid(1,2)    "
   ]
  },
  {
   "cell_type": "code",
   "execution_count": 84,
   "id": "brown-antique",
   "metadata": {},
   "outputs": [
    {
     "data": {
      "text/plain": [
       "45"
      ]
     },
     "execution_count": 84,
     "metadata": {},
     "output_type": "execute_result"
    }
   ],
   "source": [
    "def sum_args(*args):\n",
    "    return sum(args)#sum은 인수값을 모두 더하는 내장함수\n",
    "def x(func,*args):\n",
    "    return func(*args)\n",
    "x(sum_args , 1,2,3,4,5,6,7,8,9)"
   ]
  },
  {
   "cell_type": "code",
   "execution_count": 101,
   "id": "owned-parts",
   "metadata": {},
   "outputs": [
    {
     "data": {
      "text/plain": [
       "3"
      ]
     },
     "execution_count": 101,
     "metadata": {},
     "output_type": "execute_result"
    }
   ],
   "source": [
    "#내부함수\n",
    "def outer(a,b):\n",
    "    def inner(c,d):\n",
    "        return c+d\n",
    "    return inner(a,b)\n",
    "outer(1,2)\n",
    "#반복문 코드중복 등을 피하고자 또 다른 하뭇 내에 어떤 복잡한 작업을 한 번 이상 수행할 때\n",
    "#유용하게 사용된다."
   ]
  },
  {
   "cell_type": "code",
   "execution_count": 90,
   "id": "neural-cassette",
   "metadata": {},
   "outputs": [
    {
     "data": {
      "text/plain": [
       "\"We are the K who say: '무야호'\""
      ]
     },
     "execution_count": 90,
     "metadata": {},
     "output_type": "execute_result"
    }
   ],
   "source": [
    "def k(saying):\n",
    "    def q(quote):\n",
    "        return \"We are the K who say: '%s'\" % quote\n",
    "    return q(saying)\n",
    "k(\"무야호\")"
   ]
  },
  {
   "cell_type": "code",
   "execution_count": 92,
   "id": "naval-queensland",
   "metadata": {},
   "outputs": [
    {
     "data": {
      "text/plain": [
       "<function __main__.k2.<locals>.q2()>"
      ]
     },
     "execution_count": 92,
     "metadata": {},
     "output_type": "execute_result"
    }
   ],
   "source": [
    "#클로저\n",
    "def k2(saying):\n",
    "    def q2():\n",
    "        return \"We are th K2 who say: %s\" % saying\n",
    "    return q2\n",
    "a = k2(\"누구야!\")\n",
    "b = k2(\"어질어질하다 그죠?\")\n",
    "a"
   ]
  },
  {
   "cell_type": "code",
   "execution_count": 93,
   "id": "focused-filename",
   "metadata": {},
   "outputs": [
    {
     "data": {
      "text/plain": [
       "<function __main__.k2.<locals>.q2()>"
      ]
     },
     "execution_count": 93,
     "metadata": {},
     "output_type": "execute_result"
    }
   ],
   "source": [
    "b"
   ]
  },
  {
   "cell_type": "code",
   "execution_count": 94,
   "id": "shared-consultancy",
   "metadata": {},
   "outputs": [
    {
     "name": "stdout",
     "output_type": "stream",
     "text": [
      "<class 'function'> <class 'function'>\n"
     ]
    }
   ],
   "source": [
    "print(type(a) , type(b))"
   ]
  },
  {
   "cell_type": "code",
   "execution_count": 98,
   "id": "built-burns",
   "metadata": {},
   "outputs": [
    {
     "name": "stdout",
     "output_type": "stream",
     "text": [
      "A무야호!\n",
      "A거 제육좀 볶나!\n",
      "A뭐야!\n",
      "A뭐 어떻게 안되나!\n"
     ]
    }
   ],
   "source": [
    "#익명 함수 lambda\n",
    "def E(words, func):\n",
    "    for word in words:\n",
    "        print(func(word))\n",
    "a = ['a무야호','a거 제육좀 볶나','a뭐야','a뭐 어떻게 안되나']\n",
    "def B(word): #첫 글자를 대문자로 만들고 느낌표 붙이기\n",
    "    return word.capitalize()+\"!\"\n",
    "E(a,B)"
   ]
  },
  {
   "cell_type": "code",
   "execution_count": 100,
   "id": "encouraging-shelf",
   "metadata": {},
   "outputs": [
    {
     "name": "stdout",
     "output_type": "stream",
     "text": [
      "A무야호!\n",
      "A거 제육좀 볶나!\n",
      "A뭐야!\n",
      "A뭐 어떻게 안되나!\n"
     ]
    }
   ],
   "source": [
    "E(a,lambda word: word.capitalize()+\"!\")\n",
    "#lambda 앞에 인수 \n",
    "# :이후에 함수정의"
   ]
  },
  {
   "cell_type": "code",
   "execution_count": 102,
   "id": "modular-square",
   "metadata": {},
   "outputs": [
    {
     "data": {
      "text/plain": [
       "5050"
      ]
     },
     "execution_count": 102,
     "metadata": {},
     "output_type": "execute_result"
    }
   ],
   "source": [
    "#제너뤠이터\n",
    "#시퀀스를 생성하는 객체\n",
    "sum(range(1,101))"
   ]
  },
  {
   "cell_type": "code",
   "execution_count": 103,
   "id": "unexpected-transaction",
   "metadata": {},
   "outputs": [
    {
     "data": {
      "text/plain": [
       "range(1, 101)"
      ]
     },
     "execution_count": 103,
     "metadata": {},
     "output_type": "execute_result"
    }
   ],
   "source": [
    "range(1,101)"
   ]
  },
  {
   "cell_type": "code",
   "execution_count": 108,
   "id": "maritime-tribune",
   "metadata": {},
   "outputs": [
    {
     "name": "stdout",
     "output_type": "stream",
     "text": [
      "3\n",
      "4\n",
      "5\n",
      "6\n",
      "7\n",
      "8\n",
      "9\n",
      "10\n",
      "11\n"
     ]
    }
   ],
   "source": [
    "#generator function\n",
    "def my(first = 0 , last = 10, step =1):\n",
    "    number = first\n",
    "    while number < last:\n",
    "        yield number  #yield문으로 값을 반환\n",
    "        number+=step\n",
    "g = my(3, 12)\n",
    "for x in g:\n",
    "    print(x)\n"
   ]
  },
  {
   "cell_type": "code",
   "execution_count": 109,
   "id": "iraqi-breeding",
   "metadata": {},
   "outputs": [],
   "source": [
    "#순회를 마친 제너레이터를 다시 순회한다면 다음과 같이 아무것도 반환하지 않는다.\n",
    "for  onemore in g:\n",
    "    print(onemore)"
   ]
  },
  {
   "cell_type": "code",
   "execution_count": 110,
   "id": "institutional-accounting",
   "metadata": {},
   "outputs": [],
   "source": [
    "for x in g:\n",
    "    print(x)"
   ]
  },
  {
   "cell_type": "code",
   "execution_count": 111,
   "id": "precise-registration",
   "metadata": {},
   "outputs": [
    {
     "data": {
      "text/plain": [
       "<generator object <genexpr> at 0x7f2e18070430>"
      ]
     },
     "execution_count": 111,
     "metadata": {},
     "output_type": "execute_result"
    }
   ],
   "source": [
    "#generator comprehension\n",
    "genobj = (pair for pair in zip(['a','b'],['1','2']))\n",
    "genobj"
   ]
  },
  {
   "cell_type": "code",
   "execution_count": 112,
   "id": "three-yeast",
   "metadata": {},
   "outputs": [
    {
     "name": "stdout",
     "output_type": "stream",
     "text": [
      "('a', '1')\n",
      "('b', '2')\n"
     ]
    }
   ],
   "source": [
    "for thing in genobj:\n",
    "    print(thing)"
   ]
  },
  {
   "cell_type": "code",
   "execution_count": 114,
   "id": "proprietary-packaging",
   "metadata": {},
   "outputs": [
    {
     "data": {
      "text/plain": [
       "8"
      ]
     },
     "execution_count": 114,
     "metadata": {},
     "output_type": "execute_result"
    }
   ],
   "source": [
    "#decorator\n",
    "#함수를 코드를 바꾸지않고 수정하고싶어\n",
    "def doc(func):\n",
    "    def nowdoc(*args,**kwargs):\n",
    "        print(\"Running function:\",func.__name__) #Running function: add\n",
    "        print('Positional arguments:',args) #Positional arguments: (3, 5)\n",
    "        print('Keyword arguments:', kwargs) #Keyword arguments: {}\n",
    "        result = func(*args,**kwargs)\n",
    "        print('Resert:',result) # result를 func(*args,**kwargs)이고 print (,result) 했으니 Resert: 8\n",
    "        return result #8\n",
    "    return nowdoc\n",
    "def add(a,b):\n",
    "    return a+b\n",
    "add(3,5)"
   ]
  },
  {
   "cell_type": "code",
   "execution_count": 116,
   "id": "derived-management",
   "metadata": {},
   "outputs": [
    {
     "name": "stdout",
     "output_type": "stream",
     "text": [
      "Running function: add\n",
      "Positional arguments: (3, 5)\n",
      "Keyword arguments: {}\n",
      "Resert: 8\n"
     ]
    },
    {
     "data": {
      "text/plain": [
       "8"
      ]
     },
     "execution_count": 116,
     "metadata": {},
     "output_type": "execute_result"
    }
   ],
   "source": [
    "cooler = doc(add)#데커레이터 수동 할당\n",
    "cooler(3,5)"
   ]
  },
  {
   "cell_type": "code",
   "execution_count": 118,
   "id": "nonprofit-chassis",
   "metadata": {},
   "outputs": [
    {
     "name": "stdout",
     "output_type": "stream",
     "text": [
      "Running function: add_ints\n",
      "Positional arguments: (3, 5)\n",
      "Keyword arguments: {}\n",
      "Resert: 8\n"
     ]
    },
    {
     "data": {
      "text/plain": [
       "8"
      ]
     },
     "execution_count": 118,
     "metadata": {},
     "output_type": "execute_result"
    }
   ],
   "source": [
    "@doc #데커레이터를 사용하고 싶은 함수에 그냥 #데커레이터_이름을 추가한다\n",
    "def add_ints(a,b):\n",
    "    return a+b\n",
    "add_ints(3,5)"
   ]
  },
  {
   "cell_type": "code",
   "execution_count": 120,
   "id": "external-genius",
   "metadata": {},
   "outputs": [
    {
     "name": "stdout",
     "output_type": "stream",
     "text": [
      "Running function: new_function\n",
      "Positional arguments: (3, 5)\n",
      "Keyword arguments: {}\n",
      "Resert: 64\n"
     ]
    },
    {
     "data": {
      "text/plain": [
       "64"
      ]
     },
     "execution_count": 120,
     "metadata": {},
     "output_type": "execute_result"
    }
   ],
   "source": [
    "def square_it(func):\n",
    "    def new_function(*args,**kwargs):\n",
    "        result = func(*args,**kwargs)\n",
    "        return result * result\n",
    "    return new_function\n",
    "@doc\n",
    "@square_it\n",
    "def add_ints(a,b):\n",
    "    return a+b\n",
    "add_ints(3,5)"
   ]
  },
  {
   "cell_type": "code",
   "execution_count": 121,
   "id": "likely-warren",
   "metadata": {},
   "outputs": [
    {
     "name": "stdout",
     "output_type": "stream",
     "text": [
      "Running function: add_ints\n",
      "Positional arguments: (3, 5)\n",
      "Keyword arguments: {}\n",
      "Resert: 8\n"
     ]
    },
    {
     "data": {
      "text/plain": [
       "64"
      ]
     },
     "execution_count": 121,
     "metadata": {},
     "output_type": "execute_result"
    }
   ],
   "source": [
    "@square_it\n",
    "@doc\n",
    "def add_ints(a,b):\n",
    "    return a+b\n",
    "add_ints(3,5)"
   ]
  },
  {
   "cell_type": "code",
   "execution_count": 122,
   "id": "virtual-florist",
   "metadata": {},
   "outputs": [
    {
     "name": "stdout",
     "output_type": "stream",
     "text": [
      "at the top level: fruitbat\n"
     ]
    }
   ],
   "source": [
    "#네임스페이스와 스코프\n",
    "animal = 'fruitbat'\n",
    "def print_global():\n",
    "    print('inside print_global:', animal)\n",
    "print('at the top level:', animal)"
   ]
  },
  {
   "cell_type": "code",
   "execution_count": 123,
   "id": "distant-english",
   "metadata": {},
   "outputs": [
    {
     "name": "stdout",
     "output_type": "stream",
     "text": [
      "inside print_global: fruitbat\n"
     ]
    }
   ],
   "source": [
    "print_global()"
   ]
  },
  {
   "cell_type": "code",
   "execution_count": 130,
   "id": "analyzed-region",
   "metadata": {},
   "outputs": [
    {
     "ename": "UnboundLocalError",
     "evalue": "local variable 'animal' referenced before assignment",
     "output_type": "error",
     "traceback": [
      "\u001b[0;31m---------------------------------------------------------------------------\u001b[0m",
      "\u001b[0;31mUnboundLocalError\u001b[0m                         Traceback (most recent call last)",
      "\u001b[0;32m<ipython-input-130-8728c88e67ed>\u001b[0m in \u001b[0;36m<module>\u001b[0;34m\u001b[0m\n\u001b[1;32m      3\u001b[0m     \u001b[0manimal\u001b[0m \u001b[0;34m=\u001b[0m \u001b[0;34m'wombat'\u001b[0m\u001b[0;34m\u001b[0m\u001b[0;34m\u001b[0m\u001b[0m\n\u001b[1;32m      4\u001b[0m     \u001b[0mprint\u001b[0m\u001b[0;34m(\u001b[0m\u001b[0;34m'after the change:'\u001b[0m\u001b[0;34m,\u001b[0m\u001b[0manimal\u001b[0m\u001b[0;34m)\u001b[0m\u001b[0;34m\u001b[0m\u001b[0;34m\u001b[0m\u001b[0m\n\u001b[0;32m----> 5\u001b[0;31m \u001b[0mchange_and_print_global\u001b[0m\u001b[0;34m(\u001b[0m\u001b[0;34m)\u001b[0m\u001b[0;34m\u001b[0m\u001b[0;34m\u001b[0m\u001b[0m\n\u001b[0m",
      "\u001b[0;32m<ipython-input-130-8728c88e67ed>\u001b[0m in \u001b[0;36mchange_and_print_global\u001b[0;34m()\u001b[0m\n\u001b[1;32m      1\u001b[0m \u001b[0;32mdef\u001b[0m \u001b[0mchange_and_print_global\u001b[0m\u001b[0;34m(\u001b[0m\u001b[0;34m)\u001b[0m\u001b[0;34m:\u001b[0m\u001b[0;34m\u001b[0m\u001b[0;34m\u001b[0m\u001b[0m\n\u001b[0;32m----> 2\u001b[0;31m     \u001b[0mprint\u001b[0m\u001b[0;34m(\u001b[0m\u001b[0;34m'inside change_and_print_global:'\u001b[0m\u001b[0;34m,\u001b[0m \u001b[0manimal\u001b[0m\u001b[0;34m)\u001b[0m\u001b[0;34m\u001b[0m\u001b[0;34m\u001b[0m\u001b[0m\n\u001b[0m\u001b[1;32m      3\u001b[0m     \u001b[0manimal\u001b[0m \u001b[0;34m=\u001b[0m \u001b[0;34m'wombat'\u001b[0m\u001b[0;34m\u001b[0m\u001b[0;34m\u001b[0m\u001b[0m\n\u001b[1;32m      4\u001b[0m     \u001b[0mprint\u001b[0m\u001b[0;34m(\u001b[0m\u001b[0;34m'after the change:'\u001b[0m\u001b[0;34m,\u001b[0m\u001b[0manimal\u001b[0m\u001b[0;34m)\u001b[0m\u001b[0;34m\u001b[0m\u001b[0;34m\u001b[0m\u001b[0m\n\u001b[1;32m      5\u001b[0m \u001b[0mchange_and_print_global\u001b[0m\u001b[0;34m(\u001b[0m\u001b[0;34m)\u001b[0m\u001b[0;34m\u001b[0m\u001b[0;34m\u001b[0m\u001b[0m\n",
      "\u001b[0;31mUnboundLocalError\u001b[0m: local variable 'animal' referenced before assignment"
     ]
    }
   ],
   "source": [
    "def change_and_print_global():\n",
    "    print('inside change_and_print_global:', animal)\n",
    "    animal = 'wombat'\n",
    "    print('after the change:',animal)\n",
    "change_and_print_global()  "
   ]
  },
  {
   "cell_type": "code",
   "execution_count": 127,
   "id": "wrapped-kentucky",
   "metadata": {},
   "outputs": [
    {
     "name": "stdout",
     "output_type": "stream",
     "text": [
      "inside change_local: wombat 139835948511728\n"
     ]
    }
   ],
   "source": [
    "def change_local():\n",
    "    animal = 'wombat'\n",
    "    print('inside change_local:', animal,id(animal))\n",
    "change_local()    "
   ]
  },
  {
   "cell_type": "code",
   "execution_count": 128,
   "id": "happy-possession",
   "metadata": {},
   "outputs": [
    {
     "data": {
      "text/plain": [
       "'fruitbat'"
      ]
     },
     "execution_count": 128,
     "metadata": {},
     "output_type": "execute_result"
    }
   ],
   "source": [
    "animal"
   ]
  },
  {
   "cell_type": "code",
   "execution_count": 129,
   "id": "dirty-daily",
   "metadata": {},
   "outputs": [
    {
     "data": {
      "text/plain": [
       "139835948653488"
      ]
     },
     "execution_count": 129,
     "metadata": {},
     "output_type": "execute_result"
    }
   ],
   "source": [
    "id(animal)"
   ]
  },
  {
   "cell_type": "code",
   "execution_count": 132,
   "id": "distributed-hybrid",
   "metadata": {},
   "outputs": [
    {
     "data": {
      "text/plain": [
       "'printbat'"
      ]
     },
     "execution_count": 132,
     "metadata": {},
     "output_type": "execute_result"
    }
   ],
   "source": [
    "animal = 'printbat'\n",
    "def change_and_print_global():\n",
    "    global animal #전역 변수의 접근을 명시해야 한다.(파이썬 철학 : 명확한 것이 함축적인 것보다 낫다.\n",
    "    animal = 'wombat'\n",
    "    print('after the change:', animal)\n",
    "animal    "
   ]
  },
  {
   "cell_type": "code",
   "execution_count": 133,
   "id": "administrative-paris",
   "metadata": {},
   "outputs": [
    {
     "name": "stdout",
     "output_type": "stream",
     "text": [
      "after the change: wombat\n"
     ]
    }
   ],
   "source": [
    "change_and_print_global()"
   ]
  },
  {
   "cell_type": "code",
   "execution_count": 134,
   "id": "developmental-employer",
   "metadata": {},
   "outputs": [
    {
     "data": {
      "text/plain": [
       "'wombat'"
      ]
     },
     "execution_count": 134,
     "metadata": {},
     "output_type": "execute_result"
    }
   ],
   "source": [
    "animal"
   ]
  },
  {
   "cell_type": "code",
   "execution_count": 143,
   "id": "least-conjunction",
   "metadata": {},
   "outputs": [
    {
     "data": {
      "text/plain": [
       "'fruitbat'"
      ]
     },
     "execution_count": 143,
     "metadata": {},
     "output_type": "execute_result"
    }
   ],
   "source": [
    "animal = 'fruitbat' #전역변수\n",
    "def change():\n",
    "    animal = 'wombat'#지역변수\n",
    "    print('locals:', locals())\n",
    "animal   "
   ]
  },
  {
   "cell_type": "code",
   "execution_count": 144,
   "id": "marine-translation",
   "metadata": {},
   "outputs": [
    {
     "name": "stdout",
     "output_type": "stream",
     "text": [
      "locals: {'animal': 'wombat'}\n"
     ]
    }
   ],
   "source": [
    "change()"
   ]
  },
  {
   "cell_type": "code",
   "execution_count": 151,
   "id": "special-saudi",
   "metadata": {},
   "outputs": [
    {
     "name": "stdout",
     "output_type": "stream",
     "text": [
      "globals : {'__name__': '__main__', '__doc__': 'Automatically created module for IPython interactive environment', '__package__': None, '__loader__': None, '__spec__': None, '__builtin__': <module 'builtins' (built-in)>, '__builtins__': <module 'builtins' (built-in)>, '_ih': ['', '#함수를 정의한다  def 함수이름(매개변수):\\ndef do_nothing():\\n    pass\\ndo_nothing()', \"def make_a_sound():\\n    print('quack')\\nmake_a_sound()    \", \"def agree():\\n    return True\\nif agree():\\n    print('splendid')\\nelse:\\n    print('That was unexpected')\\n    \", \"def echo(x):\\n    return x + ' '+ x\\necho('1')\", \"echo('Rumplestiltskin')\", 'def commentary(color):\\n    if color == \\'red\\':\\n        print(\\'red is apple\\')\\n    elif color == \\'green\\':\\n        print(\\'green is lalo\\')\\n    else:\\n        return \"I\\'ve never heard of the color\" + color+\".\"\\ncommentary(\\'purple\\')    ', 'def commentary(color):\\n    if color == \\'red\\':\\n        print(\\'red is apple\\')\\n    elif color == \\'green\\':\\n        print(\\'green is lalo\\')\\n    else:\\n        return \"I\\'ve never heard of the color \" + color+\".\"\\ncommentary(\\'purple\\')    ', \"commentary('red')\", \"commentary('green')\", \"#None :아무것도 없다는 것을 뜻하는 파이썬의 특별한 값\\nthing = None\\nif thing:\\n    print('x')\\nelse:\\n    print('y')\", \"thing = None\\nif thing is None:\\n    print('x')\\nelse:\\n    print('y')\", \"thing = False\\nif thing is False:\\n    print('x')\\nelse:\\n    print('y')\", 'def whatis(thing):\\n    if thing is None:\\n        print(thing,\" is None\")\\n    elif thing:\\n        print(thing,\" is True\")\\n    else:\\n        print(thing,\" is False\")\\nwhatis(True)        ', 'whatis(False)', 'whatis(apple)', \"whatis('apple')\", \"whatis('None')\", 'whatis(0)', 'whatis([])', \"#위치 인수\\ndef menu(x , y, z):\\n    return{'wine':x,'entree':y,'dessert':z}\\nmenu('chatto','pizza','pie')\", \"#키워드 인수\\nmenu(y='beed',z = 'pie',x = 'Terra')\", \"#기본 매개변수 값 지정하기\\ndef menu(x,y ,z = 'pie'):\\n    return {'wine'=x , 'entree'=y , 'dessert':z }\\nmenu('terra','deer')\", \"#기본 매개변수 값 지정하기\\ndef menu(x,y ,z = 'pie'):\\n    return {'wine':x , 'entree':y , 'dessert':z }\\nmenu('terra','deer')\", \"menu('1','2','3')\", \"def buggy(arg,result=[]):\\n    result.append(arg)\\n    print(result)\\nbuggy('x')    \", \"buggy('x')\", \"def works(arg):\\n    result=[]\\n    result.append(arg)\\n    return result\\nworks('a')\", \"works('b')\", \"def  nonbuggy(arg,result=None)\\nif result is None:\\n    result = []\\n    result.append(arg)\\n    print(result)\\nnonbuggy('a')    \", \"def  nonbuggy(arg,result=None):\\n    if result is None:\\n    result = []\\n    result.append(arg)\\n    print(result)\\nnonbuggy('a')    \", \"def  nonbuggy(arg,result=None):\\n    if result is None:\\n        result = []\\n        result.append(arg)\\n        print(result)\\nnonbuggy('a')    \", \"nonbuggy('b')\", \"#위치 인수 분해하기 모으기 :*\\ndef print_args(*args):\\n    print('Positional tuple:' , args)\\nprint_args('1')\", 'type(print_args())', \"type(print_args('1'))\", 'def print_more(required1,required2,*args):\\n    print(\"Nedd this one:\", required1)\\n    print(\"Need this one:\", required2)\\n    print(\\'All the rest:\\', args)\\nprint_more(\\'1\\',\\'2\\',\\'3\\',\\'4\\',\\'5\\')', 'def x(*q):\\n    print(\"hI:\", q)\\nx(\\'1\\')    ', \"print_args(2,45,7,'x')\", \"args(2,5,6,'x')\", \"args=(2,5,6,'x')\", \"args=(2,5,6,'x')\", 'print_args(args)', 'print_args(*args)', \"def print_x(**kwargs):\\n    print('Keyword arguments', kwargs)\\nprint_x()    \", \"def print_x(**kwargs):\\n    print('Keyword arguments:', kwargs)\\nprint_x()    \", \"def print_x(**y):\\n    print('Keyword arguments:', y)\\nprint_x()    \", \"print_x(wine = '1',entree = '2',dessert = '3')\", \"print_kwargs('1','2')\", 'def print_data(data,*,start = 0 ,end =100):\\n    for value in (data[start:end]):\\n        print(value)', 'def print_data(data,*,start = 0 ,end =100):\\n    for value in (data[start:end]):\\n        print(value)', \"data =('a''b','c','d','e','f','g''h','i','j','k','l','m','n','o','p','q','r','s','t','u','v','w','x','y','z')\\nprint_data(data)\", \"data =('a','b','c','d','e','f','g','h','i','j','k','l','m','n','o','p','q','r','s','t','u','v','w','x','y','z')\\nprint_data(data)\", 'print(data , start =3)', 'print_data(data , start =3)', 'print_data(data,end=3)', \"#가변 불변 인수\\noutside = ['a','b','c']\\ndef mangle(arg):\\n    arg[1] = 'y'\\noutside    \", 'mangle(outside)', 'outside', \"#독스트링\\ndef echo(anything):\\n    'echo returns its input argument'\\n    return anything\", \"#독스트링\\ndef echo(anything):\\n    'echo returns its input argument'\\n    return anything\\necho('x')\", \"def print_if_true(thing, check):\\n    '''\\n    Prints the first argument if a second argument is true.\\n    The operation is:\\n        1. Check whether the *second* argument is true.\\n        2. if it is, print the *first* argument\\n    ''' #이건 독스트링을 길게 작정한 것이다\\n    if check:\\n        print(thing)\\nprint_if_true(,True)        \", \"def print_if_true(thing, check):\\n    '''\\n    Prints the first argument if a second argument is true.\\n    The operation is:\\n        1. Check whether the *second* argument is true.\\n        2. if it is, print the *first* argument\\n    ''' #이건 독스트링을 길게 작정한 것이다\\n    if check:\\n        print(thing)\\nprint_if_true(True)        \", \"def print_if_true(thing, check):\\n    '''\\n    Prints the first argument if a second argument is true.\\n    The operation is:\\n        1. Check whether the *second* argument is true.\\n        2. if it is, print the *first* argument\\n    ''' #이건 독스트링을 길게 작정한 것이다\\n    if check:\\n        print(thing)\\nprint_if_true('x',True)        \", \"def print_if_true(thing, check):\\n    '''\\n    Prints the first argument if a second argument is true.\\n    The operation is:\\n        1. Check whether the *second* argument is true.\\n        2. if it is, print the *first* argument\\n    ''' #이건 독스트링을 길게 작정한 것이다\\n    if check:\\n        print(thing)\\nprint_if_true('x','y')        \", \"def print_if_true(thing, check):\\n    '''\\n    Prints the first argument if a second argument is true.\\n    The operation is:\\n        1. Check whether the *second* argument is true.\\n        2. if it is, print the *first* argument\\n    ''' #이건 독스트링을 길게 작정한 것이다\\n    if check:\\n        print(thing)\\nprint_if_true('x',1)        \", \"def print_if_true(thing, check):\\n    '''\\n    Prints the first argument if a second argument is true.\\n    The operation is:\\n        1. Check whether the *second* argument is true.\\n        2. if it is, print the *first* argument\\n    ''' #이건 독스트링을 길게 작정한 것이다\\n    if check:\\n        print(thing)\\nprint_if_true('x',2)        \", \"def print_if_true(thing, check):\\n    '''\\n    Prints the first argument if a second argument is true.\\n    The operation is:\\n        1. Check whether the *second* argument is true.\\n        2. if it is, print the *first* argument\\n    ''' #이건 독스트링을 길게 작정한 것이다\\n    if check:\\n        print(thing)\\nprint_if_true('x',False)        \", 'help(echo)', 'print(echo.__doc__)', '#일등시민:힘수\\ndef answer():\\n    print(42)\\nanswer()   ', \"answer('1')\", 'def x(func):\\n    func()\\nx(answer)    ', 'x(answer())', 'type(x)', 'def add(args1,args2):\\n    print(args1+args2)\\ntype(add)    ', 'def mid(func,args1,args2):\\n    func(args1+args2)\\nmid(x,1,2)    ', 'def mid(func,args1,args2):\\n    func(args1+args2)\\nmid(p,1,2)    ', 'def mid(func,args1,args2):\\n    func(args1+args2)\\nmid(add,1,2)    ', 'add(1,2)', 'def mid(func,args1,args2):\\n    func(args1,args2)\\nmid(add,1,2)    ', 'def mid(y,args1,args2):\\n    y(args1,args2)\\nmid(add,1,2)    ', 'def mid(args1,args2):\\n    add(args1,args2)\\nmid(1,2)    ', 'def mid(args1,args2):\\n    add(args1,args2)\\nmid(1,2)    ', 'def sum_args(*args):\\n    return sum(args)#sum은 인수값을 모두 더하는 내장함수\\ndef x(func,*args):\\n    return func(*args)\\nx(sum_args , 1,2,3,4,5,6,7,8,9)', '#내부함수\\ndef outer(a,b):\\n    def inner(c,d):\\n        return c+d\\n    return inner(a,b)\\nouter(1,2)', 'def k(saying):\\n    def q(quote):\\n        return \"We are the K who say: \" ,%s quote\\n    return q(saying)\\nk(\"무야호\")', 'def k(saying):\\n    def q(quote):\\n        return \"We are the K who say: \\'%s\\'\" , quote\\n    return q(saying)\\nk(\"무야호\")', 'def k(saying):\\n    def q(quote):\\n        return \"We are the K who say: \\'%s\\'\" , %quote\\n    return q(saying)\\nk(\"무야호\")', 'def k(saying):\\n    def q(quote):\\n        return \"We are the K who say: \\'%s\\'\" , % quote\\n    return q(saying)\\nk(\"무야호\")', 'def k(saying):\\n    def q(quote):\\n        return \"We are the K who say: \\'%s\\'\" % quote\\n    return q(saying)\\nk(\"무야호\")', '#클로저\\ndef k2(saying):\\n    def q2():\\n        return \"We are th K2 who say: %s\" % saying\\n    return q2\\nk2(\"누구야!\")', '#클로저\\ndef k2(saying):\\n    def q2():\\n        return \"We are th K2 who say: %s\" % saying\\n    return q2\\na = k2(\"누구야!\")\\nb = k2(\"어질어질하다 그죠?\")\\na', 'b', 'print(type(a) , type(b))', '#익명 함수 lambda\\ndef E(words, func):\\n    for word in words:\\n        print(func(word))\\na = [\\'a무야호\\',\\'a거 제육좀 볶나?\\',\\'a나는 무적이고\\',\\'a코인은신이다\\']\\ndef B(word): #첫 글자를 대문자로 만들고 느낌표 붙이기\\n    return word.capitalzie()+\"!\"\\nE(a무야호,B)', '#익명 함수 lambda\\ndef E(words, func):\\n    for word in words:\\n        print(func(word))\\na = [\\'a무야호\\',\\'a거 제육좀 볶나?\\',\\'a나는 무적이고\\',\\'a코인은신이다\\']\\ndef B(word): #첫 글자를 대문자로 만들고 느낌표 붙이기\\n    return word.capitalzie()+\"!\"\\nE(a,B)', '#익명 함수 lambda\\ndef E(words, func):\\n    for word in words:\\n        print(func(word))\\na = [\\'apple\\',\\'america\\',\\'anaconda\\',\\'amazing\\']\\ndef B(word): #첫 글자를 대문자로 만들고 느낌표 붙이기\\n    return word.capitalzie()+\"!\"\\nE(a,B)', '#익명 함수 lambda\\ndef E(words, func):\\n    for word in words:\\n        print(func(word))\\na = [\\'a무야호\\',\\'a거 제육좀 볶나\\',\\'a뭐야\\',\\'a뭐 어떻게 안되나\\']\\ndef B(word): #첫 글자를 대문자로 만들고 느낌표 붙이기\\n    return word.capitalize()+\"!\"\\nE(a,B)', 'E(a,lanbda word:word.capitalize()+\"!\")', 'E(a,lambda word: word.capitalize()+\"!\")', '#내부함수\\ndef outer(a,b):\\n    def inner(c,d):\\n        return c+d\\n    return inner(a,b)\\nouter(1,2)\\n#반복문 코드중복 등을 피하고자 또 다른 하뭇 내에 어떤 복잡한 작업을 한 번 이상 수행할 때\\n#유용하게 사용된다.', '#제너뤠이터\\n#시퀀스를 생성하는 객체\\nsum(range(1,101))', 'range(1,101)', '#generator function\\ndef my(first = 0 , last = 10, step =1):\\n    number = first\\n    while number < 1ast:\\n        yeild number#yeild문으로 값을 반환\\n        number+=step\\ng = my(0, 11)\\nfor x in g:\\n    print(x)', '#generator function\\ndef my(first = 0 , last = 10, step =1):\\n    number = first\\n    while number < last:\\n        yeild number#yeild문으로 값을 반환\\n        number+=step\\ng = my(0, 11)\\nfor x in g:\\n    print(x)', '#generator function\\ndef my(first = 0 , last = 10, step =1):\\n    number = first\\n    while number < last:\\n        yield number  #yield문으로 값을 반환\\n        number+=step\\ng = my(0, 11)\\nfor x in g:\\n    print(x)', '#generator function\\ndef my(first = 0 , last = 10, step =1):\\n    number = first\\n    while number < last:\\n        yield number  #yield문으로 값을 반환\\n        number+=step\\ng = my(0, 12)\\nfor x in g:\\n    print(x)', '#generator function\\ndef my(first = 0 , last = 10, step =1):\\n    number = first\\n    while number < last:\\n        yield number  #yield문으로 값을 반환\\n        number+=step\\ng = my(3, 12)\\nfor x in g:\\n    print(x)', '#순회를 마친 제너레이터를 다시 순회한다면 다음과 같이 아무것도 반환하지 않는다.\\nfor  onemore in g:\\n    print(onemore)', 'for x in g:\\n    print(x)', \"#generator comprehension\\ngenobj = (pair for pair in zip(['a','b'],['1','2']))\\ngenobj\", 'for thing in genobj:\\n    print(thing)', '#decorator\\n#함수를 코드를 바꾸지않고 수정하고싶어\\ndef doc(func):\\n    def nowdoc(*args,**kwargs):\\n        print(\"Running function:\",func.__name__)\\n        print(\\'Positional arguments:\\',args)\\n        print(\\'Keyword arguments:\\' kwargs)\\n        result = func(*args,**kwargs)\\n        print(\\'Resert:\\',result)\\n        return result\\n    return nowdoc\\ndef add(a,b):\\n    return a+b\\nadd(3,5)', '#decorator\\n#함수를 코드를 바꾸지않고 수정하고싶어\\ndef doc(func):\\n    def nowdoc(*args,**kwargs):\\n        print(\"Running function:\",func.__name__)\\n        print(\\'Positional arguments:\\',args)\\n        print(\\'Keyword arguments:\\', kwargs)\\n        result = func(*args,**kwargs)\\n        print(\\'Resert:\\',result)\\n        return result\\n    return nowdoc\\ndef add(a,b):\\n    return a+b\\nadd(3,5)', 'cooler = docu(add)#데커레이터 수동 할당\\ncooler(3,5)', 'cooler = doc(add)#데커레이터 수동 할당\\ncooler(3,5)', '@document_it\\ndef add_ints(a,b):\\n    return a+b\\nadd_ints(3,5)', '@doc\\ndef add_ints(a,b):\\n    return a+b\\nadd_ints(3,5)', 'def square_it(fucn):\\n    def new_function(*args,**kwargs):\\n        result = func(*args,**kwargs)\\n        return result * result\\n    return new_function\\n@doc\\n@square_it\\ndef add_ints(a,b):\\n    return a+b\\nadd_ints(3,5)', 'def square_it(func):\\n    def new_function(*args,**kwargs):\\n        result = func(*args,**kwargs)\\n        return result * result\\n    return new_function\\n@doc\\n@square_it\\ndef add_ints(a,b):\\n    return a+b\\nadd_ints(3,5)', '@square_it\\n@doc\\ndef add_ints(a,b):\\n    return a+b\\nadd_ints(3,5)', \"#네임스페이스와 스코프\\nanimal = 'fruitbat'\\ndef print_global():\\n    print('inside print_global:', animal)\\nprint('at the top level:', animal)\", 'print_global()', \"def change_and_print_global():\\n    print('inside change_and_print_global:', animal)\\n    animal = 'wombat'\\n    print('after the change:'animal)\\nchange_and_global().    \", \"def change_and_print_global():\\n    print('inside change_and_print_global:', animal)\\n    animal = 'wombat'\\n    print('after the change:',animal)\\nchange_and_global().    \", \"def change_and_print_global():\\n    print('inside change_and_print_global:', animal)\\n    animal = 'wombat'\\n    print('after the change:',animal)\\nchange_and_print_global().    \", \"def change_local():\\n    animal = 'wombat'\\n    print('inside change_local:', animal,id(animal))\\nchange_local()    \", 'animal', 'id(animal)', \"def change_and_print_global():\\n    print('inside change_and_print_global:', animal)\\n    animal = 'wombat'\\n    print('after the change:',animal)\\nchange_and_print_global()  \", 'change_and_print_global()', \"animal = 'printbat'\\ndef change_and_print_global():\\n    global animal\\n    animal = 'wombat'\\n    print('after the change:', animal)\\nanimal    \", 'change_and_print_global()', 'animal', \"animal = 'fruitbat'\\ndef change():\\n    animal = 'wombat'#지역변수\\n    print('locals:', locals())\\nanimal   \", 'change()', \"animal = 'fruitbat'\\ndef change():\\n    anima = 'wombat'#지역변수\\n    print('locals:', locals())\\nanimal   \", \"anima = 'fruitbat'\\ndef change():\\n    animal = 'wombat'#지역변수\\n    print('locals:', locals())\\nanima   \", \"x = 'fruitbat' #전역변수\\ndef change():\\n    x = 'wombat'#지역변수\\n    print('locals:', locals())\\nx   \", 'change()', \"x = 'fruitbat' #전역변수\\ndef change():\\n    y = 'wombat'#지역변수\\n    print('locals:', locals())\\nx   \", 'change()', \"animal = 'fruitbat' #전역변수\\ndef change():\\n    animal = 'wombat'#지역변수\\n    print('locals:', locals())\\nanimal   \", 'change()', \"print('globals:',globals())\", \"print('globals:',globals())\", \"print('global:',global())\", \"print('global:', global())\", \"print('globals :', globals())\", \"print('x :', x())\", \"print('globals :', globals())\"], '_oh': {4: '1 1', 5: 'Rumplestiltskin Rumplestiltskin', 6: \"I've never heard of the colorpurple.\", 7: \"I've never heard of the color purple.\", 20: {'wine': 'chatto', 'entree': 'pizza', 'dessert': 'pie'}, 21: {'wine': 'Terra', 'entree': 'beed', 'dessert': 'pie'}, 23: {'wine': 'terra', 'entree': 'deer', 'dessert': 'pie'}, 24: {'wine': '1', 'entree': '2', 'dessert': '3'}, 27: ['a'], 28: ['b'], 34: <class 'NoneType'>, 35: <class 'NoneType'>, 56: ['a', 'y', 'c'], 58: ['a', 'y', 'c'], 60: 'x', 74: <class 'function'>, 75: <class 'function'>, 84: 45, 85: 3, 87: (\"We are the K who say: '%s'\", '무야호'), 90: \"We are the K who say: '무야호'\", 91: <function k2.<locals>.q2 at 0x7f2e18066280>, 92: <function k2.<locals>.q2 at 0x7f2e18066160>, 93: <function k2.<locals>.q2 at 0x7f2e180663a0>, 101: 3, 102: 5050, 103: range(1, 101), 111: <generator object <genexpr> at 0x7f2e18070430>, 114: 8, 116: 8, 118: 8, 120: 64, 121: 64, 128: 'fruitbat', 129: 139835948653488, 132: 'printbat', 134: 'wombat', 135: 'fruitbat', 137: 'fruitbat', 138: 'fruitbat', 139: 'fruitbat', 141: 'fruitbat', 143: 'fruitbat'}, '_dh': ['/home/ai/python tutorial'], 'In': ['', '#함수를 정의한다  def 함수이름(매개변수):\\ndef do_nothing():\\n    pass\\ndo_nothing()', \"def make_a_sound():\\n    print('quack')\\nmake_a_sound()    \", \"def agree():\\n    return True\\nif agree():\\n    print('splendid')\\nelse:\\n    print('That was unexpected')\\n    \", \"def echo(x):\\n    return x + ' '+ x\\necho('1')\", \"echo('Rumplestiltskin')\", 'def commentary(color):\\n    if color == \\'red\\':\\n        print(\\'red is apple\\')\\n    elif color == \\'green\\':\\n        print(\\'green is lalo\\')\\n    else:\\n        return \"I\\'ve never heard of the color\" + color+\".\"\\ncommentary(\\'purple\\')    ', 'def commentary(color):\\n    if color == \\'red\\':\\n        print(\\'red is apple\\')\\n    elif color == \\'green\\':\\n        print(\\'green is lalo\\')\\n    else:\\n        return \"I\\'ve never heard of the color \" + color+\".\"\\ncommentary(\\'purple\\')    ', \"commentary('red')\", \"commentary('green')\", \"#None :아무것도 없다는 것을 뜻하는 파이썬의 특별한 값\\nthing = None\\nif thing:\\n    print('x')\\nelse:\\n    print('y')\", \"thing = None\\nif thing is None:\\n    print('x')\\nelse:\\n    print('y')\", \"thing = False\\nif thing is False:\\n    print('x')\\nelse:\\n    print('y')\", 'def whatis(thing):\\n    if thing is None:\\n        print(thing,\" is None\")\\n    elif thing:\\n        print(thing,\" is True\")\\n    else:\\n        print(thing,\" is False\")\\nwhatis(True)        ', 'whatis(False)', 'whatis(apple)', \"whatis('apple')\", \"whatis('None')\", 'whatis(0)', 'whatis([])', \"#위치 인수\\ndef menu(x , y, z):\\n    return{'wine':x,'entree':y,'dessert':z}\\nmenu('chatto','pizza','pie')\", \"#키워드 인수\\nmenu(y='beed',z = 'pie',x = 'Terra')\", \"#기본 매개변수 값 지정하기\\ndef menu(x,y ,z = 'pie'):\\n    return {'wine'=x , 'entree'=y , 'dessert':z }\\nmenu('terra','deer')\", \"#기본 매개변수 값 지정하기\\ndef menu(x,y ,z = 'pie'):\\n    return {'wine':x , 'entree':y , 'dessert':z }\\nmenu('terra','deer')\", \"menu('1','2','3')\", \"def buggy(arg,result=[]):\\n    result.append(arg)\\n    print(result)\\nbuggy('x')    \", \"buggy('x')\", \"def works(arg):\\n    result=[]\\n    result.append(arg)\\n    return result\\nworks('a')\", \"works('b')\", \"def  nonbuggy(arg,result=None)\\nif result is None:\\n    result = []\\n    result.append(arg)\\n    print(result)\\nnonbuggy('a')    \", \"def  nonbuggy(arg,result=None):\\n    if result is None:\\n    result = []\\n    result.append(arg)\\n    print(result)\\nnonbuggy('a')    \", \"def  nonbuggy(arg,result=None):\\n    if result is None:\\n        result = []\\n        result.append(arg)\\n        print(result)\\nnonbuggy('a')    \", \"nonbuggy('b')\", \"#위치 인수 분해하기 모으기 :*\\ndef print_args(*args):\\n    print('Positional tuple:' , args)\\nprint_args('1')\", 'type(print_args())', \"type(print_args('1'))\", 'def print_more(required1,required2,*args):\\n    print(\"Nedd this one:\", required1)\\n    print(\"Need this one:\", required2)\\n    print(\\'All the rest:\\', args)\\nprint_more(\\'1\\',\\'2\\',\\'3\\',\\'4\\',\\'5\\')', 'def x(*q):\\n    print(\"hI:\", q)\\nx(\\'1\\')    ', \"print_args(2,45,7,'x')\", \"args(2,5,6,'x')\", \"args=(2,5,6,'x')\", \"args=(2,5,6,'x')\", 'print_args(args)', 'print_args(*args)', \"def print_x(**kwargs):\\n    print('Keyword arguments', kwargs)\\nprint_x()    \", \"def print_x(**kwargs):\\n    print('Keyword arguments:', kwargs)\\nprint_x()    \", \"def print_x(**y):\\n    print('Keyword arguments:', y)\\nprint_x()    \", \"print_x(wine = '1',entree = '2',dessert = '3')\", \"print_kwargs('1','2')\", 'def print_data(data,*,start = 0 ,end =100):\\n    for value in (data[start:end]):\\n        print(value)', 'def print_data(data,*,start = 0 ,end =100):\\n    for value in (data[start:end]):\\n        print(value)', \"data =('a''b','c','d','e','f','g''h','i','j','k','l','m','n','o','p','q','r','s','t','u','v','w','x','y','z')\\nprint_data(data)\", \"data =('a','b','c','d','e','f','g','h','i','j','k','l','m','n','o','p','q','r','s','t','u','v','w','x','y','z')\\nprint_data(data)\", 'print(data , start =3)', 'print_data(data , start =3)', 'print_data(data,end=3)', \"#가변 불변 인수\\noutside = ['a','b','c']\\ndef mangle(arg):\\n    arg[1] = 'y'\\noutside    \", 'mangle(outside)', 'outside', \"#독스트링\\ndef echo(anything):\\n    'echo returns its input argument'\\n    return anything\", \"#독스트링\\ndef echo(anything):\\n    'echo returns its input argument'\\n    return anything\\necho('x')\", \"def print_if_true(thing, check):\\n    '''\\n    Prints the first argument if a second argument is true.\\n    The operation is:\\n        1. Check whether the *second* argument is true.\\n        2. if it is, print the *first* argument\\n    ''' #이건 독스트링을 길게 작정한 것이다\\n    if check:\\n        print(thing)\\nprint_if_true(,True)        \", \"def print_if_true(thing, check):\\n    '''\\n    Prints the first argument if a second argument is true.\\n    The operation is:\\n        1. Check whether the *second* argument is true.\\n        2. if it is, print the *first* argument\\n    ''' #이건 독스트링을 길게 작정한 것이다\\n    if check:\\n        print(thing)\\nprint_if_true(True)        \", \"def print_if_true(thing, check):\\n    '''\\n    Prints the first argument if a second argument is true.\\n    The operation is:\\n        1. Check whether the *second* argument is true.\\n        2. if it is, print the *first* argument\\n    ''' #이건 독스트링을 길게 작정한 것이다\\n    if check:\\n        print(thing)\\nprint_if_true('x',True)        \", \"def print_if_true(thing, check):\\n    '''\\n    Prints the first argument if a second argument is true.\\n    The operation is:\\n        1. Check whether the *second* argument is true.\\n        2. if it is, print the *first* argument\\n    ''' #이건 독스트링을 길게 작정한 것이다\\n    if check:\\n        print(thing)\\nprint_if_true('x','y')        \", \"def print_if_true(thing, check):\\n    '''\\n    Prints the first argument if a second argument is true.\\n    The operation is:\\n        1. Check whether the *second* argument is true.\\n        2. if it is, print the *first* argument\\n    ''' #이건 독스트링을 길게 작정한 것이다\\n    if check:\\n        print(thing)\\nprint_if_true('x',1)        \", \"def print_if_true(thing, check):\\n    '''\\n    Prints the first argument if a second argument is true.\\n    The operation is:\\n        1. Check whether the *second* argument is true.\\n        2. if it is, print the *first* argument\\n    ''' #이건 독스트링을 길게 작정한 것이다\\n    if check:\\n        print(thing)\\nprint_if_true('x',2)        \", \"def print_if_true(thing, check):\\n    '''\\n    Prints the first argument if a second argument is true.\\n    The operation is:\\n        1. Check whether the *second* argument is true.\\n        2. if it is, print the *first* argument\\n    ''' #이건 독스트링을 길게 작정한 것이다\\n    if check:\\n        print(thing)\\nprint_if_true('x',False)        \", 'help(echo)', 'print(echo.__doc__)', '#일등시민:힘수\\ndef answer():\\n    print(42)\\nanswer()   ', \"answer('1')\", 'def x(func):\\n    func()\\nx(answer)    ', 'x(answer())', 'type(x)', 'def add(args1,args2):\\n    print(args1+args2)\\ntype(add)    ', 'def mid(func,args1,args2):\\n    func(args1+args2)\\nmid(x,1,2)    ', 'def mid(func,args1,args2):\\n    func(args1+args2)\\nmid(p,1,2)    ', 'def mid(func,args1,args2):\\n    func(args1+args2)\\nmid(add,1,2)    ', 'add(1,2)', 'def mid(func,args1,args2):\\n    func(args1,args2)\\nmid(add,1,2)    ', 'def mid(y,args1,args2):\\n    y(args1,args2)\\nmid(add,1,2)    ', 'def mid(args1,args2):\\n    add(args1,args2)\\nmid(1,2)    ', 'def mid(args1,args2):\\n    add(args1,args2)\\nmid(1,2)    ', 'def sum_args(*args):\\n    return sum(args)#sum은 인수값을 모두 더하는 내장함수\\ndef x(func,*args):\\n    return func(*args)\\nx(sum_args , 1,2,3,4,5,6,7,8,9)', '#내부함수\\ndef outer(a,b):\\n    def inner(c,d):\\n        return c+d\\n    return inner(a,b)\\nouter(1,2)', 'def k(saying):\\n    def q(quote):\\n        return \"We are the K who say: \" ,%s quote\\n    return q(saying)\\nk(\"무야호\")', 'def k(saying):\\n    def q(quote):\\n        return \"We are the K who say: \\'%s\\'\" , quote\\n    return q(saying)\\nk(\"무야호\")', 'def k(saying):\\n    def q(quote):\\n        return \"We are the K who say: \\'%s\\'\" , %quote\\n    return q(saying)\\nk(\"무야호\")', 'def k(saying):\\n    def q(quote):\\n        return \"We are the K who say: \\'%s\\'\" , % quote\\n    return q(saying)\\nk(\"무야호\")', 'def k(saying):\\n    def q(quote):\\n        return \"We are the K who say: \\'%s\\'\" % quote\\n    return q(saying)\\nk(\"무야호\")', '#클로저\\ndef k2(saying):\\n    def q2():\\n        return \"We are th K2 who say: %s\" % saying\\n    return q2\\nk2(\"누구야!\")', '#클로저\\ndef k2(saying):\\n    def q2():\\n        return \"We are th K2 who say: %s\" % saying\\n    return q2\\na = k2(\"누구야!\")\\nb = k2(\"어질어질하다 그죠?\")\\na', 'b', 'print(type(a) , type(b))', '#익명 함수 lambda\\ndef E(words, func):\\n    for word in words:\\n        print(func(word))\\na = [\\'a무야호\\',\\'a거 제육좀 볶나?\\',\\'a나는 무적이고\\',\\'a코인은신이다\\']\\ndef B(word): #첫 글자를 대문자로 만들고 느낌표 붙이기\\n    return word.capitalzie()+\"!\"\\nE(a무야호,B)', '#익명 함수 lambda\\ndef E(words, func):\\n    for word in words:\\n        print(func(word))\\na = [\\'a무야호\\',\\'a거 제육좀 볶나?\\',\\'a나는 무적이고\\',\\'a코인은신이다\\']\\ndef B(word): #첫 글자를 대문자로 만들고 느낌표 붙이기\\n    return word.capitalzie()+\"!\"\\nE(a,B)', '#익명 함수 lambda\\ndef E(words, func):\\n    for word in words:\\n        print(func(word))\\na = [\\'apple\\',\\'america\\',\\'anaconda\\',\\'amazing\\']\\ndef B(word): #첫 글자를 대문자로 만들고 느낌표 붙이기\\n    return word.capitalzie()+\"!\"\\nE(a,B)', '#익명 함수 lambda\\ndef E(words, func):\\n    for word in words:\\n        print(func(word))\\na = [\\'a무야호\\',\\'a거 제육좀 볶나\\',\\'a뭐야\\',\\'a뭐 어떻게 안되나\\']\\ndef B(word): #첫 글자를 대문자로 만들고 느낌표 붙이기\\n    return word.capitalize()+\"!\"\\nE(a,B)', 'E(a,lanbda word:word.capitalize()+\"!\")', 'E(a,lambda word: word.capitalize()+\"!\")', '#내부함수\\ndef outer(a,b):\\n    def inner(c,d):\\n        return c+d\\n    return inner(a,b)\\nouter(1,2)\\n#반복문 코드중복 등을 피하고자 또 다른 하뭇 내에 어떤 복잡한 작업을 한 번 이상 수행할 때\\n#유용하게 사용된다.', '#제너뤠이터\\n#시퀀스를 생성하는 객체\\nsum(range(1,101))', 'range(1,101)', '#generator function\\ndef my(first = 0 , last = 10, step =1):\\n    number = first\\n    while number < 1ast:\\n        yeild number#yeild문으로 값을 반환\\n        number+=step\\ng = my(0, 11)\\nfor x in g:\\n    print(x)', '#generator function\\ndef my(first = 0 , last = 10, step =1):\\n    number = first\\n    while number < last:\\n        yeild number#yeild문으로 값을 반환\\n        number+=step\\ng = my(0, 11)\\nfor x in g:\\n    print(x)', '#generator function\\ndef my(first = 0 , last = 10, step =1):\\n    number = first\\n    while number < last:\\n        yield number  #yield문으로 값을 반환\\n        number+=step\\ng = my(0, 11)\\nfor x in g:\\n    print(x)', '#generator function\\ndef my(first = 0 , last = 10, step =1):\\n    number = first\\n    while number < last:\\n        yield number  #yield문으로 값을 반환\\n        number+=step\\ng = my(0, 12)\\nfor x in g:\\n    print(x)', '#generator function\\ndef my(first = 0 , last = 10, step =1):\\n    number = first\\n    while number < last:\\n        yield number  #yield문으로 값을 반환\\n        number+=step\\ng = my(3, 12)\\nfor x in g:\\n    print(x)', '#순회를 마친 제너레이터를 다시 순회한다면 다음과 같이 아무것도 반환하지 않는다.\\nfor  onemore in g:\\n    print(onemore)', 'for x in g:\\n    print(x)', \"#generator comprehension\\ngenobj = (pair for pair in zip(['a','b'],['1','2']))\\ngenobj\", 'for thing in genobj:\\n    print(thing)', '#decorator\\n#함수를 코드를 바꾸지않고 수정하고싶어\\ndef doc(func):\\n    def nowdoc(*args,**kwargs):\\n        print(\"Running function:\",func.__name__)\\n        print(\\'Positional arguments:\\',args)\\n        print(\\'Keyword arguments:\\' kwargs)\\n        result = func(*args,**kwargs)\\n        print(\\'Resert:\\',result)\\n        return result\\n    return nowdoc\\ndef add(a,b):\\n    return a+b\\nadd(3,5)', '#decorator\\n#함수를 코드를 바꾸지않고 수정하고싶어\\ndef doc(func):\\n    def nowdoc(*args,**kwargs):\\n        print(\"Running function:\",func.__name__)\\n        print(\\'Positional arguments:\\',args)\\n        print(\\'Keyword arguments:\\', kwargs)\\n        result = func(*args,**kwargs)\\n        print(\\'Resert:\\',result)\\n        return result\\n    return nowdoc\\ndef add(a,b):\\n    return a+b\\nadd(3,5)', 'cooler = docu(add)#데커레이터 수동 할당\\ncooler(3,5)', 'cooler = doc(add)#데커레이터 수동 할당\\ncooler(3,5)', '@document_it\\ndef add_ints(a,b):\\n    return a+b\\nadd_ints(3,5)', '@doc\\ndef add_ints(a,b):\\n    return a+b\\nadd_ints(3,5)', 'def square_it(fucn):\\n    def new_function(*args,**kwargs):\\n        result = func(*args,**kwargs)\\n        return result * result\\n    return new_function\\n@doc\\n@square_it\\ndef add_ints(a,b):\\n    return a+b\\nadd_ints(3,5)', 'def square_it(func):\\n    def new_function(*args,**kwargs):\\n        result = func(*args,**kwargs)\\n        return result * result\\n    return new_function\\n@doc\\n@square_it\\ndef add_ints(a,b):\\n    return a+b\\nadd_ints(3,5)', '@square_it\\n@doc\\ndef add_ints(a,b):\\n    return a+b\\nadd_ints(3,5)', \"#네임스페이스와 스코프\\nanimal = 'fruitbat'\\ndef print_global():\\n    print('inside print_global:', animal)\\nprint('at the top level:', animal)\", 'print_global()', \"def change_and_print_global():\\n    print('inside change_and_print_global:', animal)\\n    animal = 'wombat'\\n    print('after the change:'animal)\\nchange_and_global().    \", \"def change_and_print_global():\\n    print('inside change_and_print_global:', animal)\\n    animal = 'wombat'\\n    print('after the change:',animal)\\nchange_and_global().    \", \"def change_and_print_global():\\n    print('inside change_and_print_global:', animal)\\n    animal = 'wombat'\\n    print('after the change:',animal)\\nchange_and_print_global().    \", \"def change_local():\\n    animal = 'wombat'\\n    print('inside change_local:', animal,id(animal))\\nchange_local()    \", 'animal', 'id(animal)', \"def change_and_print_global():\\n    print('inside change_and_print_global:', animal)\\n    animal = 'wombat'\\n    print('after the change:',animal)\\nchange_and_print_global()  \", 'change_and_print_global()', \"animal = 'printbat'\\ndef change_and_print_global():\\n    global animal\\n    animal = 'wombat'\\n    print('after the change:', animal)\\nanimal    \", 'change_and_print_global()', 'animal', \"animal = 'fruitbat'\\ndef change():\\n    animal = 'wombat'#지역변수\\n    print('locals:', locals())\\nanimal   \", 'change()', \"animal = 'fruitbat'\\ndef change():\\n    anima = 'wombat'#지역변수\\n    print('locals:', locals())\\nanimal   \", \"anima = 'fruitbat'\\ndef change():\\n    animal = 'wombat'#지역변수\\n    print('locals:', locals())\\nanima   \", \"x = 'fruitbat' #전역변수\\ndef change():\\n    x = 'wombat'#지역변수\\n    print('locals:', locals())\\nx   \", 'change()', \"x = 'fruitbat' #전역변수\\ndef change():\\n    y = 'wombat'#지역변수\\n    print('locals:', locals())\\nx   \", 'change()', \"animal = 'fruitbat' #전역변수\\ndef change():\\n    animal = 'wombat'#지역변수\\n    print('locals:', locals())\\nanimal   \", 'change()', \"print('globals:',globals())\", \"print('globals:',globals())\", \"print('global:',global())\", \"print('global:', global())\", \"print('globals :', globals())\", \"print('x :', x())\", \"print('globals :', globals())\"], 'Out': {4: '1 1', 5: 'Rumplestiltskin Rumplestiltskin', 6: \"I've never heard of the colorpurple.\", 7: \"I've never heard of the color purple.\", 20: {'wine': 'chatto', 'entree': 'pizza', 'dessert': 'pie'}, 21: {'wine': 'Terra', 'entree': 'beed', 'dessert': 'pie'}, 23: {'wine': 'terra', 'entree': 'deer', 'dessert': 'pie'}, 24: {'wine': '1', 'entree': '2', 'dessert': '3'}, 27: ['a'], 28: ['b'], 34: <class 'NoneType'>, 35: <class 'NoneType'>, 56: ['a', 'y', 'c'], 58: ['a', 'y', 'c'], 60: 'x', 74: <class 'function'>, 75: <class 'function'>, 84: 45, 85: 3, 87: (\"We are the K who say: '%s'\", '무야호'), 90: \"We are the K who say: '무야호'\", 91: <function k2.<locals>.q2 at 0x7f2e18066280>, 92: <function k2.<locals>.q2 at 0x7f2e18066160>, 93: <function k2.<locals>.q2 at 0x7f2e180663a0>, 101: 3, 102: 5050, 103: range(1, 101), 111: <generator object <genexpr> at 0x7f2e18070430>, 114: 8, 116: 8, 118: 8, 120: 64, 121: 64, 128: 'fruitbat', 129: 139835948653488, 132: 'printbat', 134: 'wombat', 135: 'fruitbat', 137: 'fruitbat', 138: 'fruitbat', 139: 'fruitbat', 141: 'fruitbat', 143: 'fruitbat'}, 'get_ipython': <bound method InteractiveShell.get_ipython of <ipykernel.zmqshell.ZMQInteractiveShell object at 0x7f2e1a1ef070>>, 'exit': <IPython.core.autocall.ZMQExitAutocall object at 0x7f2e181475b0>, 'quit': <IPython.core.autocall.ZMQExitAutocall object at 0x7f2e181475b0>, '_': 'fruitbat', '__': 'fruitbat', '___': 'fruitbat', '_i': \"print('x :', x())\", '_ii': \"print('globals :', globals())\", '_iii': \"print('global:', global())\", '_i1': '#함수를 정의한다  def 함수이름(매개변수):\\ndef do_nothing():\\n    pass\\ndo_nothing()', 'do_nothing': <function do_nothing at 0x7f2e18100ca0>, '_i2': \"def make_a_sound():\\n    print('quack')\\nmake_a_sound()    \", 'make_a_sound': <function make_a_sound at 0x7f2e18100b80>, '_i3': \"def agree():\\n    return True\\nif agree():\\n    print('splendid')\\nelse:\\n    print('That was unexpected')\\n    \", 'agree': <function agree at 0x7f2e181009d0>, '_i4': \"def echo(x):\\n    return x + ' '+ x\\necho('1')\", 'echo': <function echo at 0x7f2e18048700>, '_4': '1 1', '_i5': \"echo('Rumplestiltskin')\", '_5': 'Rumplestiltskin Rumplestiltskin', '_i6': 'def commentary(color):\\n    if color == \\'red\\':\\n        print(\\'red is apple\\')\\n    elif color == \\'green\\':\\n        print(\\'green is lalo\\')\\n    else:\\n        return \"I\\'ve never heard of the color\" + color+\".\"\\ncommentary(\\'purple\\')    ', 'commentary': <function commentary at 0x7f2e180b2160>, '_6': \"I've never heard of the colorpurple.\", '_i7': 'def commentary(color):\\n    if color == \\'red\\':\\n        print(\\'red is apple\\')\\n    elif color == \\'green\\':\\n        print(\\'green is lalo\\')\\n    else:\\n        return \"I\\'ve never heard of the color \" + color+\".\"\\ncommentary(\\'purple\\')    ', '_7': \"I've never heard of the color purple.\", '_i8': \"commentary('red')\", '_i9': \"commentary('green')\", '_i10': \"#None :아무것도 없다는 것을 뜻하는 파이썬의 특별한 값\\nthing = None\\nif thing:\\n    print('x')\\nelse:\\n    print('y')\", 'thing': ('b', '2'), '_i11': \"thing = None\\nif thing is None:\\n    print('x')\\nelse:\\n    print('y')\", '_i12': \"thing = False\\nif thing is False:\\n    print('x')\\nelse:\\n    print('y')\", '_i13': 'def whatis(thing):\\n    if thing is None:\\n        print(thing,\" is None\")\\n    elif thing:\\n        print(thing,\" is True\")\\n    else:\\n        print(thing,\" is False\")\\nwhatis(True)        ', 'whatis': <function whatis at 0x7f2e180b2550>, '_i14': 'whatis(False)', '_i15': 'whatis(apple)', '_i16': \"whatis('apple')\", '_i17': \"whatis('None')\", '_i18': 'whatis(0)', '_i19': 'whatis([])', '_i20': \"#위치 인수\\ndef menu(x , y, z):\\n    return{'wine':x,'entree':y,'dessert':z}\\nmenu('chatto','pizza','pie')\", 'menu': <function menu at 0x7f2e18033e50>, '_20': {'wine': 'chatto', 'entree': 'pizza', 'dessert': 'pie'}, '_i21': \"#키워드 인수\\nmenu(y='beed',z = 'pie',x = 'Terra')\", '_21': {'wine': 'Terra', 'entree': 'beed', 'dessert': 'pie'}, '_i22': \"#기본 매개변수 값 지정하기\\ndef menu(x,y ,z = 'pie'):\\n    return {'wine'=x , 'entree'=y , 'dessert':z }\\nmenu('terra','deer')\", '_i23': \"#기본 매개변수 값 지정하기\\ndef menu(x,y ,z = 'pie'):\\n    return {'wine':x , 'entree':y , 'dessert':z }\\nmenu('terra','deer')\", '_23': {'wine': 'terra', 'entree': 'deer', 'dessert': 'pie'}, '_i24': \"menu('1','2','3')\", '_24': {'wine': '1', 'entree': '2', 'dessert': '3'}, '_i25': \"def buggy(arg,result=[]):\\n    result.append(arg)\\n    print(result)\\nbuggy('x')    \", 'buggy': <function buggy at 0x7f2e18048160>, '_i26': \"buggy('x')\", '_i27': \"def works(arg):\\n    result=[]\\n    result.append(arg)\\n    return result\\nworks('a')\", 'works': <function works at 0x7f2e180480d0>, '_27': ['a'], '_i28': \"works('b')\", '_28': ['b'], '_i29': \"def  nonbuggy(arg,result=None)\\nif result is None:\\n    result = []\\n    result.append(arg)\\n    print(result)\\nnonbuggy('a')    \", '_i30': \"def  nonbuggy(arg,result=None):\\n    if result is None:\\n    result = []\\n    result.append(arg)\\n    print(result)\\nnonbuggy('a')    \", '_i31': \"def  nonbuggy(arg,result=None):\\n    if result is None:\\n        result = []\\n        result.append(arg)\\n        print(result)\\nnonbuggy('a')    \", 'nonbuggy': <function nonbuggy at 0x7f2e18048430>, '_i32': \"nonbuggy('b')\", '_i33': \"#위치 인수 분해하기 모으기 :*\\ndef print_args(*args):\\n    print('Positional tuple:' , args)\\nprint_args('1')\", 'print_args': <function print_args at 0x7f2e180485e0>, '_i34': 'type(print_args())', '_34': <class 'NoneType'>, '_i35': \"type(print_args('1'))\", '_35': <class 'NoneType'>, '_i36': 'def print_more(required1,required2,*args):\\n    print(\"Nedd this one:\", required1)\\n    print(\"Need this one:\", required2)\\n    print(\\'All the rest:\\', args)\\nprint_more(\\'1\\',\\'2\\',\\'3\\',\\'4\\',\\'5\\')', 'print_more': <function print_more at 0x7f2e180481f0>, '_i37': 'def x(*q):\\n    print(\"hI:\", q)\\nx(\\'1\\')    ', 'x': 'fruitbat', '_i38': \"print_args(2,45,7,'x')\", '_i39': \"args(2,5,6,'x')\", '_i40': \"args=(2,5,6,'x')\", 'args': (2, 5, 6, 'x'), '_i41': \"args=(2,5,6,'x')\", '_i42': 'print_args(args)', '_i43': 'print_args(*args)', '_i44': \"def print_x(**kwargs):\\n    print('Keyword arguments', kwargs)\\nprint_x()    \", 'print_x': <function print_x at 0x7f2e18048ca0>, '_i45': \"def print_x(**kwargs):\\n    print('Keyword arguments:', kwargs)\\nprint_x()    \", '_i46': \"def print_x(**y):\\n    print('Keyword arguments:', y)\\nprint_x()    \", '_i47': \"print_x(wine = '1',entree = '2',dessert = '3')\", '_i48': \"print_kwargs('1','2')\", '_i49': 'def print_data(data,*,start = 0 ,end =100):\\n    for value in (data[start:end]):\\n        print(value)', 'print_data': <function print_data at 0x7f2e180484c0>, '_i50': 'def print_data(data,*,start = 0 ,end =100):\\n    for value in (data[start:end]):\\n        print(value)', '_i51': \"data =('a''b','c','d','e','f','g''h','i','j','k','l','m','n','o','p','q','r','s','t','u','v','w','x','y','z')\\nprint_data(data)\", 'data': ('a', 'b', 'c', 'd', 'e', 'f', 'g', 'h', 'i', 'j', 'k', 'l', 'm', 'n', 'o', 'p', 'q', 'r', 's', 't', 'u', 'v', 'w', 'x', 'y', 'z'), '_i52': \"data =('a','b','c','d','e','f','g','h','i','j','k','l','m','n','o','p','q','r','s','t','u','v','w','x','y','z')\\nprint_data(data)\", '_i53': 'print(data , start =3)', '_i54': 'print_data(data , start =3)', '_i55': 'print_data(data,end=3)', '_i56': \"#가변 불변 인수\\noutside = ['a','b','c']\\ndef mangle(arg):\\n    arg[1] = 'y'\\noutside    \", 'outside': ['a', 'y', 'c'], 'mangle': <function mangle at 0x7f2e18048dc0>, '_56': ['a', 'y', 'c'], '_i57': 'mangle(outside)', '_i58': 'outside', '_58': ['a', 'y', 'c'], '_i59': \"#독스트링\\ndef echo(anything):\\n    'echo returns its input argument'\\n    return anything\", '_i60': \"#독스트링\\ndef echo(anything):\\n    'echo returns its input argument'\\n    return anything\\necho('x')\", '_60': 'x', '_i61': \"def print_if_true(thing, check):\\n    '''\\n    Prints the first argument if a second argument is true.\\n    The operation is:\\n        1. Check whether the *second* argument is true.\\n        2. if it is, print the *first* argument\\n    ''' #이건 독스트링을 길게 작정한 것이다\\n    if check:\\n        print(thing)\\nprint_if_true(,True)        \", '_i62': \"def print_if_true(thing, check):\\n    '''\\n    Prints the first argument if a second argument is true.\\n    The operation is:\\n        1. Check whether the *second* argument is true.\\n        2. if it is, print the *first* argument\\n    ''' #이건 독스트링을 길게 작정한 것이다\\n    if check:\\n        print(thing)\\nprint_if_true(True)        \", 'print_if_true': <function print_if_true at 0x7f2e18048790>, '_i63': \"def print_if_true(thing, check):\\n    '''\\n    Prints the first argument if a second argument is true.\\n    The operation is:\\n        1. Check whether the *second* argument is true.\\n        2. if it is, print the *first* argument\\n    ''' #이건 독스트링을 길게 작정한 것이다\\n    if check:\\n        print(thing)\\nprint_if_true('x',True)        \", '_i64': \"def print_if_true(thing, check):\\n    '''\\n    Prints the first argument if a second argument is true.\\n    The operation is:\\n        1. Check whether the *second* argument is true.\\n        2. if it is, print the *first* argument\\n    ''' #이건 독스트링을 길게 작정한 것이다\\n    if check:\\n        print(thing)\\nprint_if_true('x','y')        \", '_i65': \"def print_if_true(thing, check):\\n    '''\\n    Prints the first argument if a second argument is true.\\n    The operation is:\\n        1. Check whether the *second* argument is true.\\n        2. if it is, print the *first* argument\\n    ''' #이건 독스트링을 길게 작정한 것이다\\n    if check:\\n        print(thing)\\nprint_if_true('x',1)        \", '_i66': \"def print_if_true(thing, check):\\n    '''\\n    Prints the first argument if a second argument is true.\\n    The operation is:\\n        1. Check whether the *second* argument is true.\\n        2. if it is, print the *first* argument\\n    ''' #이건 독스트링을 길게 작정한 것이다\\n    if check:\\n        print(thing)\\nprint_if_true('x',2)        \", '_i67': \"def print_if_true(thing, check):\\n    '''\\n    Prints the first argument if a second argument is true.\\n    The operation is:\\n        1. Check whether the *second* argument is true.\\n        2. if it is, print the *first* argument\\n    ''' #이건 독스트링을 길게 작정한 것이다\\n    if check:\\n        print(thing)\\nprint_if_true('x',False)        \", '_i68': 'help(echo)', '_i69': 'print(echo.__doc__)', '_i70': '#일등시민:힘수\\ndef answer():\\n    print(42)\\nanswer()   ', 'answer': <function answer at 0x7f2e180488b0>, '_i71': \"answer('1')\", '_i72': 'def x(func):\\n    func()\\nx(answer)    ', '_i73': 'x(answer())', '_i74': 'type(x)', '_74': <class 'function'>, '_i75': 'def add(args1,args2):\\n    print(args1+args2)\\ntype(add)    ', 'add': <function add at 0x7f2e1a194310>, '_75': <class 'function'>, '_i76': 'def mid(func,args1,args2):\\n    func(args1+args2)\\nmid(x,1,2)    ', 'mid': <function mid at 0x7f2e180339d0>, '_i77': 'def mid(func,args1,args2):\\n    func(args1+args2)\\nmid(p,1,2)    ', '_i78': 'def mid(func,args1,args2):\\n    func(args1+args2)\\nmid(add,1,2)    ', '_i79': 'add(1,2)', '_i80': 'def mid(func,args1,args2):\\n    func(args1,args2)\\nmid(add,1,2)    ', '_i81': 'def mid(y,args1,args2):\\n    y(args1,args2)\\nmid(add,1,2)    ', '_i82': 'def mid(args1,args2):\\n    add(args1,args2)\\nmid(1,2)    ', '_i83': 'def mid(args1,args2):\\n    add(args1,args2)\\nmid(1,2)    ', '_i84': 'def sum_args(*args):\\n    return sum(args)#sum은 인수값을 모두 더하는 내장함수\\ndef x(func,*args):\\n    return func(*args)\\nx(sum_args , 1,2,3,4,5,6,7,8,9)', 'sum_args': <function sum_args at 0x7f2e180b2430>, '_84': 45, '_i85': '#내부함수\\ndef outer(a,b):\\n    def inner(c,d):\\n        return c+d\\n    return inner(a,b)\\nouter(1,2)', 'outer': <function outer at 0x7f2e18066b80>, '_85': 3, '_i86': 'def k(saying):\\n    def q(quote):\\n        return \"We are the K who say: \" ,%s quote\\n    return q(saying)\\nk(\"무야호\")', '_i87': 'def k(saying):\\n    def q(quote):\\n        return \"We are the K who say: \\'%s\\'\" , quote\\n    return q(saying)\\nk(\"무야호\")', 'k': <function k at 0x7f2e18066040>, '_87': (\"We are the K who say: '%s'\", '무야호'), '_i88': 'def k(saying):\\n    def q(quote):\\n        return \"We are the K who say: \\'%s\\'\" , %quote\\n    return q(saying)\\nk(\"무야호\")', '_i89': 'def k(saying):\\n    def q(quote):\\n        return \"We are the K who say: \\'%s\\'\" , % quote\\n    return q(saying)\\nk(\"무야호\")', '_i90': 'def k(saying):\\n    def q(quote):\\n        return \"We are the K who say: \\'%s\\'\" % quote\\n    return q(saying)\\nk(\"무야호\")', '_90': \"We are the K who say: '무야호'\", '_i91': '#클로저\\ndef k2(saying):\\n    def q2():\\n        return \"We are th K2 who say: %s\" % saying\\n    return q2\\nk2(\"누구야!\")', 'k2': <function k2 at 0x7f2e18066310>, '_91': <function k2.<locals>.q2 at 0x7f2e18066280>, '_i92': '#클로저\\ndef k2(saying):\\n    def q2():\\n        return \"We are th K2 who say: %s\" % saying\\n    return q2\\na = k2(\"누구야!\")\\nb = k2(\"어질어질하다 그죠?\")\\na', 'a': ['a무야호', 'a거 제육좀 볶나', 'a뭐야', 'a뭐 어떻게 안되나'], 'b': <function k2.<locals>.q2 at 0x7f2e180663a0>, '_92': <function k2.<locals>.q2 at 0x7f2e18066160>, '_i93': 'b', '_93': <function k2.<locals>.q2 at 0x7f2e180663a0>, '_i94': 'print(type(a) , type(b))', '_i95': '#익명 함수 lambda\\ndef E(words, func):\\n    for word in words:\\n        print(func(word))\\na = [\\'a무야호\\',\\'a거 제육좀 볶나?\\',\\'a나는 무적이고\\',\\'a코인은신이다\\']\\ndef B(word): #첫 글자를 대문자로 만들고 느낌표 붙이기\\n    return word.capitalzie()+\"!\"\\nE(a무야호,B)', 'E': <function E at 0x7f2e18066820>, 'B': <function B at 0x7f2e18066430>, '_i96': '#익명 함수 lambda\\ndef E(words, func):\\n    for word in words:\\n        print(func(word))\\na = [\\'a무야호\\',\\'a거 제육좀 볶나?\\',\\'a나는 무적이고\\',\\'a코인은신이다\\']\\ndef B(word): #첫 글자를 대문자로 만들고 느낌표 붙이기\\n    return word.capitalzie()+\"!\"\\nE(a,B)', '_i97': '#익명 함수 lambda\\ndef E(words, func):\\n    for word in words:\\n        print(func(word))\\na = [\\'apple\\',\\'america\\',\\'anaconda\\',\\'amazing\\']\\ndef B(word): #첫 글자를 대문자로 만들고 느낌표 붙이기\\n    return word.capitalzie()+\"!\"\\nE(a,B)', '_i98': '#익명 함수 lambda\\ndef E(words, func):\\n    for word in words:\\n        print(func(word))\\na = [\\'a무야호\\',\\'a거 제육좀 볶나\\',\\'a뭐야\\',\\'a뭐 어떻게 안되나\\']\\ndef B(word): #첫 글자를 대문자로 만들고 느낌표 붙이기\\n    return word.capitalize()+\"!\"\\nE(a,B)', '_i99': 'E(a,lanbda word:word.capitalize()+\"!\")', '_i100': 'E(a,lambda word: word.capitalize()+\"!\")', '_i101': '#내부함수\\ndef outer(a,b):\\n    def inner(c,d):\\n        return c+d\\n    return inner(a,b)\\nouter(1,2)\\n#반복문 코드중복 등을 피하고자 또 다른 하뭇 내에 어떤 복잡한 작업을 한 번 이상 수행할 때\\n#유용하게 사용된다.', '_101': 3, '_i102': '#제너뤠이터\\n#시퀀스를 생성하는 객체\\nsum(range(1,101))', '_102': 5050, '_i103': 'range(1,101)', '_103': range(1, 101), '_i104': '#generator function\\ndef my(first = 0 , last = 10, step =1):\\n    number = first\\n    while number < 1ast:\\n        yeild number#yeild문으로 값을 반환\\n        number+=step\\ng = my(0, 11)\\nfor x in g:\\n    print(x)', '_i105': '#generator function\\ndef my(first = 0 , last = 10, step =1):\\n    number = first\\n    while number < last:\\n        yeild number#yeild문으로 값을 반환\\n        number+=step\\ng = my(0, 11)\\nfor x in g:\\n    print(x)', '_i106': '#generator function\\ndef my(first = 0 , last = 10, step =1):\\n    number = first\\n    while number < last:\\n        yield number  #yield문으로 값을 반환\\n        number+=step\\ng = my(0, 11)\\nfor x in g:\\n    print(x)', 'my': <function my at 0x7f2e18066790>, 'g': <generator object my at 0x7f2e18070120>, '_i107': '#generator function\\ndef my(first = 0 , last = 10, step =1):\\n    number = first\\n    while number < last:\\n        yield number  #yield문으로 값을 반환\\n        number+=step\\ng = my(0, 12)\\nfor x in g:\\n    print(x)', '_i108': '#generator function\\ndef my(first = 0 , last = 10, step =1):\\n    number = first\\n    while number < last:\\n        yield number  #yield문으로 값을 반환\\n        number+=step\\ng = my(3, 12)\\nfor x in g:\\n    print(x)', '_i109': '#순회를 마친 제너레이터를 다시 순회한다면 다음과 같이 아무것도 반환하지 않는다.\\nfor  onemore in g:\\n    print(onemore)', '_i110': 'for x in g:\\n    print(x)', '_i111': \"#generator comprehension\\ngenobj = (pair for pair in zip(['a','b'],['1','2']))\\ngenobj\", 'genobj': <generator object <genexpr> at 0x7f2e18070430>, '_111': <generator object <genexpr> at 0x7f2e18070430>, '_i112': 'for thing in genobj:\\n    print(thing)', '_i113': '#decorator\\n#함수를 코드를 바꾸지않고 수정하고싶어\\ndef doc(func):\\n    def nowdoc(*args,**kwargs):\\n        print(\"Running function:\",func.__name__)\\n        print(\\'Positional arguments:\\',args)\\n        print(\\'Keyword arguments:\\' kwargs)\\n        result = func(*args,**kwargs)\\n        print(\\'Resert:\\',result)\\n        return result\\n    return nowdoc\\ndef add(a,b):\\n    return a+b\\nadd(3,5)', '_i114': '#decorator\\n#함수를 코드를 바꾸지않고 수정하고싶어\\ndef doc(func):\\n    def nowdoc(*args,**kwargs):\\n        print(\"Running function:\",func.__name__)\\n        print(\\'Positional arguments:\\',args)\\n        print(\\'Keyword arguments:\\', kwargs)\\n        result = func(*args,**kwargs)\\n        print(\\'Resert:\\',result)\\n        return result\\n    return nowdoc\\ndef add(a,b):\\n    return a+b\\nadd(3,5)', 'doc': <function doc at 0x7f2e1a1943a0>, '_114': 8, '_i115': 'cooler = docu(add)#데커레이터 수동 할당\\ncooler(3,5)', '_i116': 'cooler = doc(add)#데커레이터 수동 할당\\ncooler(3,5)', 'cooler': <function doc.<locals>.nowdoc at 0x7f2e180489d0>, '_116': 8, '_i117': '@document_it\\ndef add_ints(a,b):\\n    return a+b\\nadd_ints(3,5)', '_i118': '@doc\\ndef add_ints(a,b):\\n    return a+b\\nadd_ints(3,5)', 'add_ints': <function square_it.<locals>.new_function at 0x7f2e180668b0>, '_118': 8, '_i119': 'def square_it(fucn):\\n    def new_function(*args,**kwargs):\\n        result = func(*args,**kwargs)\\n        return result * result\\n    return new_function\\n@doc\\n@square_it\\ndef add_ints(a,b):\\n    return a+b\\nadd_ints(3,5)', 'square_it': <function square_it at 0x7f2e180665e0>, '_i120': 'def square_it(func):\\n    def new_function(*args,**kwargs):\\n        result = func(*args,**kwargs)\\n        return result * result\\n    return new_function\\n@doc\\n@square_it\\ndef add_ints(a,b):\\n    return a+b\\nadd_ints(3,5)', '_120': 64, '_i121': '@square_it\\n@doc\\ndef add_ints(a,b):\\n    return a+b\\nadd_ints(3,5)', '_121': 64, '_i122': \"#네임스페이스와 스코프\\nanimal = 'fruitbat'\\ndef print_global():\\n    print('inside print_global:', animal)\\nprint('at the top level:', animal)\", 'animal': 'fruitbat', 'print_global': <function print_global at 0x7f2e18066ee0>, '_i123': 'print_global()', '_i124': \"def change_and_print_global():\\n    print('inside change_and_print_global:', animal)\\n    animal = 'wombat'\\n    print('after the change:'animal)\\nchange_and_global().    \", '_i125': \"def change_and_print_global():\\n    print('inside change_and_print_global:', animal)\\n    animal = 'wombat'\\n    print('after the change:',animal)\\nchange_and_global().    \", '_i126': \"def change_and_print_global():\\n    print('inside change_and_print_global:', animal)\\n    animal = 'wombat'\\n    print('after the change:',animal)\\nchange_and_print_global().    \", '_i127': \"def change_local():\\n    animal = 'wombat'\\n    print('inside change_local:', animal,id(animal))\\nchange_local()    \", 'change_local': <function change_local at 0x7f2e18066a60>, '_i128': 'animal', '_128': 'fruitbat', '_i129': 'id(animal)', '_129': 139835948653488, '_i130': \"def change_and_print_global():\\n    print('inside change_and_print_global:', animal)\\n    animal = 'wombat'\\n    print('after the change:',animal)\\nchange_and_print_global()  \", 'change_and_print_global': <function change_and_print_global at 0x7f2e1a194670>, '_i131': 'change_and_print_global()', '_i132': \"animal = 'printbat'\\ndef change_and_print_global():\\n    global animal\\n    animal = 'wombat'\\n    print('after the change:', animal)\\nanimal    \", '_132': 'printbat', '_i133': 'change_and_print_global()', '_i134': 'animal', '_134': 'wombat', '_i135': \"animal = 'fruitbat'\\ndef change():\\n    animal = 'wombat'#지역변수\\n    print('locals:', locals())\\nanimal   \", 'change': <function change at 0x7f2e18066700>, '_135': 'fruitbat', '_i136': 'change()', '_i137': \"animal = 'fruitbat'\\ndef change():\\n    anima = 'wombat'#지역변수\\n    print('locals:', locals())\\nanimal   \", '_137': 'fruitbat', '_i138': \"anima = 'fruitbat'\\ndef change():\\n    animal = 'wombat'#지역변수\\n    print('locals:', locals())\\nanima   \", 'anima': 'fruitbat', '_138': 'fruitbat', '_i139': \"x = 'fruitbat' #전역변수\\ndef change():\\n    x = 'wombat'#지역변수\\n    print('locals:', locals())\\nx   \", '_139': 'fruitbat', '_i140': 'change()', '_i141': \"x = 'fruitbat' #전역변수\\ndef change():\\n    y = 'wombat'#지역변수\\n    print('locals:', locals())\\nx   \", '_141': 'fruitbat', '_i142': 'change()', '_i143': \"animal = 'fruitbat' #전역변수\\ndef change():\\n    animal = 'wombat'#지역변수\\n    print('locals:', locals())\\nanimal   \", '_143': 'fruitbat', '_i144': 'change()', '_i145': \"print('globals:',globals())\", '_i146': \"print('globals:',globals())\", '_i147': \"print('global:',global())\", '_i148': \"print('global:', global())\", '_i149': \"print('globals :', globals())\", '_i150': \"print('x :', x())\", '_i151': \"print('globals :', globals())\"}\n"
     ]
    }
   ],
   "source": [
    "print('globals :', globals())"
   ]
  },
  {
   "cell_type": "code",
   "execution_count": 153,
   "id": "transsexual-wagon",
   "metadata": {},
   "outputs": [
    {
     "name": "stdout",
     "output_type": "stream",
     "text": [
      "This function is named: amazing\n",
      "And its docstring is: \n",
      "    This is the amazing function.\n",
      "    Want to see it again?\n",
      "    \n"
     ]
    }
   ],
   "source": [
    "def amazing():\n",
    "    '''\n",
    "    This is the amazing function.\n",
    "    Want to see it again?\n",
    "    '''\n",
    "    print('This function is named:', amazing.__name__)\n",
    "    print('And its docstring is:',amazing.__doc__)\n",
    "amazing()"
   ]
  },
  {
   "cell_type": "code",
   "execution_count": 154,
   "id": "adjacent-click",
   "metadata": {},
   "outputs": [
    {
     "ename": "RecursionError",
     "evalue": "maximum recursion depth exceeded",
     "output_type": "error",
     "traceback": [
      "\u001b[0;31m---------------------------------------------------------------------------\u001b[0m",
      "\u001b[0;31mRecursionError\u001b[0m                            Traceback (most recent call last)",
      "\u001b[0;32m<ipython-input-154-812e3203befd>\u001b[0m in \u001b[0;36m<module>\u001b[0;34m\u001b[0m\n\u001b[1;32m      2\u001b[0m \u001b[0;32mdef\u001b[0m \u001b[0mdive\u001b[0m\u001b[0;34m(\u001b[0m\u001b[0;34m)\u001b[0m\u001b[0;34m:\u001b[0m\u001b[0;34m\u001b[0m\u001b[0;34m\u001b[0m\u001b[0m\n\u001b[1;32m      3\u001b[0m     \u001b[0;32mreturn\u001b[0m \u001b[0mdive\u001b[0m\u001b[0;34m(\u001b[0m\u001b[0;34m)\u001b[0m\u001b[0;34m\u001b[0m\u001b[0;34m\u001b[0m\u001b[0m\n\u001b[0;32m----> 4\u001b[0;31m \u001b[0mdive\u001b[0m\u001b[0;34m(\u001b[0m\u001b[0;34m)\u001b[0m\u001b[0;34m\u001b[0m\u001b[0;34m\u001b[0m\u001b[0m\n\u001b[0m",
      "\u001b[0;32m<ipython-input-154-812e3203befd>\u001b[0m in \u001b[0;36mdive\u001b[0;34m()\u001b[0m\n\u001b[1;32m      1\u001b[0m \u001b[0;31m#재귀함수\u001b[0m\u001b[0;34m\u001b[0m\u001b[0;34m\u001b[0m\u001b[0;34m\u001b[0m\u001b[0m\n\u001b[1;32m      2\u001b[0m \u001b[0;32mdef\u001b[0m \u001b[0mdive\u001b[0m\u001b[0;34m(\u001b[0m\u001b[0;34m)\u001b[0m\u001b[0;34m:\u001b[0m\u001b[0;34m\u001b[0m\u001b[0;34m\u001b[0m\u001b[0m\n\u001b[0;32m----> 3\u001b[0;31m     \u001b[0;32mreturn\u001b[0m \u001b[0mdive\u001b[0m\u001b[0;34m(\u001b[0m\u001b[0;34m)\u001b[0m\u001b[0;34m\u001b[0m\u001b[0;34m\u001b[0m\u001b[0m\n\u001b[0m\u001b[1;32m      4\u001b[0m \u001b[0mdive\u001b[0m\u001b[0;34m(\u001b[0m\u001b[0;34m)\u001b[0m\u001b[0;34m\u001b[0m\u001b[0;34m\u001b[0m\u001b[0m\n",
      "... last 1 frames repeated, from the frame below ...\n",
      "\u001b[0;32m<ipython-input-154-812e3203befd>\u001b[0m in \u001b[0;36mdive\u001b[0;34m()\u001b[0m\n\u001b[1;32m      1\u001b[0m \u001b[0;31m#재귀함수\u001b[0m\u001b[0;34m\u001b[0m\u001b[0;34m\u001b[0m\u001b[0;34m\u001b[0m\u001b[0m\n\u001b[1;32m      2\u001b[0m \u001b[0;32mdef\u001b[0m \u001b[0mdive\u001b[0m\u001b[0;34m(\u001b[0m\u001b[0;34m)\u001b[0m\u001b[0;34m:\u001b[0m\u001b[0;34m\u001b[0m\u001b[0;34m\u001b[0m\u001b[0m\n\u001b[0;32m----> 3\u001b[0;31m     \u001b[0;32mreturn\u001b[0m \u001b[0mdive\u001b[0m\u001b[0;34m(\u001b[0m\u001b[0;34m)\u001b[0m\u001b[0;34m\u001b[0m\u001b[0;34m\u001b[0m\u001b[0m\n\u001b[0m\u001b[1;32m      4\u001b[0m \u001b[0mdive\u001b[0m\u001b[0;34m(\u001b[0m\u001b[0;34m)\u001b[0m\u001b[0;34m\u001b[0m\u001b[0;34m\u001b[0m\u001b[0m\n",
      "\u001b[0;31mRecursionError\u001b[0m: maximum recursion depth exceeded"
     ]
    }
   ],
   "source": [
    "#재귀함수\n",
    "def dive():\n",
    "    return dive()\n",
    "dive()"
   ]
  },
  {
   "cell_type": "code",
   "execution_count": 156,
   "id": "bright-property",
   "metadata": {},
   "outputs": [
    {
     "data": {
      "text/plain": [
       "<generator object flatten at 0x7f2e18070e40>"
      ]
     },
     "execution_count": 156,
     "metadata": {},
     "output_type": "execute_result"
    }
   ],
   "source": [
    "def flatten(lol):\n",
    "    for item in lol:\n",
    "        if isinstance(item,list):\n",
    "            for subitem in flatten(item):\n",
    "                yield subitem\n",
    "    else:\n",
    "        yield item\n",
    "lol = [1,2 ,[3,4,5],[6,[7,8,9],[]]]\n",
    "flatten(lol)"
   ]
  },
  {
   "cell_type": "code",
   "execution_count": 159,
   "id": "nervous-azerbaijan",
   "metadata": {},
   "outputs": [
    {
     "ename": "UnboundLocalError",
     "evalue": "local variable 'item' referenced before assignment",
     "output_type": "error",
     "traceback": [
      "\u001b[0;31m---------------------------------------------------------------------------\u001b[0m",
      "\u001b[0;31mUnboundLocalError\u001b[0m                         Traceback (most recent call last)",
      "\u001b[0;32m<ipython-input-159-7a4007a0e775>\u001b[0m in \u001b[0;36m<module>\u001b[0;34m\u001b[0m\n\u001b[0;32m----> 1\u001b[0;31m \u001b[0mlist\u001b[0m\u001b[0;34m(\u001b[0m\u001b[0mflatten\u001b[0m\u001b[0;34m(\u001b[0m\u001b[0mlol\u001b[0m\u001b[0;34m)\u001b[0m\u001b[0;34m)\u001b[0m\u001b[0;34m\u001b[0m\u001b[0;34m\u001b[0m\u001b[0m\n\u001b[0m",
      "\u001b[0;32m<ipython-input-156-95805a9aec53>\u001b[0m in \u001b[0;36mflatten\u001b[0;34m(lol)\u001b[0m\n\u001b[1;32m      2\u001b[0m     \u001b[0;32mfor\u001b[0m \u001b[0mitem\u001b[0m \u001b[0;32min\u001b[0m \u001b[0mlol\u001b[0m\u001b[0;34m:\u001b[0m\u001b[0;34m\u001b[0m\u001b[0;34m\u001b[0m\u001b[0m\n\u001b[1;32m      3\u001b[0m         \u001b[0;32mif\u001b[0m \u001b[0misinstance\u001b[0m\u001b[0;34m(\u001b[0m\u001b[0mitem\u001b[0m\u001b[0;34m,\u001b[0m\u001b[0mlist\u001b[0m\u001b[0;34m)\u001b[0m\u001b[0;34m:\u001b[0m\u001b[0;34m\u001b[0m\u001b[0;34m\u001b[0m\u001b[0m\n\u001b[0;32m----> 4\u001b[0;31m             \u001b[0;32mfor\u001b[0m \u001b[0msubitem\u001b[0m \u001b[0;32min\u001b[0m \u001b[0mflatten\u001b[0m\u001b[0;34m(\u001b[0m\u001b[0mitem\u001b[0m\u001b[0;34m)\u001b[0m\u001b[0;34m:\u001b[0m\u001b[0;34m\u001b[0m\u001b[0;34m\u001b[0m\u001b[0m\n\u001b[0m\u001b[1;32m      5\u001b[0m                 \u001b[0;32myield\u001b[0m \u001b[0msubitem\u001b[0m\u001b[0;34m\u001b[0m\u001b[0;34m\u001b[0m\u001b[0m\n\u001b[1;32m      6\u001b[0m     \u001b[0;32melse\u001b[0m\u001b[0;34m:\u001b[0m\u001b[0;34m\u001b[0m\u001b[0;34m\u001b[0m\u001b[0m\n",
      "\u001b[0;32m<ipython-input-156-95805a9aec53>\u001b[0m in \u001b[0;36mflatten\u001b[0;34m(lol)\u001b[0m\n\u001b[1;32m      2\u001b[0m     \u001b[0;32mfor\u001b[0m \u001b[0mitem\u001b[0m \u001b[0;32min\u001b[0m \u001b[0mlol\u001b[0m\u001b[0;34m:\u001b[0m\u001b[0;34m\u001b[0m\u001b[0;34m\u001b[0m\u001b[0m\n\u001b[1;32m      3\u001b[0m         \u001b[0;32mif\u001b[0m \u001b[0misinstance\u001b[0m\u001b[0;34m(\u001b[0m\u001b[0mitem\u001b[0m\u001b[0;34m,\u001b[0m\u001b[0mlist\u001b[0m\u001b[0;34m)\u001b[0m\u001b[0;34m:\u001b[0m\u001b[0;34m\u001b[0m\u001b[0;34m\u001b[0m\u001b[0m\n\u001b[0;32m----> 4\u001b[0;31m             \u001b[0;32mfor\u001b[0m \u001b[0msubitem\u001b[0m \u001b[0;32min\u001b[0m \u001b[0mflatten\u001b[0m\u001b[0;34m(\u001b[0m\u001b[0mitem\u001b[0m\u001b[0;34m)\u001b[0m\u001b[0;34m:\u001b[0m\u001b[0;34m\u001b[0m\u001b[0;34m\u001b[0m\u001b[0m\n\u001b[0m\u001b[1;32m      5\u001b[0m                 \u001b[0;32myield\u001b[0m \u001b[0msubitem\u001b[0m\u001b[0;34m\u001b[0m\u001b[0;34m\u001b[0m\u001b[0m\n\u001b[1;32m      6\u001b[0m     \u001b[0;32melse\u001b[0m\u001b[0;34m:\u001b[0m\u001b[0;34m\u001b[0m\u001b[0;34m\u001b[0m\u001b[0m\n",
      "\u001b[0;32m<ipython-input-156-95805a9aec53>\u001b[0m in \u001b[0;36mflatten\u001b[0;34m(lol)\u001b[0m\n\u001b[1;32m      5\u001b[0m                 \u001b[0;32myield\u001b[0m \u001b[0msubitem\u001b[0m\u001b[0;34m\u001b[0m\u001b[0;34m\u001b[0m\u001b[0m\n\u001b[1;32m      6\u001b[0m     \u001b[0;32melse\u001b[0m\u001b[0;34m:\u001b[0m\u001b[0;34m\u001b[0m\u001b[0;34m\u001b[0m\u001b[0m\n\u001b[0;32m----> 7\u001b[0;31m         \u001b[0;32myield\u001b[0m \u001b[0mitem\u001b[0m\u001b[0;34m\u001b[0m\u001b[0;34m\u001b[0m\u001b[0m\n\u001b[0m\u001b[1;32m      8\u001b[0m \u001b[0mlol\u001b[0m \u001b[0;34m=\u001b[0m \u001b[0;34m[\u001b[0m\u001b[0;36m1\u001b[0m\u001b[0;34m,\u001b[0m\u001b[0;36m2\u001b[0m \u001b[0;34m,\u001b[0m\u001b[0;34m[\u001b[0m\u001b[0;36m3\u001b[0m\u001b[0;34m,\u001b[0m\u001b[0;36m4\u001b[0m\u001b[0;34m,\u001b[0m\u001b[0;36m5\u001b[0m\u001b[0;34m]\u001b[0m\u001b[0;34m,\u001b[0m\u001b[0;34m[\u001b[0m\u001b[0;36m6\u001b[0m\u001b[0;34m,\u001b[0m\u001b[0;34m[\u001b[0m\u001b[0;36m7\u001b[0m\u001b[0;34m,\u001b[0m\u001b[0;36m8\u001b[0m\u001b[0;34m,\u001b[0m\u001b[0;36m9\u001b[0m\u001b[0;34m]\u001b[0m\u001b[0;34m,\u001b[0m\u001b[0;34m[\u001b[0m\u001b[0;34m]\u001b[0m\u001b[0;34m]\u001b[0m\u001b[0;34m]\u001b[0m\u001b[0;34m\u001b[0m\u001b[0;34m\u001b[0m\u001b[0m\n\u001b[1;32m      9\u001b[0m \u001b[0mflatten\u001b[0m\u001b[0;34m(\u001b[0m\u001b[0mlol\u001b[0m\u001b[0;34m)\u001b[0m\u001b[0;34m\u001b[0m\u001b[0;34m\u001b[0m\u001b[0m\n",
      "\u001b[0;31mUnboundLocalError\u001b[0m: local variable 'item' referenced before assignment"
     ]
    }
   ],
   "source": [
    "list(flatten(lol))"
   ]
  },
  {
   "cell_type": "code",
   "execution_count": 158,
   "id": "medium-opera",
   "metadata": {},
   "outputs": [
    {
     "ename": "IndexError",
     "evalue": "list index out of range",
     "output_type": "error",
     "traceback": [
      "\u001b[0;31m---------------------------------------------------------------------------\u001b[0m",
      "\u001b[0;31mIndexError\u001b[0m                                Traceback (most recent call last)",
      "\u001b[0;32m<ipython-input-158-87a288955bf6>\u001b[0m in \u001b[0;36m<module>\u001b[0;34m\u001b[0m\n\u001b[1;32m      2\u001b[0m \u001b[0mshort_list\u001b[0m \u001b[0;34m=\u001b[0m \u001b[0;34m[\u001b[0m\u001b[0;36m1\u001b[0m\u001b[0;34m,\u001b[0m\u001b[0;36m2\u001b[0m\u001b[0;34m,\u001b[0m\u001b[0;36m3\u001b[0m\u001b[0;34m]\u001b[0m\u001b[0;34m\u001b[0m\u001b[0;34m\u001b[0m\u001b[0m\n\u001b[1;32m      3\u001b[0m \u001b[0mposition\u001b[0m \u001b[0;34m=\u001b[0m \u001b[0;36m5\u001b[0m\u001b[0;34m\u001b[0m\u001b[0;34m\u001b[0m\u001b[0m\n\u001b[0;32m----> 4\u001b[0;31m \u001b[0mshort_list\u001b[0m\u001b[0;34m[\u001b[0m\u001b[0mposition\u001b[0m\u001b[0;34m]\u001b[0m\u001b[0;34m\u001b[0m\u001b[0;34m\u001b[0m\u001b[0m\n\u001b[0m",
      "\u001b[0;31mIndexError\u001b[0m: list index out of range"
     ]
    }
   ],
   "source": [
    "#예외\n",
    "short_list = [1,2,3]\n",
    "position = 5\n",
    "short_list[position]\n"
   ]
  },
  {
   "cell_type": "code",
   "execution_count": 160,
   "id": "animal-sydney",
   "metadata": {},
   "outputs": [
    {
     "name": "stdout",
     "output_type": "stream",
     "text": [
      "Need a position between 0 and 2 but got 5\n"
     ]
    }
   ],
   "source": [
    "short_list = [1,2,3]\n",
    "position = 5\n",
    "try:\n",
    "    short_list[position]\n",
    "except:\n",
    "    print('Need a position between 0 and',len(short_list)-1, 'but got', position)"
   ]
  },
  {
   "cell_type": "code",
   "execution_count": 163,
   "id": "occasional-processing",
   "metadata": {},
   "outputs": [
    {
     "name": "stdin",
     "output_type": "stream",
     "text": [
      "Position [q to quit]? 0\n"
     ]
    },
    {
     "name": "stdout",
     "output_type": "stream",
     "text": [
      "1\n"
     ]
    },
    {
     "name": "stdin",
     "output_type": "stream",
     "text": [
      "Position [q to quit]? 1\n"
     ]
    },
    {
     "name": "stdout",
     "output_type": "stream",
     "text": [
      "2\n"
     ]
    },
    {
     "name": "stdin",
     "output_type": "stream",
     "text": [
      "Position [q to quit]? 2\n"
     ]
    },
    {
     "name": "stdout",
     "output_type": "stream",
     "text": [
      "3\n"
     ]
    },
    {
     "name": "stdin",
     "output_type": "stream",
     "text": [
      "Position [q to quit]? 3\n"
     ]
    },
    {
     "name": "stdout",
     "output_type": "stream",
     "text": [
      "Bad index: 3\n"
     ]
    },
    {
     "name": "stdin",
     "output_type": "stream",
     "text": [
      "Position [q to quit]? 4\n"
     ]
    },
    {
     "name": "stdout",
     "output_type": "stream",
     "text": [
      "Bad index: 4\n"
     ]
    },
    {
     "name": "stdin",
     "output_type": "stream",
     "text": [
      "Position [q to quit]? 5\n"
     ]
    },
    {
     "name": "stdout",
     "output_type": "stream",
     "text": [
      "Bad index: 5\n"
     ]
    },
    {
     "name": "stdin",
     "output_type": "stream",
     "text": [
      "Position [q to quit]? 6\n"
     ]
    },
    {
     "name": "stdout",
     "output_type": "stream",
     "text": [
      "Bad index: 6\n"
     ]
    },
    {
     "name": "stdin",
     "output_type": "stream",
     "text": [
      "Position [q to quit]? 7\n"
     ]
    },
    {
     "name": "stdout",
     "output_type": "stream",
     "text": [
      "Bad index: 7\n"
     ]
    },
    {
     "name": "stdin",
     "output_type": "stream",
     "text": [
      "Position [q to quit]? 8\n"
     ]
    },
    {
     "name": "stdout",
     "output_type": "stream",
     "text": [
      "Bad index: 8\n"
     ]
    },
    {
     "name": "stdin",
     "output_type": "stream",
     "text": [
      "Position [q to quit]? 9\n"
     ]
    },
    {
     "name": "stdout",
     "output_type": "stream",
     "text": [
      "Bad index: 9\n"
     ]
    },
    {
     "name": "stdin",
     "output_type": "stream",
     "text": [
      "Position [q to quit]? 0\n"
     ]
    },
    {
     "name": "stdout",
     "output_type": "stream",
     "text": [
      "1\n"
     ]
    },
    {
     "name": "stdin",
     "output_type": "stream",
     "text": [
      "Position [q to quit]? -\n"
     ]
    },
    {
     "name": "stdout",
     "output_type": "stream",
     "text": [
      "Something else broke: invalid literal for int() with base 10: '-'\n"
     ]
    },
    {
     "name": "stdin",
     "output_type": "stream",
     "text": [
      "Position [q to quit]? =\n"
     ]
    },
    {
     "name": "stdout",
     "output_type": "stream",
     "text": [
      "Something else broke: invalid literal for int() with base 10: '='\n"
     ]
    },
    {
     "name": "stdin",
     "output_type": "stream",
     "text": [
      "Position [q to quit]? q\n"
     ]
    }
   ],
   "source": [
    "short_list = [1,2,3]\n",
    "while True:\n",
    "    value = input('Position [q to quit]?')\n",
    "    if value == 'q':\n",
    "        break\n",
    "    try:\n",
    "        position = int(value)\n",
    "        print(short_list[position])\n",
    "    except IndexError as err:\n",
    "        print('Bad index:', position)\n",
    "    except Exception as other:\n",
    "            print('Something else broke:', other)\n",
    "            \n",
    "            "
   ]
  },
  {
   "cell_type": "code",
   "execution_count": 164,
   "id": "intelligent-columbus",
   "metadata": {},
   "outputs": [
    {
     "ename": "UppercaseException",
     "evalue": "MO",
     "output_type": "error",
     "traceback": [
      "\u001b[0;31m---------------------------------------------------------------------------\u001b[0m",
      "\u001b[0;31mUppercaseException\u001b[0m                        Traceback (most recent call last)",
      "\u001b[0;32m<ipython-input-164-e79086476780>\u001b[0m in \u001b[0;36m<module>\u001b[0;34m\u001b[0m\n\u001b[1;32m      5\u001b[0m \u001b[0;32mfor\u001b[0m \u001b[0mword\u001b[0m \u001b[0;32min\u001b[0m \u001b[0mwords\u001b[0m\u001b[0;34m:\u001b[0m\u001b[0;34m\u001b[0m\u001b[0;34m\u001b[0m\u001b[0m\n\u001b[1;32m      6\u001b[0m     \u001b[0;32mif\u001b[0m \u001b[0mword\u001b[0m\u001b[0;34m.\u001b[0m\u001b[0misupper\u001b[0m\u001b[0;34m(\u001b[0m\u001b[0;34m)\u001b[0m\u001b[0;34m:\u001b[0m\u001b[0;34m\u001b[0m\u001b[0;34m\u001b[0m\u001b[0m\n\u001b[0;32m----> 7\u001b[0;31m         \u001b[0;32mraise\u001b[0m \u001b[0mUppercaseException\u001b[0m\u001b[0;34m(\u001b[0m\u001b[0mword\u001b[0m\u001b[0;34m)\u001b[0m\u001b[0;34m\u001b[0m\u001b[0;34m\u001b[0m\u001b[0m\n\u001b[0m\u001b[1;32m      8\u001b[0m \u001b[0;34m\u001b[0m\u001b[0m\n",
      "\u001b[0;31mUppercaseException\u001b[0m: MO"
     ]
    }
   ],
   "source": [
    "#예외 만들기\n",
    "class UppercaseException(Exception):\n",
    "    pass\n",
    "words = ['eenie','meenie','miny','MO']\n",
    "for word in words:\n",
    "    if word.isupper():\n",
    "        raise UppercaseException(word)\n",
    "        "
   ]
  },
  {
   "cell_type": "code",
   "execution_count": 167,
   "id": "still-blake",
   "metadata": {},
   "outputs": [
    {
     "name": "stdout",
     "output_type": "stream",
     "text": [
      "Panic\n"
     ]
    }
   ],
   "source": [
    "try:\n",
    "    raise UppercaseException('Panic')\n",
    "except UppercaseException as exc:\n",
    "    print(exc)"
   ]
  },
  {
   "cell_type": "code",
   "execution_count": null,
   "id": "apparent-defense",
   "metadata": {},
   "outputs": [],
   "source": []
  }
 ],
 "metadata": {
  "kernelspec": {
   "display_name": "Python 3",
   "language": "python",
   "name": "python3"
  },
  "language_info": {
   "codemirror_mode": {
    "name": "ipython",
    "version": 3
   },
   "file_extension": ".py",
   "mimetype": "text/x-python",
   "name": "python",
   "nbconvert_exporter": "python",
   "pygments_lexer": "ipython3",
   "version": "3.9.1"
  }
 },
 "nbformat": 4,
 "nbformat_minor": 5
}
