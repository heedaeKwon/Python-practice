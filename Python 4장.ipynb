{
 "cells": [
  {
   "cell_type": "code",
   "execution_count": 1,
   "id": "shared-output",
   "metadata": {},
   "outputs": [
    {
     "data": {
      "text/plain": [
       "10"
      ]
     },
     "execution_count": 1,
     "metadata": {},
     "output_type": "execute_result"
    }
   ],
   "source": [
    "# 주석은 #을 치면 된다 적용범위는 엔터치기전까지이다\n",
    "# 주석을 이용해서 계속 설명을 하겠다\n",
    "# \\는 라인을 유지한다 \n",
    "sum = 0\n",
    "sum +=1\n",
    "sum +=2\n",
    "sum +=3\n",
    "sum +=4\n",
    "sum"
   ]
  },
  {
   "cell_type": "code",
   "execution_count": 3,
   "id": "developmental-scheduling",
   "metadata": {},
   "outputs": [
    {
     "data": {
      "text/plain": [
       "10"
      ]
     },
     "execution_count": 3,
     "metadata": {},
     "output_type": "execute_result"
    }
   ],
   "source": [
    "# 방금 위의 코드를 \\를 사용해 만들어보겠다\n",
    "sum = 1+\\\n",
    "2+\\\n",
    "3+\\\n",
    "4\n",
    "sum"
   ]
  },
  {
   "cell_type": "raw",
   "id": "sunset-dover",
   "metadata": {},
   "source": [
    "sum = ( 1+\n",
    "       2+\n",
    "      3+\n",
    "      4)\n",
    "sum"
   ]
  },
  {
   "cell_type": "code",
   "execution_count": 22,
   "id": "resident-championship",
   "metadata": {},
   "outputs": [
    {
     "name": "stdout",
     "output_type": "stream",
     "text": [
      "Woe!\n"
     ]
    }
   ],
   "source": [
    "#비교하기 if , else ,elif\n",
    "disaster = True #불리언 변수 disaster에 True  할당\n",
    "if disaster: #if와 else를 사용해 조건 테스트 수행 disaster값에 따라 다른코드 실행\n",
    "    print(\"Woe!\") #print함수로 텍스트 출력\n",
    "else:\n",
    "    print(\"Whee!\")\n",
    "# disaster 은 True이니 Woe를 출력할 것이다"
   ]
  },
  {
   "cell_type": "code",
   "execution_count": 25,
   "id": "italic-sullivan",
   "metadata": {},
   "outputs": [
    {
     "name": "stdout",
     "output_type": "stream",
     "text": [
      "it's a yeti\n"
     ]
    }
   ],
   "source": [
    "#조건 테스트 안에서 조건테스트\n",
    "furry = True\n",
    "large = True #불리언 변수 furry ,large에 True 할당\n",
    "if furry:\n",
    "    if large:\n",
    "        print(\"it's a yeti\")\n",
    "    else:\n",
    "            print(\"it's a cat!\")\n",
    "else:\n",
    "    if large:\n",
    "        print(\"it's a whale\")\n",
    "    else:\n",
    "            print(\"it's a human. or a hairless cat\")\n",
    "#첫번째 furry가 True인지 False인지 확인 그후 해당값으로가 large가 True 인지 False인지 확인\n",
    "            "
   ]
  },
  {
   "cell_type": "code",
   "execution_count": 26,
   "id": "opposite-fraction",
   "metadata": {},
   "outputs": [
    {
     "name": "stdout",
     "output_type": "stream",
     "text": [
      "I've never heard of the color mauve\n"
     ]
    }
   ],
   "source": [
    "#조건 테스트가 두 개 이상이라면 if문 elif(else if를 의미) 문 , else문을 사용한다\n",
    "color = \"mauve\" # color는 mauve야\n",
    "if color == \"red\": #만약 color 가 red라면 It's a tomato를 출력해\n",
    "    print(\"it's a tomato\") \n",
    "elif color == \"green\": #그렇지 않으면 color가 green이라면 It's a green paper를 출력해\n",
    "    print(\"it's a green paper\") \n",
    "elif color == \"bee purple\": #그렇지 않으면 color가 bee purple이라면 I don't know what it si, but only bees can see it을 출력해\n",
    "    print(\"i don't know what it is, but only bees can see it\")\n",
    "else:\n",
    "    print(\"I've never heard of the color\", color) #아니면  I've never heard of the color mauve를 출력해\n",
    "    "
   ]
  },
  {
   "cell_type": "code",
   "execution_count": 27,
   "id": "tested-honor",
   "metadata": {},
   "outputs": [],
   "source": [
    "x =7\n",
    "x ==5"
   ]
  },
  {
   "cell_type": "code",
   "execution_count": 35,
   "id": "stunning-nancy",
   "metadata": {},
   "outputs": [
    {
     "data": {
      "text/plain": [
       "True"
      ]
     },
     "execution_count": 35,
     "metadata": {},
     "output_type": "execute_result"
    }
   ],
   "source": [
    "x>5"
   ]
  },
  {
   "cell_type": "code",
   "execution_count": 34,
   "id": "subject-particle",
   "metadata": {},
   "outputs": [
    {
     "data": {
      "text/plain": [
       "True"
      ]
     },
     "execution_count": 34,
     "metadata": {},
     "output_type": "execute_result"
    }
   ],
   "source": [
    "x<10"
   ]
  },
  {
   "cell_type": "code",
   "execution_count": 32,
   "id": "electrical-employee",
   "metadata": {},
   "outputs": [
    {
     "data": {
      "text/plain": [
       "True"
      ]
     },
     "execution_count": 32,
     "metadata": {},
     "output_type": "execute_result"
    }
   ],
   "source": [
    "5<x and x<10"
   ]
  },
  {
   "cell_type": "code",
   "execution_count": 36,
   "id": "musical-vietnam",
   "metadata": {},
   "outputs": [
    {
     "data": {
      "text/plain": [
       "False"
      ]
     },
     "execution_count": 36,
     "metadata": {},
     "output_type": "execute_result"
    }
   ],
   "source": [
    "x==1"
   ]
  },
  {
   "cell_type": "code",
   "execution_count": 37,
   "id": "abroad-companion",
   "metadata": {},
   "outputs": [
    {
     "data": {
      "text/plain": [
       "True"
      ]
     },
     "execution_count": 37,
     "metadata": {},
     "output_type": "execute_result"
    }
   ],
   "source": [
    "(5<x)and(x<10)"
   ]
  },
  {
   "cell_type": "code",
   "execution_count": 38,
   "id": "altered-heater",
   "metadata": {},
   "outputs": [
    {
     "data": {
      "text/plain": [
       "True"
      ]
     },
     "execution_count": 38,
     "metadata": {},
     "output_type": "execute_result"
    }
   ],
   "source": [
    "5<x or x>10"
   ]
  },
  {
   "cell_type": "code",
   "execution_count": 39,
   "id": "welsh-president",
   "metadata": {},
   "outputs": [
    {
     "data": {
      "text/plain": [
       "False"
      ]
     },
     "execution_count": 39,
     "metadata": {},
     "output_type": "execute_result"
    }
   ],
   "source": [
    "5<x and x>10"
   ]
  },
  {
   "cell_type": "code",
   "execution_count": 40,
   "id": "loved-juice",
   "metadata": {},
   "outputs": [
    {
     "name": "stdout",
     "output_type": "stream",
     "text": [
      "Hey, it's empty\n"
     ]
    }
   ],
   "source": [
    "# False로 간주 되는 것은 null , 정수0 , 부동소수점 0.0 , 빈문자열  '' , 빈 리스트 [] , 빈 튜플 () ,빈 딕셔너리 {} ,빈 셋 set()이있다\n",
    "some_list = [] #주석에서 말했듯이 some_list는 빈 리스트이기 때문에 False로 간주될것이다\n",
    "if some_list: #만약 some_list가 True이면 아래문장을 출력하고\n",
    "    print(\"There's something in here\")\n",
    "else:         #False이면 아래문장을 출력한다\n",
    "    print(\"Hey, it's empty\")"
   ]
  },
  {
   "cell_type": "code",
   "execution_count": 44,
   "id": "suffering-differential",
   "metadata": {},
   "outputs": [
    {
     "name": "stdout",
     "output_type": "stream",
     "text": [
      "o is a vowel\n"
     ]
    }
   ],
   "source": [
    "#여러개 비교하기 in\n",
    "#어떤 문자가 모음인지 확인을 하려고한다\n",
    "letter = 'o'#letter 에 o 할당\n",
    "if letter == 'a' or letter == 'e' or letter == 'i' \\\n",
    "or letter == 'o' or letter == 'u':#letter가 a,e,i,o,u중 하나라면 아래문장을출력\n",
    "    print(letter, 'is a vowel')\n",
    "else: #아니면 아래문장을 출력\n",
    "    print(letter, 'is not vowel')"
   ]
  },
  {
   "cell_type": "code",
   "execution_count": 49,
   "id": "available-thailand",
   "metadata": {},
   "outputs": [
    {
     "data": {
      "text/plain": [
       "True"
      ]
     },
     "execution_count": 49,
     "metadata": {},
     "output_type": "execute_result"
    }
   ],
   "source": [
    "vowel = 'aeiou' # vowel 은 aeiou란 문자열\n",
    "letter = 'o'    #letter은 o\n",
    "letter in vowel # letter ,o 가 vowel ,aeiou 안에있다\n"
   ]
  },
  {
   "cell_type": "code",
   "execution_count": 50,
   "id": "athletic-trail",
   "metadata": {},
   "outputs": [
    {
     "name": "stdout",
     "output_type": "stream",
     "text": [
      "o is a vowel\n"
     ]
    }
   ],
   "source": [
    "if letter in vowel: # letter ,o 가 vowel ,aeiou 안에있으면 아래문장 출\n",
    "    print(letter, 'is a vowel')"
   ]
  },
  {
   "cell_type": "code",
   "execution_count": 52,
   "id": "relative-dress",
   "metadata": {},
   "outputs": [
    {
     "data": {
      "text/plain": [
       "True"
      ]
     },
     "execution_count": 52,
     "metadata": {},
     "output_type": "execute_result"
    }
   ],
   "source": [
    "letter = 'o'\n",
    "vowel_set = {'a','e','i','o','u'}\n",
    "letter in vowel_set"
   ]
  },
  {
   "cell_type": "code",
   "execution_count": 54,
   "id": "contrary-structure",
   "metadata": {},
   "outputs": [
    {
     "data": {
      "text/plain": [
       "True"
      ]
     },
     "execution_count": 54,
     "metadata": {},
     "output_type": "execute_result"
    }
   ],
   "source": [
    "vowel_set = {'a','e','i','o','u'}\n",
    "letter in vowel_set"
   ]
  },
  {
   "cell_type": "code",
   "execution_count": 55,
   "id": "experimental-terminal",
   "metadata": {},
   "outputs": [
    {
     "data": {
      "text/plain": [
       "True"
      ]
     },
     "execution_count": 55,
     "metadata": {},
     "output_type": "execute_result"
    }
   ],
   "source": [
    "vowel_tuple = {'a','e','i','o','u'}\n",
    "letter in vowel_tuple"
   ]
  },
  {
   "cell_type": "code",
   "execution_count": 56,
   "id": "moderate-evaluation",
   "metadata": {},
   "outputs": [
    {
     "data": {
      "text/plain": [
       "True"
      ]
     },
     "execution_count": 56,
     "metadata": {},
     "output_type": "execute_result"
    }
   ],
   "source": [
    "vowel_string = \"aeiou\"\n",
    "letter in vowel_string"
   ]
  },
  {
   "cell_type": "code",
   "execution_count": 59,
   "id": "figured-resident",
   "metadata": {},
   "outputs": [
    {
     "data": {
      "text/plain": [
       "True"
      ]
     },
     "execution_count": 59,
     "metadata": {},
     "output_type": "execute_result"
    }
   ],
   "source": [
    "vowel_dict = {'a': 'apple', 'e': 'elephant',\n",
    "              'i': 'impala', 'o':'ocelot', 'u':'unicorn'}\n",
    "letter in vowel_dict\n"
   ]
  },
  {
   "cell_type": "code",
   "execution_count": 60,
   "id": "according-english",
   "metadata": {},
   "outputs": [
    {
     "name": "stdout",
     "output_type": "stream",
     "text": [
      "A fitting tweet\n"
     ]
    }
   ],
   "source": [
    "#바다코끼리 연산자 :=표현식\n",
    "tweet_limit = 280\n",
    "tweet_string = \"Blah\"*50 # Blah는 뭐지????????\n",
    "diff = tweet_limit - len(tweet_string)#diff는 tweet_limit 빼기 len(tweet_string)할당\n",
    "if diff>=0: #diff가 0보다 크거나 같으면 아래문장을 출력\n",
    "    print(\"A fitting tweet\")\n",
    "else:\n",
    "    print(\"Wemt over by\", abs(diff))"
   ]
  },
  {
   "cell_type": "code",
   "execution_count": 63,
   "id": "sharp-convention",
   "metadata": {},
   "outputs": [
    {
     "name": "stdout",
     "output_type": "stream",
     "text": [
      "A fitting tweet\n"
     ]
    }
   ],
   "source": [
    "tweet_limit = 280\n",
    "tweet_string = \"Blah\"*50 # Blah는 뭐지????????\n",
    "if diff := tweet_limit - len(tweet_string) >=0:\n",
    "#원래 이줄에 if diff>=0: 이 있었는데 위에 바다코끼리 연산자 사용으로 인해 한단계 줄일 수 있음   \n",
    "    print(\"A fitting tweet\")\n",
    "else:\n",
    "    print(\"Wemt over by\", abs(diff))"
   ]
  }
 ],
 "metadata": {
  "kernelspec": {
   "display_name": "Python 3",
   "language": "python",
   "name": "python3"
  },
  "language_info": {
   "codemirror_mode": {
    "name": "ipython",
    "version": 3
   },
   "file_extension": ".py",
   "mimetype": "text/x-python",
   "name": "python",
   "nbconvert_exporter": "python",
   "pygments_lexer": "ipython3",
   "version": "3.9.1"
  }
 },
 "nbformat": 4,
 "nbformat_minor": 5
}
