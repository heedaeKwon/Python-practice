{
 "cells": [
  {
   "cell_type": "code",
   "execution_count": 1,
   "id": "statutory-foundation",
   "metadata": {},
   "outputs": [
    {
     "data": {
      "text/plain": [
       "True"
      ]
     },
     "execution_count": 1,
     "metadata": {},
     "output_type": "execute_result"
    }
   ],
   "source": [
    "#불리언 데이터 타입의 유일한 값은 True or False이다\n",
    "#0이 아닌 값은 True가 나온다\n",
    "bool(1)"
   ]
  },
  {
   "cell_type": "code",
   "execution_count": 2,
   "id": "proprietary-boards",
   "metadata": {},
   "outputs": [
    {
     "data": {
      "text/plain": [
       "False"
      ]
     },
     "execution_count": 2,
     "metadata": {},
     "output_type": "execute_result"
    }
   ],
   "source": [
    "#0인값은 False가 나온다\n",
    "bool(0.00000)"
   ]
  },
  {
   "cell_type": "code",
   "execution_count": 3,
   "id": "cubic-registrar",
   "metadata": {},
   "outputs": [
    {
     "data": {
      "text/plain": [
       "(1, 0, 0)"
      ]
     },
     "execution_count": 3,
     "metadata": {},
     "output_type": "execute_result"
    }
   ],
   "source": [
    "#정수에 쉼표를 사용할 수 없다\n",
    "1,000,000"
   ]
  },
  {
   "cell_type": "code",
   "execution_count": 4,
   "id": "integral-insertion",
   "metadata": {},
   "outputs": [
    {
     "data": {
      "text/plain": [
       "1000000"
      ]
     },
     "execution_count": 4,
     "metadata": {},
     "output_type": "execute_result"
    }
   ],
   "source": [
    "#언더바(_)는 사용 가능하다\n",
    "1_000_000"
   ]
  },
  {
   "cell_type": "code",
   "execution_count": 5,
   "id": "patent-component",
   "metadata": {},
   "outputs": [
    {
     "data": {
      "text/plain": [
       "3.5"
      ]
     },
     "execution_count": 5,
     "metadata": {},
     "output_type": "execute_result"
    }
   ],
   "source": [
    "#정수연산자중 /는 부동소수점나누기이다\n",
    "7/2"
   ]
  },
  {
   "cell_type": "code",
   "execution_count": 6,
   "id": "interim-transformation",
   "metadata": {},
   "outputs": [
    {
     "data": {
      "text/plain": [
       "3"
      ]
     },
     "execution_count": 6,
     "metadata": {},
     "output_type": "execute_result"
    }
   ],
   "source": [
    "#//는 정수만 나오고 소수점은 버린다\n",
    "7//2"
   ]
  },
  {
   "cell_type": "code",
   "execution_count": 7,
   "id": "popular-catholic",
   "metadata": {},
   "outputs": [
    {
     "data": {
      "text/plain": [
       "1"
      ]
     },
     "execution_count": 7,
     "metadata": {},
     "output_type": "execute_result"
    }
   ],
   "source": [
    "# %는 나머지만 표시한다\n",
    "7%2"
   ]
  },
  {
   "cell_type": "code",
   "execution_count": 8,
   "id": "ranging-interstate",
   "metadata": {},
   "outputs": [
    {
     "data": {
      "text/plain": [
       "49"
      ]
     },
     "execution_count": 8,
     "metadata": {},
     "output_type": "execute_result"
    }
   ],
   "source": [
    "# **는 지수를 의미한다\n",
    "7**2"
   ]
  },
  {
   "cell_type": "code",
   "execution_count": 9,
   "id": "destroyed-accordance",
   "metadata": {},
   "outputs": [
    {
     "data": {
      "text/plain": [
       "9"
      ]
     },
     "execution_count": 9,
     "metadata": {},
     "output_type": "execute_result"
    }
   ],
   "source": [
    "# 연산자 사의에서 공백은 무시한다\n",
    "7                         +            2"
   ]
  },
  {
   "cell_type": "code",
   "execution_count": 10,
   "id": "worth-mixture",
   "metadata": {},
   "outputs": [
    {
     "data": {
      "text/plain": [
       "92"
      ]
     },
     "execution_count": 10,
     "metadata": {},
     "output_type": "execute_result"
    }
   ],
   "source": [
    "a=95\n",
    "a= a-3\n",
    "a"
   ]
  },
  {
   "cell_type": "code",
   "execution_count": 11,
   "id": "binary-session",
   "metadata": {},
   "outputs": [
    {
     "data": {
      "text/plain": [
       "92"
      ]
     },
     "execution_count": 11,
     "metadata": {},
     "output_type": "execute_result"
    }
   ],
   "source": [
    "a= 95\n",
    "a-=3\n",
    "a"
   ]
  },
  {
   "cell_type": "code",
   "execution_count": 12,
   "id": "cathedral-electric",
   "metadata": {},
   "outputs": [
    {
     "data": {
      "text/plain": [
       "(3, 1)"
      ]
     },
     "execution_count": 12,
     "metadata": {},
     "output_type": "execute_result"
    }
   ],
   "source": [
    "# a = a-3 이나 a-=3은 같은 뜻이다\n",
    "#divmod(,)는 몫과 나머지를 표시해준다\n",
    "divmod(7,2)"
   ]
  },
  {
   "cell_type": "code",
   "execution_count": 13,
   "id": "existing-figure",
   "metadata": {},
   "outputs": [
    {
     "data": {
      "text/plain": [
       "16"
      ]
     },
     "execution_count": 13,
     "metadata": {},
     "output_type": "execute_result"
    }
   ],
   "source": [
    "#연산 순서중 곱셈은 덧셈보다 우선순위에 있다\n",
    "2+7*2\n",
    "#곱셈이 우선순위이니 결과는 16이여야한다 확인해보자"
   ]
  },
  {
   "cell_type": "code",
   "execution_count": 29,
   "id": "beneficial-encyclopedia",
   "metadata": {},
   "outputs": [
    {
     "data": {
      "text/plain": [
       "(2, 8, 16)"
      ]
     },
     "execution_count": 29,
     "metadata": {},
     "output_type": "execute_result"
    }
   ],
   "source": [
    "# 0b,0B 는 2진수를표시한다\n",
    "# 0o,0O 는 8진수를 표시한다\n",
    "# 0x,0X 는 16진수를 표시한다.\n",
    "a = 0b10\n",
    "b = 0o10\n",
    "c = 0x10\n",
    "# a는 2진수로 10으로 입력했으니 2가 나와야한다\n",
    "# b는 8진수로 10으로 입력했으니 8이 나와야한다\n",
    "# c는 16진수로 10으로 입력했으니 16이 나와야한다.\n",
    "a,b,c"
   ]
  },
  {
   "cell_type": "code",
   "execution_count": 30,
   "id": "ambient-hungary",
   "metadata": {},
   "outputs": [
    {
     "data": {
      "text/plain": [
       "('0b10', '0o10', '0x10')"
      ]
     },
     "execution_count": 30,
     "metadata": {},
     "output_type": "execute_result"
    }
   ],
   "source": [
    "# 10진수에서 다른진수로 계산할 수 있다\n",
    "# bin은 2진수로 계산하는것이다\n",
    "# oct는 8진수로 계산하는 것이다\n",
    "# hex는 16진수로 계산하는 것이다\n",
    "a = 16\n",
    "b = 8\n",
    "c = 2\n",
    "e = bin(c)\n",
    "f = oct(b)\n",
    "g = hex(a)\n",
    "e,f,g\n",
    "# 계산결과는 문자열로 반환한다"
   ]
  },
  {
   "cell_type": "code",
   "execution_count": 22,
   "id": "persistent-guatemala",
   "metadata": {},
   "outputs": [
    {
     "data": {
      "text/plain": [
       "'A'"
      ]
     },
     "execution_count": 22,
     "metadata": {},
     "output_type": "execute_result"
    }
   ],
   "source": [
    "# chr()은 정수를 단일 문자열로 변환한다\n",
    "# ord()는 단일 문자열을 정수로 변환한다\n",
    "chr(65)"
   ]
  },
  {
   "cell_type": "code",
   "execution_count": 23,
   "id": "anonymous-chambers",
   "metadata": {},
   "outputs": [
    {
     "data": {
      "text/plain": [
       "65"
      ]
     },
     "execution_count": 23,
     "metadata": {},
     "output_type": "execute_result"
    }
   ],
   "source": [
    "ord('A')"
   ]
  },
  {
   "cell_type": "code",
   "execution_count": 24,
   "id": "threaded-accuracy",
   "metadata": {},
   "outputs": [
    {
     "data": {
      "text/plain": [
       "'B'"
      ]
     },
     "execution_count": 24,
     "metadata": {},
     "output_type": "execute_result"
    }
   ],
   "source": [
    "chr(66)"
   ]
  },
  {
   "cell_type": "code",
   "execution_count": 25,
   "id": "genuine-delhi",
   "metadata": {},
   "outputs": [
    {
     "data": {
      "text/plain": [
       "'d'"
      ]
     },
     "execution_count": 25,
     "metadata": {},
     "output_type": "execute_result"
    }
   ],
   "source": [
    "chr(100)"
   ]
  },
  {
   "cell_type": "code",
   "execution_count": 26,
   "id": "chinese-industry",
   "metadata": {},
   "outputs": [
    {
     "data": {
      "text/plain": [
       "'✐'"
      ]
     },
     "execution_count": 26,
     "metadata": {},
     "output_type": "execute_result"
    }
   ],
   "source": [
    "chr(10000)"
   ]
  },
  {
   "cell_type": "code",
   "execution_count": 27,
   "id": "difficult-research",
   "metadata": {},
   "outputs": [
    {
     "data": {
      "text/plain": [
       "10000"
      ]
     },
     "execution_count": 27,
     "metadata": {},
     "output_type": "execute_result"
    }
   ],
   "source": [
    "ord('✐')"
   ]
  },
  {
   "cell_type": "code",
   "execution_count": 28,
   "id": "naval-conservation",
   "metadata": {},
   "outputs": [
    {
     "ename": "OverflowError",
     "evalue": "Python int too large to convert to C int",
     "output_type": "error",
     "traceback": [
      "\u001b[0;31m---------------------------------------------------------------------------\u001b[0m",
      "\u001b[0;31mOverflowError\u001b[0m                             Traceback (most recent call last)",
      "\u001b[0;32m<ipython-input-28-91159a5c86dc>\u001b[0m in \u001b[0;36m<module>\u001b[0;34m\u001b[0m\n\u001b[0;32m----> 1\u001b[0;31m \u001b[0mchr\u001b[0m\u001b[0;34m(\u001b[0m\u001b[0;36m1000000000000000\u001b[0m\u001b[0;34m)\u001b[0m\u001b[0;34m\u001b[0m\u001b[0;34m\u001b[0m\u001b[0m\n\u001b[0m",
      "\u001b[0;31mOverflowError\u001b[0m: Python int too large to convert to C int"
     ]
    }
   ],
   "source": [
    "chr(1000000000000000)"
   ]
  },
  {
   "cell_type": "code",
   "execution_count": 31,
   "id": "union-alias",
   "metadata": {},
   "outputs": [
    {
     "data": {
      "text/plain": [
       "'\\U000f4240'"
      ]
     },
     "execution_count": 31,
     "metadata": {},
     "output_type": "execute_result"
    }
   ],
   "source": [
    "chr(1000000)"
   ]
  },
  {
   "cell_type": "code",
   "execution_count": 32,
   "id": "comprehensive-bolivia",
   "metadata": {},
   "outputs": [
    {
     "data": {
      "text/plain": [
       "1000000"
      ]
     },
     "execution_count": 32,
     "metadata": {},
     "output_type": "execute_result"
    }
   ],
   "source": [
    "ord('\\U000f4240')"
   ]
  },
  {
   "cell_type": "code",
   "execution_count": 33,
   "id": "scientific-charles",
   "metadata": {},
   "outputs": [
    {
     "ename": "ValueError",
     "evalue": "chr() arg not in range(0x110000)",
     "output_type": "error",
     "traceback": [
      "\u001b[0;31m---------------------------------------------------------------------------\u001b[0m",
      "\u001b[0;31mValueError\u001b[0m                                Traceback (most recent call last)",
      "\u001b[0;32m<ipython-input-33-696a0ff3a4d7>\u001b[0m in \u001b[0;36m<module>\u001b[0;34m\u001b[0m\n\u001b[0;32m----> 1\u001b[0;31m \u001b[0mchr\u001b[0m\u001b[0;34m(\u001b[0m\u001b[0;36m999999999\u001b[0m\u001b[0;34m)\u001b[0m\u001b[0;34m\u001b[0m\u001b[0;34m\u001b[0m\u001b[0m\n\u001b[0m",
      "\u001b[0;31mValueError\u001b[0m: chr() arg not in range(0x110000)"
     ]
    }
   ],
   "source": [
    "chr(999999999)"
   ]
  },
  {
   "cell_type": "code",
   "execution_count": 34,
   "id": "supposed-applicant",
   "metadata": {},
   "outputs": [
    {
     "data": {
      "text/plain": [
       "(1, 0)"
      ]
     },
     "execution_count": 34,
     "metadata": {},
     "output_type": "execute_result"
    }
   ],
   "source": [
    "#int 는 어떤 데이터타입을 정수 타입으로 변환한다\n",
    "a = int(True)\n",
    "b = int(False)\n",
    "a,b"
   ]
  },
  {
   "cell_type": "code",
   "execution_count": 35,
   "id": "featured-palace",
   "metadata": {},
   "outputs": [
    {
     "data": {
      "text/plain": [
       "(True, False)"
      ]
     },
     "execution_count": 35,
     "metadata": {},
     "output_type": "execute_result"
    }
   ],
   "source": [
    "True ,False"
   ]
  },
  {
   "cell_type": "code",
   "execution_count": 36,
   "id": "adolescent-roots",
   "metadata": {},
   "outputs": [
    {
     "data": {
      "text/plain": [
       "(True, False)"
      ]
     },
     "execution_count": 36,
     "metadata": {},
     "output_type": "execute_result"
    }
   ],
   "source": [
    "a = bool(1)\n",
    "b = bool(0)\n",
    "a,b"
   ]
  },
  {
   "cell_type": "code",
   "execution_count": 37,
   "id": "radio-dragon",
   "metadata": {},
   "outputs": [
    {
     "data": {
      "text/plain": [
       "(98, 10000)"
      ]
     },
     "execution_count": 37,
     "metadata": {},
     "output_type": "execute_result"
    }
   ],
   "source": [
    "#부동 소수점 숫자를 정수로 변환하면 소수점을 버리고 정수만 출력한다\n",
    "a = int(98.123142534324323445435235)\n",
    "b = int(1.0e4)\n",
    "a,b"
   ]
  },
  {
   "cell_type": "code",
   "execution_count": 1,
   "id": "lasting-referral",
   "metadata": {},
   "outputs": [
    {
     "data": {
      "text/plain": [
       "10000000000000000000000000000000000000000000000000000000000000000000000000000000000000000000000000000"
      ]
     },
     "execution_count": 1,
     "metadata": {},
     "output_type": "execute_result"
    }
   ],
   "source": [
    "#int 크기가 유연해졌다\n",
    "googol = 10**100\n",
    "googol"
   ]
  },
  {
   "cell_type": "code",
   "execution_count": 3,
   "id": "medical-morgan",
   "metadata": {},
   "outputs": [
    {
     "data": {
      "text/plain": [
       "(1.0, 0.0)"
      ]
     },
     "execution_count": 3,
     "metadata": {},
     "output_type": "execute_result"
    }
   ],
   "source": [
    "# float은 부동소수점 숫자로 변환시킨다\n",
    "a = float(True)\n",
    "b = float(False)\n",
    "a,b"
   ]
  },
  {
   "cell_type": "code",
   "execution_count": 4,
   "id": "intermediate-knock",
   "metadata": {},
   "outputs": [
    {
     "data": {
      "text/plain": [
       "(98.0, 99.0)"
      ]
     },
     "execution_count": 4,
     "metadata": {},
     "output_type": "execute_result"
    }
   ],
   "source": [
    "a = float(98)\n",
    "b = float('99')\n",
    "a,b"
   ]
  },
  {
   "cell_type": "code",
   "execution_count": 5,
   "id": "deadly-telling",
   "metadata": {},
   "outputs": [
    {
     "data": {
      "text/plain": [
       "2.0"
      ]
     },
     "execution_count": 5,
     "metadata": {},
     "output_type": "execute_result"
    }
   ],
   "source": [
    "# 정수 + 부동소수점 = 부동소수점 \n",
    "1+ 1."
   ]
  },
  {
   "cell_type": "code",
   "execution_count": null,
   "id": "renewable-description",
   "metadata": {},
   "outputs": [],
   "source": [
    "int"
   ]
  }
 ],
 "metadata": {
  "kernelspec": {
   "display_name": "Python 3",
   "language": "python",
   "name": "python3"
  },
  "language_info": {
   "codemirror_mode": {
    "name": "ipython",
    "version": 3
   },
   "file_extension": ".py",
   "mimetype": "text/x-python",
   "name": "python",
   "nbconvert_exporter": "python",
   "pygments_lexer": "ipython3",
   "version": "3.9.1"
  }
 },
 "nbformat": 4,
 "nbformat_minor": 5
}
