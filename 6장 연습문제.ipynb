{
 "cells": [
  {
   "cell_type": "code",
   "execution_count": 1,
   "id": "tropical-playing",
   "metadata": {},
   "outputs": [
    {
     "name": "stdout",
     "output_type": "stream",
     "text": [
      "3\n",
      "2\n",
      "1\n",
      "0\n"
     ]
    }
   ],
   "source": [
    "#6.1 for 문으로 리스트[3,2,1,0]를 출력해보자\n",
    "for number in range(3,-1,-1):\n",
    "    print(number)"
   ]
  },
  {
   "cell_type": "code",
   "execution_count": 2,
   "id": "liable-august",
   "metadata": {},
   "outputs": [
    {
     "data": {
      "text/plain": [
       "[3, 2, 1, 0]"
      ]
     },
     "execution_count": 2,
     "metadata": {},
     "output_type": "execute_result"
    }
   ],
   "source": [
    "list(range(3,-1,-1))"
   ]
  },
  {
   "cell_type": "code",
   "execution_count": 12,
   "id": "apparent-membership",
   "metadata": {},
   "outputs": [],
   "source": [
    "#6.2 guess_me 변수에 7을 할당하고, number 변수에 1을 할당한다. number와guess_me\n",
    "#    를 비교하는 while 문을 작성해보자. number가 guess_me 보다 작으면 'too low'를 출력\n",
    "#    한다. number와 guess_me가 같으면 'found it'을 출력하고 반복문을 종료한다. number\n",
    "#    가 guess_me보다 크면 'oops'를 출력하고 반복문을 종료한다. 그리고 반복문의 마지막에number를 1씩 증가시킨다.\n",
    "# 내풀이\n",
    "guess_me = 7\n",
    "number = 1 #변수에 값 할당\n",
    "while number == guess_me:  #number가 guess_me와 같아질때 까지 한다\n",
    "    if number < guess_me:  #만약 number가 guess_me 보다 작으면 too low출력\n",
    "        print('too low')   \n",
    "    elif number == guess_me: #다른만약에 같으면 found it 출력 그리고 멈추기\n",
    "        print('found it')\n",
    "        break\n",
    "        number +=1 \n",
    "    else:\n",
    "        print('oops')   #아니면 oops출력 후 브레이크\n",
    "        break\n",
    "#작동 시켜봤는데 아무일도 안일어남      "
   ]
  },
  {
   "cell_type": "code",
   "execution_count": 13,
   "id": "occasional-property",
   "metadata": {},
   "outputs": [
    {
     "name": "stdout",
     "output_type": "stream",
     "text": [
      "too low\n",
      "too low\n",
      "too low\n",
      "too low\n",
      "too low\n",
      "too low\n",
      "found it!\n"
     ]
    }
   ],
   "source": [
    "#해답지\n",
    "guess_me = 7\n",
    "number = 1\n",
    "while True: # True일 때 까지 반복한다\n",
    "    if number < guess_me:\n",
    "        print('too low')\n",
    "    elif number ==guess_me:\n",
    "        print('found it!')\n",
    "        break\n",
    "    elif number > guess_me:\n",
    "        print('oops')\n",
    "        break\n",
    "    number+=1    "
   ]
  },
  {
   "cell_type": "code",
   "execution_count": 20,
   "id": "internal-spotlight",
   "metadata": {},
   "outputs": [
    {
     "name": "stdout",
     "output_type": "stream",
     "text": [
      "too low\n",
      "too low\n",
      "too low\n",
      "too low\n",
      "too low\n",
      "found it\n"
     ]
    }
   ],
   "source": [
    "#6.3 guess_me 변수에 5할당하고, for문을 사용하여 range(10)에서 number변수를 사용한다.\n",
    "#    number가 guess_me보다 작으면 'too low' 를 출력한다. number와 guess_me가 같으면\n",
    "#    'found it!'을 출력하고 반복문을 종료한다. number가 guess_me보다 크면 'oops'를 출력하고\n",
    "#    반복문을 종료한다\n",
    "guess_me = 5\n",
    "for number in range(10):\n",
    "    if number < guess_me:\n",
    "        print('too low')\n",
    "    elif number == guess_me:\n",
    "        print('found it')\n",
    "        break\n",
    "    else :\n",
    "        print('oops')\n",
    "        break\n",
    "    "
   ]
  },
  {
   "cell_type": "code",
   "execution_count": null,
   "id": "civilian-amber",
   "metadata": {},
   "outputs": [],
   "source": []
  },
  {
   "cell_type": "code",
   "execution_count": null,
   "id": "exposed-relation",
   "metadata": {},
   "outputs": [],
   "source": []
  },
  {
   "cell_type": "code",
   "execution_count": null,
   "id": "independent-charlotte",
   "metadata": {},
   "outputs": [],
   "source": []
  }
 ],
 "metadata": {
  "kernelspec": {
   "display_name": "Python 3",
   "language": "python",
   "name": "python3"
  },
  "language_info": {
   "codemirror_mode": {
    "name": "ipython",
    "version": 3
   },
   "file_extension": ".py",
   "mimetype": "text/x-python",
   "name": "python",
   "nbconvert_exporter": "python",
   "pygments_lexer": "ipython3",
   "version": "3.9.1"
  }
 },
 "nbformat": 4,
 "nbformat_minor": 5
}
