{
 "cells": [
  {
   "cell_type": "code",
   "execution_count": 3,
   "id": "manual-cambodia",
   "metadata": {},
   "outputs": [
    {
     "data": {
      "text/plain": [
       "['Monday', 'Tuesday', 'Wednesday']"
      ]
     },
     "execution_count": 3,
     "metadata": {},
     "output_type": "execute_result"
    }
   ],
   "source": [
    "#생성하기:[]\n",
    "#리스트는 0 혹은 그 이상의 요소로 만들어진다. 콤마(,)로 구분하고, 대괄호([])로 둘러싸여 있다.\n",
    "empty_list = []\n",
    "weekdays = ['Monday','Tuesday','Wednesday']\n",
    "weekdays"
   ]
  },
  {
   "cell_type": "code",
   "execution_count": 2,
   "id": "automated-childhood",
   "metadata": {},
   "outputs": [
    {
     "data": {
      "text/plain": [
       "[]"
      ]
     },
     "execution_count": 2,
     "metadata": {},
     "output_type": "execute_result"
    }
   ],
   "source": [
    "#생성 및 변환하기: list()\n",
    "another_empty_list = list()\n",
    "another_empty_list"
   ]
  },
  {
   "cell_type": "code",
   "execution_count": 4,
   "id": "optical-glance",
   "metadata": {},
   "outputs": [
    {
     "data": {
      "text/plain": [
       "['c', 'a', 't']"
      ]
     },
     "execution_count": 4,
     "metadata": {},
     "output_type": "execute_result"
    }
   ],
   "source": [
    "list('cat')"
   ]
  },
  {
   "cell_type": "code",
   "execution_count": 5,
   "id": "sitting-international",
   "metadata": {},
   "outputs": [
    {
     "data": {
      "text/plain": [
       "['ready', 'fire', 'aim']"
      ]
     },
     "execution_count": 5,
     "metadata": {},
     "output_type": "execute_result"
    }
   ],
   "source": [
    "#튜플을 리스트로 변환한다\n",
    "a_tuple = ('ready','fire','aim')\n",
    "list(a_tuple)"
   ]
  },
  {
   "cell_type": "code",
   "execution_count": 7,
   "id": "elder-referral",
   "metadata": {},
   "outputs": [
    {
     "data": {
      "text/plain": [
       "('ready', 'fire', 'aim')"
      ]
     },
     "execution_count": 7,
     "metadata": {},
     "output_type": "execute_result"
    }
   ],
   "source": [
    "a_tuple = ('ready','fire','aim')\n",
    "a_tuple"
   ]
  },
  {
   "cell_type": "code",
   "execution_count": 8,
   "id": "assumed-bangkok",
   "metadata": {},
   "outputs": [
    {
     "data": {
      "text/plain": [
       "['9', '19', '2019']"
      ]
     },
     "execution_count": 8,
     "metadata": {},
     "output_type": "execute_result"
    }
   ],
   "source": [
    "#문자열 분할로 생성하기: split()\n",
    "talk_like_a_pirate_day = '9/19/2019'\n",
    "talk_like_a_pirate_day.split('/')"
   ]
  },
  {
   "cell_type": "code",
   "execution_count": 9,
   "id": "earned-tobacco",
   "metadata": {},
   "outputs": [
    {
     "data": {
      "text/plain": [
       "['', '/1', '/201', '']"
      ]
     },
     "execution_count": 9,
     "metadata": {},
     "output_type": "execute_result"
    }
   ],
   "source": [
    "talk_like_a_pirate_day.split('9')"
   ]
  },
  {
   "cell_type": "code",
   "execution_count": 10,
   "id": "sensitive-dispute",
   "metadata": {},
   "outputs": [
    {
     "data": {
      "text/plain": [
       "['9/', '9/20', '9']"
      ]
     },
     "execution_count": 10,
     "metadata": {},
     "output_type": "execute_result"
    }
   ],
   "source": [
    "talk_like_a_pirate_day.split('1')"
   ]
  },
  {
   "cell_type": "code",
   "execution_count": 11,
   "id": "valuable-kuwait",
   "metadata": {},
   "outputs": [
    {
     "data": {
      "text/plain": [
       "'Groucho'"
      ]
     },
     "execution_count": 11,
     "metadata": {},
     "output_type": "execute_result"
    }
   ],
   "source": [
    "#[offset] 으로 항목얻기\n",
    "marxes = ['Groucho','Chico','Harpo']\n",
    "marxes[0]"
   ]
  },
  {
   "cell_type": "code",
   "execution_count": 12,
   "id": "colored-namibia",
   "metadata": {},
   "outputs": [
    {
     "name": "stdout",
     "output_type": "stream",
     "text": [
      "Chico Harpo Groucho\n"
     ]
    }
   ],
   "source": [
    "print(marxes[1],marxes[2],marxes[0])"
   ]
  },
  {
   "cell_type": "code",
   "execution_count": 13,
   "id": "derived-cameroon",
   "metadata": {},
   "outputs": [
    {
     "data": {
      "text/plain": [
       "'Harpo'"
      ]
     },
     "execution_count": 13,
     "metadata": {},
     "output_type": "execute_result"
    }
   ],
   "source": [
    "marxes[-1]"
   ]
  },
  {
   "cell_type": "code",
   "execution_count": 19,
   "id": "heavy-greek",
   "metadata": {},
   "outputs": [
    {
     "data": {
      "text/plain": [
       "['Groucho', 'Chico']"
      ]
     },
     "execution_count": 19,
     "metadata": {},
     "output_type": "execute_result"
    }
   ],
   "source": [
    "#슬라이스로 항목얻기\n",
    "marxes = ['Groucho','Chico','Harpo']\n",
    "marxes[0:2]"
   ]
  },
  {
   "cell_type": "code",
   "execution_count": 20,
   "id": "peripheral-brunswick",
   "metadata": {},
   "outputs": [
    {
     "data": {
      "text/plain": [
       "['Groucho', 'Harpo']"
      ]
     },
     "execution_count": 20,
     "metadata": {},
     "output_type": "execute_result"
    }
   ],
   "source": [
    "marxes[::2]"
   ]
  },
  {
   "cell_type": "code",
   "execution_count": 21,
   "id": "comprehensive-processor",
   "metadata": {},
   "outputs": [
    {
     "data": {
      "text/plain": [
       "['Harpo', 'Chico', 'Groucho']"
      ]
     },
     "execution_count": 21,
     "metadata": {},
     "output_type": "execute_result"
    }
   ],
   "source": [
    "#리스트를 뒤집자\n",
    "marxes = ['Groucho','Chico','Harpo']\n",
    "marxes.reverse() #뒤집어집니다\n",
    "marxes"
   ]
  },
  {
   "cell_type": "code",
   "execution_count": 22,
   "id": "brave-adolescent",
   "metadata": {},
   "outputs": [
    {
     "data": {
      "text/plain": [
       "['Groucho', 'Chico', 'Harpo', 'Zeppo']"
      ]
     },
     "execution_count": 22,
     "metadata": {},
     "output_type": "execute_result"
    }
   ],
   "source": [
    "#리시트 끝에 항목 추가하기:append()\n",
    "marxes = ['Groucho','Chico','Harpo']\n",
    "marxes.append('Zeppo')\n",
    "marxes"
   ]
  },
  {
   "cell_type": "code",
   "execution_count": 23,
   "id": "upset-advice",
   "metadata": {},
   "outputs": [
    {
     "data": {
      "text/plain": [
       "['Groucho', 'Chico', 'Duo', 'Harpo']"
      ]
     },
     "execution_count": 23,
     "metadata": {},
     "output_type": "execute_result"
    }
   ],
   "source": [
    "#이야 이걸 가운데에다 끼어넣을수는 없나?\n",
    "#insert()자~드가자\n",
    "marxes = ['Groucho','Chico','Harpo']\n",
    "marxes.insert(2,\"Duo\")\n",
    "marxes"
   ]
  },
  {
   "cell_type": "code",
   "execution_count": 25,
   "id": "living-gamma",
   "metadata": {},
   "outputs": [
    {
     "data": {
      "text/plain": [
       "['Groucho', 'Duo', 'Duo', 'Chico', 'Duo', 'Harpo']"
      ]
     },
     "execution_count": 25,
     "metadata": {},
     "output_type": "execute_result"
    }
   ],
   "source": [
    "marxes.insert(1,\"Duo\")\n",
    "marxes\n",
    "#뭐야 삽입은 두번밖에 안했는데 왜 총 3개가 드가져있냐"
   ]
  },
  {
   "cell_type": "code",
   "execution_count": 40,
   "id": "compound-thought",
   "metadata": {},
   "outputs": [
    {
     "data": {
      "text/plain": [
       "['Duo', 'Groucho', 'Chico', 'Harpo', 'Gummo', 'Karl']"
      ]
     },
     "execution_count": 40,
     "metadata": {},
     "output_type": "execute_result"
    }
   ],
   "source": [
    "marxes.insert(0,\"Duo\")\n",
    "marxes"
   ]
  },
  {
   "cell_type": "code",
   "execution_count": 27,
   "id": "opening-spending",
   "metadata": {},
   "outputs": [
    {
     "data": {
      "text/plain": [
       "['blah', 'blah', 'blah']"
      ]
     },
     "execution_count": 27,
     "metadata": {},
     "output_type": "execute_result"
    }
   ],
   "source": [
    "#모든 항목 복제하기 :*\n",
    "#튜플과 같습니다\n",
    "[\"blah\"]*3"
   ]
  },
  {
   "cell_type": "code",
   "execution_count": 28,
   "id": "sufficient-fifth",
   "metadata": {},
   "outputs": [
    {
     "data": {
      "text/plain": [
       "['Groucho', 'Chico', 'Harpo', 'Zeppo', 'Gummo', 'Karl']"
      ]
     },
     "execution_count": 28,
     "metadata": {},
     "output_type": "execute_result"
    }
   ],
   "source": [
    "#리스트 병합하기: extend() 와 +\n",
    "marxes = ['Groucho','Chico','Harpo','Zeppo']\n",
    "others = ['Gummo','Karl']\n",
    "marxes += others\n",
    "marxes"
   ]
  },
  {
   "cell_type": "code",
   "execution_count": 29,
   "id": "naughty-asthma",
   "metadata": {},
   "outputs": [
    {
     "data": {
      "text/plain": [
       "['Groucho', 'Chico', 'Harpo', ['Gummo', 'Karl']]"
      ]
     },
     "execution_count": 29,
     "metadata": {},
     "output_type": "execute_result"
    }
   ],
   "source": [
    "marxes = ['Groucho','Chico','Harpo']\n",
    "others = ['Gummo','Karl']\n",
    "marxes.append(others) #others은 리스트로 추가\n",
    "marxes #4개의 문자열과 2개의 문자열 리스트"
   ]
  },
  {
   "cell_type": "code",
   "execution_count": 30,
   "id": "honest-cutting",
   "metadata": {},
   "outputs": [
    {
     "data": {
      "text/plain": [
       "['Groucho', 'Chico', 'Wanda']"
      ]
     },
     "execution_count": 30,
     "metadata": {},
     "output_type": "execute_result"
    }
   ],
   "source": [
    "# [offset]으로 항목 바꾸기\n",
    "marxes = ['Groucho','Chico','Harpo']\n",
    "marxes[2] = 'Wanda'\n",
    "marxes\n",
    "#문자열은 불변 객체고 리스트는 가변 객체이기 때문에 위와 같은 방식으로 문자열을 변경할 수 없다.\n",
    "#리스트 항목수와 항목 내용을 바꿀 수 있다."
   ]
  },
  {
   "cell_type": "code",
   "execution_count": 36,
   "id": "serious-paraguay",
   "metadata": {},
   "outputs": [
    {
     "data": {
      "text/plain": [
       "[1, 8, 9, 4]"
      ]
     },
     "execution_count": 36,
     "metadata": {},
     "output_type": "execute_result"
    }
   ],
   "source": [
    "numbers = [1,2,3,4]\n",
    "numbers[1:3] = [8,9]\n",
    "numbers"
   ]
  },
  {
   "cell_type": "code",
   "execution_count": 37,
   "id": "tropical-replacement",
   "metadata": {},
   "outputs": [
    {
     "data": {
      "text/plain": [
       "[1, 'w', 'a', 't', '?', 4]"
      ]
     },
     "execution_count": 37,
     "metadata": {},
     "output_type": "execute_result"
    }
   ],
   "source": [
    "#list가 아니여두된다\n",
    "numbers = [1,2,3,4]\n",
    "numbers[1:3]='wat?'\n",
    "numbers"
   ]
  },
  {
   "cell_type": "code",
   "execution_count": 38,
   "id": "affiliated-vision",
   "metadata": {},
   "outputs": [
    {
     "data": {
      "text/plain": [
       "[1, 99, 999, 9999, 4]"
      ]
     },
     "execution_count": 38,
     "metadata": {},
     "output_type": "execute_result"
    }
   ],
   "source": [
    "numbers = [1,2,3,4]\n",
    "numbers[1:3] = (99,999,9999)\n",
    "numbers"
   ]
  },
  {
   "cell_type": "code",
   "execution_count": 39,
   "id": "registered-columbus",
   "metadata": {},
   "outputs": [
    {
     "data": {
      "text/plain": [
       "'Karl'"
      ]
     },
     "execution_count": 39,
     "metadata": {},
     "output_type": "execute_result"
    }
   ],
   "source": [
    "marxes = ['Groucho','Chico','Harpo','Gummo','Karl']\n",
    "marxes[-1]\n",
    "#요 Karl친구를 나는 죽일라합니다"
   ]
  },
  {
   "cell_type": "code",
   "execution_count": 51,
   "id": "finite-complexity",
   "metadata": {},
   "outputs": [
    {
     "data": {
      "text/plain": [
       "['Groucho', 'Chico', 'Harpo', 'Gummo']"
      ]
     },
     "execution_count": 51,
     "metadata": {},
     "output_type": "execute_result"
    }
   ],
   "source": [
    "marxes = ['Groucho','Chico','Harpo','Gummo','Karl']\n",
    "del marxes[-1]#죽어라! Karl\n",
    "marxes\n",
    "#컷! 자 다음!"
   ]
  },
  {
   "cell_type": "code",
   "execution_count": 43,
   "id": "supreme-mistake",
   "metadata": {},
   "outputs": [
    {
     "data": {
      "text/plain": [
       "['Groucho', 'Harpo', 'Gummo']"
      ]
     },
     "execution_count": 43,
     "metadata": {},
     "output_type": "execute_result"
    }
   ],
   "source": [
    "del marxes[1]\n",
    "marxes\n",
    "#앞에서 깝쭉되던 Chico컷!"
   ]
  },
  {
   "cell_type": "code",
   "execution_count": 45,
   "id": "incredible-relevance",
   "metadata": {},
   "outputs": [
    {
     "data": {
      "text/plain": [
       "['Groucho', 'Harpo']"
      ]
     },
     "execution_count": 45,
     "metadata": {},
     "output_type": "execute_result"
    }
   ],
   "source": [
    "#remove()로 컷하기\n",
    "marxes.remove('Gummo')\n",
    "marxes"
   ]
  },
  {
   "cell_type": "code",
   "execution_count": 46,
   "id": "talented-orleans",
   "metadata": {},
   "outputs": [
    {
     "data": {
      "text/plain": [
       "['Groucho', 'Chico', 'Harpo', 'Gummo']"
      ]
     },
     "execution_count": 46,
     "metadata": {},
     "output_type": "execute_result"
    }
   ],
   "source": [
    "#pop()으로 조지기\n",
    "marxes = ['Groucho','Chico','Harpo','Gummo','Karl']\n",
    "marxes.pop() #()안이 아무것도 없으면 -1 로 적용 그러니까 Karl이친구가 또 죽음\n",
    "marxes #자 확인 드가자\n",
    "#Karl 또 컷!"
   ]
  },
  {
   "cell_type": "code",
   "execution_count": 47,
   "id": "later-assessment",
   "metadata": {},
   "outputs": [
    {
     "data": {
      "text/plain": [
       "['Groucho', 'Harpo', 'Gummo']"
      ]
     },
     "execution_count": 47,
     "metadata": {},
     "output_type": "execute_result"
    }
   ],
   "source": [
    "marxes.pop(1)#Chico어서오고\n",
    "marxes"
   ]
  },
  {
   "cell_type": "code",
   "execution_count": 48,
   "id": "rocky-henry",
   "metadata": {},
   "outputs": [
    {
     "data": {
      "text/plain": [
       "[]"
      ]
     },
     "execution_count": 48,
     "metadata": {},
     "output_type": "execute_result"
    }
   ],
   "source": [
    "#펜타킬이 마렵다 그러면 clear()를써라\n",
    "marxes = ['Groucho','Chico','Harpo','Gummo','Karl']\n",
    "marxes.clear()\n",
    "marxes\n",
    "#에어맨이쓰러지지않아"
   ]
  },
  {
   "cell_type": "code",
   "execution_count": 52,
   "id": "authorized-trance",
   "metadata": {},
   "outputs": [
    {
     "data": {
      "text/plain": [
       "1"
      ]
     },
     "execution_count": 52,
     "metadata": {},
     "output_type": "execute_result"
    }
   ],
   "source": [
    "#값으로 오프셋 찾기:index()\n",
    "marxes = ['Groucho','Chico','Harpo','Gummo','Karl']\n",
    "marxes.index('Chico')\n"
   ]
  },
  {
   "cell_type": "code",
   "execution_count": 53,
   "id": "endless-convertible",
   "metadata": {},
   "outputs": [
    {
     "data": {
      "text/plain": [
       "True"
      ]
     },
     "execution_count": 53,
     "metadata": {},
     "output_type": "execute_result"
    }
   ],
   "source": [
    "#생존확인하기 in\n",
    "marxes = ['Groucho','Chico','Harpo','Gummo','Karl']\n",
    "'Chico' in marxes"
   ]
  },
  {
   "cell_type": "code",
   "execution_count": 55,
   "id": "dominant-swedish",
   "metadata": {},
   "outputs": [
    {
     "data": {
      "text/plain": [
       "False"
      ]
     },
     "execution_count": 55,
     "metadata": {},
     "output_type": "execute_result"
    }
   ],
   "source": [
    "'ChiCO' in marxes"
   ]
  },
  {
   "cell_type": "code",
   "execution_count": 56,
   "id": "constant-pursuit",
   "metadata": {},
   "outputs": [
    {
     "data": {
      "text/plain": [
       "True"
      ]
     },
     "execution_count": 56,
     "metadata": {},
     "output_type": "execute_result"
    }
   ],
   "source": [
    "list = ['1','1','1','1','1','1']\n",
    "'1'in list"
   ]
  },
  {
   "cell_type": "code",
   "execution_count": 59,
   "id": "satisfied-repeat",
   "metadata": {},
   "outputs": [
    {
     "data": {
      "text/plain": [
       "6"
      ]
     },
     "execution_count": 59,
     "metadata": {},
     "output_type": "execute_result"
    }
   ],
   "source": [
    "#값 세기 count()\n",
    "list.count('1')"
   ]
  },
  {
   "cell_type": "code",
   "execution_count": 60,
   "id": "harmful-gardening",
   "metadata": {},
   "outputs": [
    {
     "data": {
      "text/plain": [
       "'Groucho,Chico,Harpo,Gummo,Karl'"
      ]
     },
     "execution_count": 60,
     "metadata": {},
     "output_type": "execute_result"
    }
   ],
   "source": [
    "#문자열로 join()\n",
    "marxes = ['Groucho','Chico','Harpo','Gummo','Karl']\n",
    "','.join(marxes)"
   ]
  },
  {
   "cell_type": "code",
   "execution_count": 62,
   "id": "corrected-double",
   "metadata": {},
   "outputs": [
    {
     "data": {
      "text/plain": [
       "'Groucho123321Chico123321Harpo123321Gummo123321Karl'"
      ]
     },
     "execution_count": 62,
     "metadata": {},
     "output_type": "execute_result"
    }
   ],
   "source": [
    "'123321'.join(marxes)\n",
    "#어질어질하다 그죠?"
   ]
  },
  {
   "cell_type": "code",
   "execution_count": 63,
   "id": "brief-hospital",
   "metadata": {},
   "outputs": [
    {
     "data": {
      "text/plain": [
       "['Chico', 'Groucho', 'Gummo', 'Harpo', 'Karl']"
      ]
     },
     "execution_count": 63,
     "metadata": {},
     "output_type": "execute_result"
    }
   ],
   "source": [
    "#정렬!!!! sort(),sorted()\n",
    "#sort()는 리스트 자체를 내부적으로 정렬한다\n",
    "#sorted()는 리스트의 정렬된 복사본을 반환한다.\n",
    "marxes = ['Groucho','Chico','Harpo','Gummo','Karl']\n",
    "sorted = sorted(marxes)\n",
    "sorted"
   ]
  },
  {
   "cell_type": "code",
   "execution_count": 64,
   "id": "particular-change",
   "metadata": {},
   "outputs": [
    {
     "data": {
      "text/plain": [
       "['Groucho', 'Chico', 'Harpo', 'Gummo', 'Karl']"
      ]
     },
     "execution_count": 64,
     "metadata": {},
     "output_type": "execute_result"
    }
   ],
   "source": [
    "marxes"
   ]
  },
  {
   "cell_type": "code",
   "execution_count": 65,
   "id": "reserved-courtesy",
   "metadata": {},
   "outputs": [
    {
     "data": {
      "text/plain": [
       "['Chico', 'Groucho', 'Gummo', 'Harpo', 'Karl']"
      ]
     },
     "execution_count": 65,
     "metadata": {},
     "output_type": "execute_result"
    }
   ],
   "source": [
    "marxes.sort()\n",
    "marxes"
   ]
  },
  {
   "cell_type": "code",
   "execution_count": 66,
   "id": "proud-newman",
   "metadata": {},
   "outputs": [
    {
     "data": {
      "text/plain": [
       "[1, 2, 3, 4.0]"
      ]
     },
     "execution_count": 66,
     "metadata": {},
     "output_type": "execute_result"
    }
   ],
   "source": [
    "number = [2,1,4.0,3]\n",
    "number.sort()\n",
    "number"
   ]
  },
  {
   "cell_type": "code",
   "execution_count": 67,
   "id": "neutral-tackle",
   "metadata": {},
   "outputs": [
    {
     "data": {
      "text/plain": [
       "[4.0, 3, 2, 1]"
      ]
     },
     "execution_count": 67,
     "metadata": {},
     "output_type": "execute_result"
    }
   ],
   "source": [
    "number.sort(reverse=True)\n",
    "number"
   ]
  },
  {
   "cell_type": "code",
   "execution_count": 68,
   "id": "angry-refund",
   "metadata": {},
   "outputs": [
    {
     "data": {
      "text/plain": [
       "5"
      ]
     },
     "execution_count": 68,
     "metadata": {},
     "output_type": "execute_result"
    }
   ],
   "source": [
    "#항목개수 얻기len()\n",
    "marxes = ['Groucho','Chico','Harpo','Gummo','Karl']\n",
    "len(marxes)\n"
   ]
  },
  {
   "cell_type": "code",
   "execution_count": 69,
   "id": "sustainable-accessory",
   "metadata": {},
   "outputs": [
    {
     "data": {
      "text/plain": [
       "[1, 2, 3]"
      ]
     },
     "execution_count": 69,
     "metadata": {},
     "output_type": "execute_result"
    }
   ],
   "source": [
    "#할당하기\n",
    "a = [1,2,3]\n",
    "a"
   ]
  },
  {
   "cell_type": "code",
   "execution_count": 70,
   "id": "speaking-chocolate",
   "metadata": {},
   "outputs": [
    {
     "data": {
      "text/plain": [
       "[1, 2, 3]"
      ]
     },
     "execution_count": 70,
     "metadata": {},
     "output_type": "execute_result"
    }
   ],
   "source": [
    "b= a\n",
    "b"
   ]
  },
  {
   "cell_type": "code",
   "execution_count": 71,
   "id": "painful-firewall",
   "metadata": {},
   "outputs": [
    {
     "data": {
      "text/plain": [
       "[1, 'daum', 3]"
      ]
     },
     "execution_count": 71,
     "metadata": {},
     "output_type": "execute_result"
    }
   ],
   "source": [
    "a[1] = 'daum'\n",
    "a"
   ]
  },
  {
   "cell_type": "code",
   "execution_count": 72,
   "id": "headed-valley",
   "metadata": {},
   "outputs": [
    {
     "data": {
      "text/plain": [
       "[1, 'daum', 3]"
      ]
     },
     "execution_count": 72,
     "metadata": {},
     "output_type": "execute_result"
    }
   ],
   "source": [
    "#아까 b를 a로 할당했는데 과연 1,daum,3으로 나올까?\n",
    "#자~ 확인 드가자\n",
    "b\n",
    "#2 컷!"
   ]
  },
  {
   "cell_type": "code",
   "execution_count": 73,
   "id": "general-plane",
   "metadata": {},
   "outputs": [
    {
     "data": {
      "text/plain": [
       "['kakao', 'daum', 3]"
      ]
     },
     "execution_count": 73,
     "metadata": {},
     "output_type": "execute_result"
    }
   ],
   "source": [
    "b[0] = 'kakao'\n",
    "b"
   ]
  },
  {
   "cell_type": "code",
   "execution_count": 74,
   "id": "blind-briefing",
   "metadata": {},
   "outputs": [
    {
     "data": {
      "text/plain": [
       "['kakao', 'daum', 3]"
      ]
     },
     "execution_count": 74,
     "metadata": {},
     "output_type": "execute_result"
    }
   ],
   "source": [
    "#이라믄 a는 어케될까?\n",
    "#자~ 확인 드가자\n",
    "a\n",
    "#a와 b는 '남'이 아니다 그죠? 그럼 남탓하면 안되지"
   ]
  },
  {
   "cell_type": "code",
   "execution_count": 76,
   "id": "substantial-blank",
   "metadata": {},
   "outputs": [
    {
     "ename": "TypeError",
     "evalue": "'list' object is not callable",
     "output_type": "error",
     "traceback": [
      "\u001b[0;31m---------------------------------------------------------------------------\u001b[0m",
      "\u001b[0;31mTypeError\u001b[0m                                 Traceback (most recent call last)",
      "\u001b[0;32m<ipython-input-76-3cb1a6a4f249>\u001b[0m in \u001b[0;36m<module>\u001b[0;34m\u001b[0m\n\u001b[1;32m      2\u001b[0m \u001b[0ma\u001b[0m \u001b[0;34m=\u001b[0m \u001b[0;34m[\u001b[0m\u001b[0;36m1\u001b[0m\u001b[0;34m,\u001b[0m\u001b[0;36m2\u001b[0m\u001b[0;34m,\u001b[0m\u001b[0;36m3\u001b[0m\u001b[0;34m]\u001b[0m\u001b[0;34m\u001b[0m\u001b[0;34m\u001b[0m\u001b[0m\n\u001b[1;32m      3\u001b[0m \u001b[0mb\u001b[0m \u001b[0;34m=\u001b[0m \u001b[0ma\u001b[0m\u001b[0;34m.\u001b[0m\u001b[0mcopy\u001b[0m\u001b[0;34m(\u001b[0m\u001b[0;34m)\u001b[0m\u001b[0;34m\u001b[0m\u001b[0;34m\u001b[0m\u001b[0m\n\u001b[0;32m----> 4\u001b[0;31m \u001b[0mc\u001b[0m \u001b[0;34m=\u001b[0m \u001b[0mlist\u001b[0m\u001b[0;34m(\u001b[0m\u001b[0ma\u001b[0m\u001b[0;34m)\u001b[0m\u001b[0;34m\u001b[0m\u001b[0;34m\u001b[0m\u001b[0m\n\u001b[0m\u001b[1;32m      5\u001b[0m \u001b[0md\u001b[0m \u001b[0;34m=\u001b[0m \u001b[0ma\u001b[0m\u001b[0;34m[\u001b[0m\u001b[0;34m:\u001b[0m\u001b[0;34m]\u001b[0m\u001b[0;34m\u001b[0m\u001b[0;34m\u001b[0m\u001b[0m\n\u001b[1;32m      6\u001b[0m \u001b[0ma\u001b[0m\u001b[0;34m\u001b[0m\u001b[0;34m\u001b[0m\u001b[0m\n",
      "\u001b[0;31mTypeError\u001b[0m: 'list' object is not callable"
     ]
    }
   ],
   "source": [
    "#복사하기 copy(),list(),슬라이스\n",
    "a = [1, 2, 3]\n",
    "b = a.copy()\n",
    "c = list(a)\n",
    "d = a[:]\n",
    "#파이썬이랑 똑같이 했는데 안되네 이책 사기네"
   ]
  },
  {
   "cell_type": "code",
   "execution_count": 77,
   "id": "constitutional-jungle",
   "metadata": {},
   "outputs": [
    {
     "data": {
      "text/plain": [
       "[1, 2, 3]"
      ]
     },
     "execution_count": 77,
     "metadata": {},
     "output_type": "execute_result"
    }
   ],
   "source": [
    "a"
   ]
  },
  {
   "cell_type": "code",
   "execution_count": 78,
   "id": "welcome-orientation",
   "metadata": {},
   "outputs": [
    {
     "data": {
      "text/plain": [
       "[1, 2, 3]"
      ]
     },
     "execution_count": 78,
     "metadata": {},
     "output_type": "execute_result"
    }
   ],
   "source": [
    "b"
   ]
  },
  {
   "cell_type": "code",
   "execution_count": 81,
   "id": "uniform-martial",
   "metadata": {},
   "outputs": [
    {
     "ename": "NameError",
     "evalue": "name 'c' is not defined",
     "output_type": "error",
     "traceback": [
      "\u001b[0;31m---------------------------------------------------------------------------\u001b[0m",
      "\u001b[0;31mNameError\u001b[0m                                 Traceback (most recent call last)",
      "\u001b[0;32m<ipython-input-81-2b66fd261ee5>\u001b[0m in \u001b[0;36m<module>\u001b[0;34m\u001b[0m\n\u001b[0;32m----> 1\u001b[0;31m \u001b[0mc\u001b[0m\u001b[0;34m\u001b[0m\u001b[0;34m\u001b[0m\u001b[0m\n\u001b[0m",
      "\u001b[0;31mNameError\u001b[0m: name 'c' is not defined"
     ]
    }
   ],
   "source": [
    "c"
   ]
  },
  {
   "cell_type": "code",
   "execution_count": 80,
   "id": "given-clinic",
   "metadata": {},
   "outputs": [
    {
     "ename": "NameError",
     "evalue": "name 'd' is not defined",
     "output_type": "error",
     "traceback": [
      "\u001b[0;31m---------------------------------------------------------------------------\u001b[0m",
      "\u001b[0;31mNameError\u001b[0m                                 Traceback (most recent call last)",
      "\u001b[0;32m<ipython-input-80-e983f374794d>\u001b[0m in \u001b[0;36m<module>\u001b[0;34m\u001b[0m\n\u001b[0;32m----> 1\u001b[0;31m \u001b[0md\u001b[0m\u001b[0;34m\u001b[0m\u001b[0;34m\u001b[0m\u001b[0m\n\u001b[0m",
      "\u001b[0;31mNameError\u001b[0m: name 'd' is not defined"
     ]
    }
   ],
   "source": [
    "d"
   ]
  },
  {
   "cell_type": "code",
   "execution_count": 82,
   "id": "aggressive-gross",
   "metadata": {},
   "outputs": [
    {
     "ename": "TypeError",
     "evalue": "'list' object is not callable",
     "output_type": "error",
     "traceback": [
      "\u001b[0;31m---------------------------------------------------------------------------\u001b[0m",
      "\u001b[0;31mTypeError\u001b[0m                                 Traceback (most recent call last)",
      "\u001b[0;32m<ipython-input-82-9598bad5571c>\u001b[0m in \u001b[0;36m<module>\u001b[0;34m\u001b[0m\n\u001b[1;32m      2\u001b[0m \u001b[0ma\u001b[0m \u001b[0;34m=\u001b[0m \u001b[0;34m[\u001b[0m\u001b[0;36m1\u001b[0m\u001b[0;34m,\u001b[0m\u001b[0;36m2\u001b[0m\u001b[0;34m,\u001b[0m\u001b[0;34m[\u001b[0m\u001b[0;36m8\u001b[0m\u001b[0;34m,\u001b[0m\u001b[0;36m9\u001b[0m\u001b[0;34m]\u001b[0m\u001b[0;34m]\u001b[0m\u001b[0;34m\u001b[0m\u001b[0;34m\u001b[0m\u001b[0m\n\u001b[1;32m      3\u001b[0m \u001b[0mb\u001b[0m \u001b[0;34m=\u001b[0m \u001b[0ma\u001b[0m\u001b[0;34m.\u001b[0m\u001b[0mcopy\u001b[0m\u001b[0;34m(\u001b[0m\u001b[0;34m)\u001b[0m\u001b[0;34m\u001b[0m\u001b[0;34m\u001b[0m\u001b[0m\n\u001b[0;32m----> 4\u001b[0;31m \u001b[0mc\u001b[0m \u001b[0;34m=\u001b[0m \u001b[0mlist\u001b[0m\u001b[0;34m(\u001b[0m\u001b[0ma\u001b[0m\u001b[0;34m)\u001b[0m\u001b[0;34m\u001b[0m\u001b[0;34m\u001b[0m\u001b[0m\n\u001b[0m\u001b[1;32m      5\u001b[0m \u001b[0md\u001b[0m \u001b[0;34m=\u001b[0m \u001b[0ma\u001b[0m\u001b[0;34m[\u001b[0m\u001b[0;34m:\u001b[0m\u001b[0;34m]\u001b[0m\u001b[0;34m\u001b[0m\u001b[0;34m\u001b[0m\u001b[0m\n",
      "\u001b[0;31mTypeError\u001b[0m: 'list' object is not callable"
     ]
    }
   ],
   "source": [
    "#깊은 복사 deepcopy()\n",
    "a = [1,2,[8,9]]\n",
    "b = a.copy()\n",
    "c = list(a)\n",
    "d = a[:]"
   ]
  },
  {
   "cell_type": "code",
   "execution_count": 83,
   "id": "reserved-stress",
   "metadata": {},
   "outputs": [
    {
     "data": {
      "text/plain": [
       "[1, 2, [8, 9]]"
      ]
     },
     "execution_count": 83,
     "metadata": {},
     "output_type": "execute_result"
    }
   ],
   "source": [
    "b"
   ]
  },
  {
   "cell_type": "code",
   "execution_count": 84,
   "id": "emerging-acceptance",
   "metadata": {},
   "outputs": [
    {
     "data": {
      "text/plain": [
       "[1, 2, [8, 10]]"
      ]
     },
     "execution_count": 84,
     "metadata": {},
     "output_type": "execute_result"
    }
   ],
   "source": [
    "a[2][1]=10#a[2]는 0,1,2순이니  [8,9]를 의미하고 그 다음의 [1]은 [8,9]안에서 9를 의미 그걸 10으로 바꾼거다\n",
    "a"
   ]
  },
  {
   "cell_type": "code",
   "execution_count": 85,
   "id": "compact-monday",
   "metadata": {},
   "outputs": [
    {
     "data": {
      "text/plain": [
       "[1, 2, [8, 10]]"
      ]
     },
     "execution_count": 85,
     "metadata": {},
     "output_type": "execute_result"
    }
   ],
   "source": [
    "b"
   ]
  },
  {
   "cell_type": "code",
   "execution_count": 86,
   "id": "proved-austin",
   "metadata": {},
   "outputs": [
    {
     "data": {
      "text/plain": [
       "[1, 2, [8, 9]]"
      ]
     },
     "execution_count": 86,
     "metadata": {},
     "output_type": "execute_result"
    }
   ],
   "source": [
    "import copy\n",
    "a=[1,2,[8,9]]\n",
    "b = copy.deepcopy(a)\n",
    "a"
   ]
  },
  {
   "cell_type": "code",
   "execution_count": 87,
   "id": "established-daniel",
   "metadata": {},
   "outputs": [
    {
     "data": {
      "text/plain": [
       "[1, 2, [8, 9]]"
      ]
     },
     "execution_count": 87,
     "metadata": {},
     "output_type": "execute_result"
    }
   ],
   "source": [
    "b"
   ]
  },
  {
   "cell_type": "code",
   "execution_count": 88,
   "id": "wired-interaction",
   "metadata": {},
   "outputs": [
    {
     "data": {
      "text/plain": [
       "[1, 2, [8, 10]]"
      ]
     },
     "execution_count": 88,
     "metadata": {},
     "output_type": "execute_result"
    }
   ],
   "source": [
    "a[2][1]=10\n",
    "a"
   ]
  },
  {
   "cell_type": "code",
   "execution_count": 89,
   "id": "adaptive-niger",
   "metadata": {},
   "outputs": [
    {
     "data": {
      "text/plain": [
       "[1, 2, [8, 9]]"
      ]
     },
     "execution_count": 89,
     "metadata": {},
     "output_type": "execute_result"
    }
   ],
   "source": [
    "b"
   ]
  },
  {
   "cell_type": "code",
   "execution_count": 90,
   "id": "formed-binding",
   "metadata": {},
   "outputs": [
    {
     "name": "stdout",
     "output_type": "stream",
     "text": [
      "1\n",
      "2\n",
      "3\n"
     ]
    }
   ],
   "source": [
    "#순회하기 for 와in\n",
    "list = ['1','2','3']\n",
    "for li in list:\n",
    "    print(li)"
   ]
  },
  {
   "cell_type": "code",
   "execution_count": 5,
   "id": "earned-moldova",
   "metadata": {},
   "outputs": [
    {
     "name": "stdout",
     "output_type": "stream",
     "text": [
      "어질어질하다 그죠?\n",
      "자 드가자\n"
     ]
    }
   ],
   "source": [
    "list = ['1','2','3']\n",
    "for li in list:\n",
    "    if li.startswith('2'):\n",
    "        print(\"자 드가자\")\n",
    "        break\n",
    "    else:\n",
    "        print(\"어질어질하다 그죠?\")\n",
    "        "
   ]
  },
  {
   "cell_type": "code",
   "execution_count": 94,
   "id": "super-bristol",
   "metadata": {},
   "outputs": [
    {
     "name": "stdout",
     "output_type": "stream",
     "text": [
      "자 드가자\n"
     ]
    }
   ],
   "source": [
    "list = ['1','2','3']\n",
    "for li in list:\n",
    "    if li.startswith('1'):\n",
    "        print(\"자 드가자\")\n",
    "        break\n",
    "    else:\n",
    "        print(\"어질어질하다 그죠?\")"
   ]
  },
  {
   "cell_type": "code",
   "execution_count": 96,
   "id": "dental-conspiracy",
   "metadata": {},
   "outputs": [
    {
     "name": "stdout",
     "output_type": "stream",
     "text": [
      "어질어질하다 그죠?\n",
      "자 드가자\n",
      "어질어질하다 그죠?\n"
     ]
    }
   ],
   "source": [
    "list = ['1','2','3']\n",
    "for li in list:\n",
    "    if li.startswith('2'):\n",
    "        print(\"자 드가자\")\n",
    "    else:\n",
    "        print(\"어질어질하다 그죠?\")"
   ]
  },
  {
   "cell_type": "code",
   "execution_count": 4,
   "id": "worse-russian",
   "metadata": {},
   "outputs": [
    {
     "name": "stdout",
     "output_type": "stream",
     "text": [
      "brie\n",
      "gjetost\n",
      "harvarti\n",
      "Did't find anything that started with'x\n"
     ]
    }
   ],
   "source": [
    "cheeses = ['brie','gjetost','harvarti']\n",
    "for cheese in cheeses:\n",
    "    if cheese.startswith('x'):\n",
    "        print(\"I won't eat anthing that starts with 'x'\") \n",
    "        break\n",
    "    else:\n",
    "        print(cheese)\n",
    "else:\n",
    "    print(\"Did't find anything that started with'x\")"
   ]
  },
  {
   "cell_type": "code",
   "execution_count": 8,
   "id": "ecological-module",
   "metadata": {},
   "outputs": [
    {
     "name": "stdout",
     "output_type": "stream",
     "text": [
      "This is not much of a cheese shop, is it?\n"
     ]
    }
   ],
   "source": [
    "cheeses = []\n",
    "for cheese in cheeses:\n",
    "    print('This shop has some lovely', cheese)\n",
    "    break\n",
    "else:\n",
    "    print('This is not much of a cheese shop, is it?')"
   ]
  },
  {
   "cell_type": "code",
   "execution_count": 2,
   "id": "interior-briefs",
   "metadata": {},
   "outputs": [
    {
     "name": "stdout",
     "output_type": "stream",
     "text": [
      "Monday :drink coffe -eat apple -enjoy pie\n",
      "Tuesday :drink beer -eat banana -enjoy pudding\n"
     ]
    }
   ],
   "source": [
    "#여러 시퀀스 순회하기 zip()\n",
    "days = ['Monday','Tuesday']\n",
    "fruits = ['apple','banana']\n",
    "drinks = ['coffe','beer']\n",
    "desserts = ['pie','pudding']\n",
    "for day, fruit , drink , dessert in zip(days, fruits, drinks, desserts):\n",
    "    print(day, \":drink\",drink,\"-eat\",fruit,\"-enjoy\",dessert)"
   ]
  },
  {
   "cell_type": "code",
   "execution_count": 4,
   "id": "authentic-relief",
   "metadata": {},
   "outputs": [
    {
     "data": {
      "text/plain": [
       "[('Monday', 'Lundi'), ('Tuesday', 'Mardi'), ('Wednesday', 'Mercredi')]"
      ]
     },
     "execution_count": 4,
     "metadata": {},
     "output_type": "execute_result"
    }
   ],
   "source": [
    "#동일한 오프셋에 있는 항목으로 부터 튜플을 만들 수 있다.\n",
    "english = 'Monday', 'Tuesday', 'Wednesday'\n",
    "french = 'Lundi','Mardi','Mercredi'\n",
    "list(zip(english,french))"
   ]
  },
  {
   "cell_type": "code",
   "execution_count": 6,
   "id": "amateur-shame",
   "metadata": {},
   "outputs": [
    {
     "data": {
      "text/plain": [
       "{'Monday': 'Lundi', 'Tuesday': 'Mardi', 'Wednesday': 'Mercredi'}"
      ]
     },
     "execution_count": 6,
     "metadata": {},
     "output_type": "execute_result"
    }
   ],
   "source": [
    "dict(zip(english,french))"
   ]
  },
  {
   "cell_type": "code",
   "execution_count": 7,
   "id": "medieval-national",
   "metadata": {},
   "outputs": [
    {
     "data": {
      "text/plain": [
       "[1, 2, 3, 4, 5]"
      ]
     },
     "execution_count": 7,
     "metadata": {},
     "output_type": "execute_result"
    }
   ],
   "source": [
    "#리스트 컴프리헨션\n",
    "number_list = []\n",
    "number_list.append(1)\n",
    "number_list.append(2)\n",
    "number_list.append(3)\n",
    "number_list.append(4)\n",
    "number_list.append(5)\n",
    "number_list\n"
   ]
  },
  {
   "cell_type": "code",
   "execution_count": 9,
   "id": "laden-kelly",
   "metadata": {},
   "outputs": [
    {
     "data": {
      "text/plain": [
       "[1, 2, 3, 4, 5]"
      ]
     },
     "execution_count": 9,
     "metadata": {},
     "output_type": "execute_result"
    }
   ],
   "source": [
    "number_list = []\n",
    "for number in range(1,6):\n",
    "    number_list.append(number)\n",
    "number_list    "
   ]
  },
  {
   "cell_type": "code",
   "execution_count": 11,
   "id": "printable-default",
   "metadata": {},
   "outputs": [
    {
     "data": {
      "text/plain": [
       "[1, 2, 3, 4, 5]"
      ]
     },
     "execution_count": 11,
     "metadata": {},
     "output_type": "execute_result"
    }
   ],
   "source": [
    "number_list = []\n",
    "number_list =list(range(1,6))\n",
    "number_list\n",
    "#리스트 컴프리헨션을 사용해서 하는게 파이써닉한 방법"
   ]
  },
  {
   "cell_type": "code",
   "execution_count": 12,
   "id": "certain-horror",
   "metadata": {},
   "outputs": [
    {
     "data": {
      "text/plain": [
       "[1, 2, 3, 4, 5]"
      ]
     },
     "execution_count": 12,
     "metadata": {},
     "output_type": "execute_result"
    }
   ],
   "source": [
    "number_list = [number for  number in range(1,6)]\n",
    "number_list"
   ]
  },
  {
   "cell_type": "code",
   "execution_count": 14,
   "id": "departmental-birmingham",
   "metadata": {},
   "outputs": [
    {
     "data": {
      "text/plain": [
       "[-1, 0, 1, 2, 3]"
      ]
     },
     "execution_count": 14,
     "metadata": {},
     "output_type": "execute_result"
    }
   ],
   "source": [
    "number_list = [number-2 for  number in range(1,6)]\n",
    "number_list"
   ]
  },
  {
   "cell_type": "code",
   "execution_count": 15,
   "id": "fitted-elite",
   "metadata": {},
   "outputs": [
    {
     "data": {
      "text/plain": [
       "[1, 3, 5]"
      ]
     },
     "execution_count": 15,
     "metadata": {},
     "output_type": "execute_result"
    }
   ],
   "source": [
    "#대괄호를 사용하면 복잡해지기는 하지만 더 많은 것을 수행한다.\n",
    "a_list = [number for number in range (1,6)if number%2 ==1]# 1,2,3,4,5에서 2로 나누었을 때 1이 남는 숫자만 리스트\n",
    "a_list"
   ]
  },
  {
   "cell_type": "code",
   "execution_count": 17,
   "id": "chief-galaxy",
   "metadata": {},
   "outputs": [
    {
     "data": {
      "text/plain": [
       "[0, 2, 4]"
      ]
     },
     "execution_count": 17,
     "metadata": {},
     "output_type": "execute_result"
    }
   ],
   "source": [
    "a_list = [number-1 for number in range (1,6)if number%2 ==1]# 1,2,3,4,5에서 2로 나누었을 때 1이 남는 숫자들을 -1한 리스트\n",
    "a_list"
   ]
  },
  {
   "cell_type": "code",
   "execution_count": 18,
   "id": "damaged-philadelphia",
   "metadata": {},
   "outputs": [
    {
     "data": {
      "text/plain": [
       "[1, 3, 5]"
      ]
     },
     "execution_count": 18,
     "metadata": {},
     "output_type": "execute_result"
    }
   ],
   "source": [
    "a_list = []\n",
    "for number in range(1,6):\n",
    "    if number %2 ==  1:\n",
    "        a_list.append(number)\n",
    "a_list        "
   ]
  },
  {
   "cell_type": "code",
   "execution_count": 19,
   "id": "accessible-crazy",
   "metadata": {},
   "outputs": [
    {
     "name": "stdout",
     "output_type": "stream",
     "text": [
      "1 1\n",
      "1 2\n",
      "2 1\n",
      "2 2\n",
      "3 1\n",
      "3 2\n"
     ]
    }
   ],
   "source": [
    "rows = range(1,4)\n",
    "cols = range(1,3)\n",
    "for row in rows:\n",
    "    for col in cols:\n",
    "        print(row ,col)"
   ]
  },
  {
   "cell_type": "code",
   "execution_count": 20,
   "id": "bright-eligibility",
   "metadata": {},
   "outputs": [
    {
     "name": "stdout",
     "output_type": "stream",
     "text": [
      "1 1\n",
      "2 1\n",
      "1 2\n",
      "2 2\n",
      "1 3\n",
      "2 3\n"
     ]
    }
   ],
   "source": [
    "rows = range(1,4)\n",
    "cols = range(1,3)\n",
    "for row in rows:\n",
    "    for col in cols:\n",
    "        print(col ,row)"
   ]
  },
  {
   "cell_type": "code",
   "execution_count": 21,
   "id": "controlling-navigator",
   "metadata": {},
   "outputs": [
    {
     "name": "stdout",
     "output_type": "stream",
     "text": [
      "(1, 1)\n",
      "(1, 2)\n",
      "(2, 1)\n",
      "(2, 2)\n",
      "(3, 1)\n",
      "(3, 2)\n"
     ]
    }
   ],
   "source": [
    "rows = range(1,4)\n",
    "cols = range(1,3)\n",
    "cells = [(row ,col)for row in rows for col in cols]\n",
    "for cell in cells:\n",
    "    print(cell)"
   ]
  },
  {
   "cell_type": "code",
   "execution_count": 23,
   "id": "opponent-witness",
   "metadata": {},
   "outputs": [
    {
     "name": "stdout",
     "output_type": "stream",
     "text": [
      "1 1\n",
      "1 2\n",
      "2 1\n",
      "2 2\n",
      "3 1\n",
      "3 2\n"
     ]
    }
   ],
   "source": [
    "for row, col in cells :\n",
    "    print(row ,col)"
   ]
  },
  {
   "cell_type": "code",
   "execution_count": 25,
   "id": "wanted-astrology",
   "metadata": {},
   "outputs": [
    {
     "data": {
      "text/plain": [
       "[['hummingbird', 'fitch'],\n",
       " ['dodo', 'passenger pigeon', 'Norwegian Blue'],\n",
       " [3, 'French hens', 2, 'tutledoves']]"
      ]
     },
     "execution_count": 25,
     "metadata": {},
     "output_type": "execute_result"
    }
   ],
   "source": [
    "# 리스트의 리스트\n",
    "small_birds = ['hummingbird','fitch']\n",
    "extunct_birds = ['dodo','passenger pigeon','Norwegian Blue']\n",
    "carlo_birds = [3, 'French hens' , 2 ,'tutledoves']\n",
    "all_birds  = [small_birds , extunct_birds,carlo_birds]\n",
    "all_birds"
   ]
  },
  {
   "cell_type": "code",
   "execution_count": 26,
   "id": "intimate-joseph",
   "metadata": {},
   "outputs": [
    {
     "data": {
      "text/plain": [
       "['hummingbird', 'fitch']"
      ]
     },
     "execution_count": 26,
     "metadata": {},
     "output_type": "execute_result"
    }
   ],
   "source": [
    "all_birds[0]"
   ]
  },
  {
   "cell_type": "code",
   "execution_count": 27,
   "id": "overhead-kingdom",
   "metadata": {},
   "outputs": [
    {
     "data": {
      "text/plain": [
       "'hummingbird'"
      ]
     },
     "execution_count": 27,
     "metadata": {},
     "output_type": "execute_result"
    }
   ],
   "source": [
    "all_birds[0][0]"
   ]
  },
  {
   "cell_type": "code",
   "execution_count": null,
   "id": "earlier-marijuana",
   "metadata": {},
   "outputs": [],
   "source": []
  }
 ],
 "metadata": {
  "kernelspec": {
   "display_name": "Python 3",
   "language": "python",
   "name": "python3"
  },
  "language_info": {
   "codemirror_mode": {
    "name": "ipython",
    "version": 3
   },
   "file_extension": ".py",
   "mimetype": "text/x-python",
   "name": "python",
   "nbconvert_exporter": "python",
   "pygments_lexer": "ipython3",
   "version": "3.9.1"
  }
 },
 "nbformat": 4,
 "nbformat_minor": 5
}
