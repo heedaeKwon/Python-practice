{
 "cells": [
  {
   "cell_type": "code",
   "execution_count": 2,
   "id": "increasing-organizer",
   "metadata": {},
   "outputs": [
    {
     "data": {
      "text/plain": [
       "[1997, 1998, 1999, 2000, 2001]"
      ]
     },
     "execution_count": 2,
     "metadata": {},
     "output_type": "execute_result"
    }
   ],
   "source": [
    "#7.1 출생년도에 대한 리스트 year_lists를 만들어보자. 출생년도를 첫 번째 요소로 하고 1년\n",
    "#    씩 증가해 다섯 번째 생일이 되는 해까지의 요소를 넣는다. 예를 들어, 1980년에 태어났으면\n",
    "#    리스트는 year_lists =[1980,1981,1982,1983,1984]일 것이다. 다섯 살도 안\n",
    "#    됐는데 이 책을 읽고 있다면 뭐라고 말해야 할지 모르겠다.\n",
    "year_lists = [1997,1998,1999,2000,2001]\n",
    "year_lists"
   ]
  },
  {
   "cell_type": "code",
   "execution_count": 3,
   "id": "respective-accommodation",
   "metadata": {},
   "outputs": [
    {
     "data": {
      "text/plain": [
       "1999"
      ]
     },
     "execution_count": 3,
     "metadata": {},
     "output_type": "execute_result"
    }
   ],
   "source": [
    "#7.2 year_lists의 세번째 생일은 몇 년도인가? 기억하자, 첫해는 0살이다(오프셋 0은 출생년도).\n",
    "year_lists[2]"
   ]
  },
  {
   "cell_type": "code",
   "execution_count": 4,
   "id": "colored-racing",
   "metadata": {},
   "outputs": [
    {
     "data": {
      "text/plain": [
       "2001"
      ]
     },
     "execution_count": 4,
     "metadata": {},
     "output_type": "execute_result"
    }
   ],
   "source": [
    "#7.3 year_lists중 가장 나이가 많을 때는 몇 년도인가?\n",
    "year_lists[4]"
   ]
  },
  {
   "cell_type": "code",
   "execution_count": 6,
   "id": "valued-string",
   "metadata": {},
   "outputs": [
    {
     "data": {
      "text/plain": [
       "['mozzarella', 'cinderella', 'salmoella']"
      ]
     },
     "execution_count": 6,
     "metadata": {},
     "output_type": "execute_result"
    }
   ],
   "source": [
    "#7.4 \"mozzarella\", \"cinderella\",\"samlmonella\"세문자열을 요소로 갖는 things리스트를 만들어보자.\n",
    "things_lists = ['mozzarella','cinderella','salmoella']\n",
    "things_lists"
   ]
  },
  {
   "cell_type": "code",
   "execution_count": 26,
   "id": "international-commission",
   "metadata": {},
   "outputs": [
    {
     "data": {
      "text/plain": [
       "'Cinderella'"
      ]
     },
     "execution_count": 26,
     "metadata": {},
     "output_type": "execute_result"
    }
   ],
   "source": [
    "#7.5 things리스트에서 사람 이름의 첫 글자를 대문자로 바꿔서 출력해보자. 그러면 리스트이 요소가 변경되는가?\n",
    "things_lists = ['mozzarella','cinderella','salmoella']\n",
    "things_lists[1].capitalize()\n"
   ]
  },
  {
   "cell_type": "code",
   "execution_count": 27,
   "id": "further-chapel",
   "metadata": {},
   "outputs": [
    {
     "data": {
      "text/plain": [
       "'MOZZARELLA'"
      ]
     },
     "execution_count": 27,
     "metadata": {},
     "output_type": "execute_result"
    }
   ],
   "source": [
    "#7.6 things 리스트의 치즈요소를 모두 대문자로 바꿔서 출력해보자\n",
    "things_lists[0].upper()\n"
   ]
  },
  {
   "cell_type": "code",
   "execution_count": 16,
   "id": "finnish-democrat",
   "metadata": {},
   "outputs": [
    {
     "data": {
      "text/plain": [
       "['mozzarella', 'cinderella']"
      ]
     },
     "execution_count": 16,
     "metadata": {},
     "output_type": "execute_result"
    }
   ],
   "source": [
    "#7.7 things리스트에 질병요소가 있다면 제거한 뒤 리스트를 출력해보자\n",
    "things_lists = ['mozzarella','cinderella','salmoella']\n",
    "del things_lists[2]\n",
    "things_lists"
   ]
  },
  {
   "cell_type": "code",
   "execution_count": 18,
   "id": "pending-refrigerator",
   "metadata": {},
   "outputs": [
    {
     "data": {
      "text/plain": [
       "['Groucho', 'Chico', 'Harpo']"
      ]
     },
     "execution_count": 18,
     "metadata": {},
     "output_type": "execute_result"
    }
   ],
   "source": [
    "#7.8 \"Groucho\",\"Chico\",\"Harpo\"세 문자열 요소를 갖는 surprise리스트를 만들어보자\n",
    "surprise = ['Groucho','Chico','Harpo']\n",
    "surprise"
   ]
  },
  {
   "cell_type": "code",
   "execution_count": 37,
   "id": "designing-minority",
   "metadata": {},
   "outputs": [
    {
     "data": {
      "text/plain": [
       "'Harpo'"
      ]
     },
     "execution_count": 37,
     "metadata": {},
     "output_type": "execute_result"
    }
   ],
   "source": [
    "#7.9 surprise 리스트의 마지막 요소를 소문자로 변경하고 , 단어를 뒤집은 다음에 첫글자를 대문자로 바꿔보자\n",
    "surprise[-1] =surprise[-1].lower()\n",
    "surprise[-1] = surprise[-1][::-1]\n",
    "surprise[-1].capitalize()"
   ]
  },
  {
   "cell_type": "code",
   "execution_count": 38,
   "id": "numerous-sending",
   "metadata": {},
   "outputs": [
    {
     "data": {
      "text/plain": [
       "[0, 2, 4, 6, 8]"
      ]
     },
     "execution_count": 38,
     "metadata": {},
     "output_type": "execute_result"
    }
   ],
   "source": [
    "#7.10 리스트 컴프리핸션을 이용하여 range(10)에서 짝수 리스트를 만들어보자\n",
    "even = [number for number in range(10) if number%2 == 0]\n",
    "even"
   ]
  },
  {
   "cell_type": "code",
   "execution_count": 42,
   "id": "suffering-encounter",
   "metadata": {},
   "outputs": [
    {
     "name": "stdout",
     "output_type": "stream",
     "text": [
      "Fee!Fie!Foe! Flop!\n",
      "somenoe betterget a mop.\n",
      "Fee!Fie!Foe! Fope!\n",
      "somenoe bettertunr the rope.\n",
      "Fee!Fie!Foe! Fa!\n",
      "somenoe betterget your ma.\n",
      "Fee!Fie!Foe! Fudge!\n",
      "somenoe bettercall the judge.\n",
      "Fee!Fie!Foe! Fat!\n",
      "somenoe betterpet the cat.\n",
      "Fee!Fie!Foe! Fog!\n",
      "somenoe betterwalk the dog.\n",
      "Fee!Fie!Foe! Fun!\n",
      "somenoe bettersay we're done.\n"
     ]
    }
   ],
   "source": [
    "#7.11 줄넘기 랩 음악을 만들어보자. 일련의 두 줄 리듬을 출력한다. 프로그램의 시작 부분은 다음과 같다\n",
    "start1 = [\"fee\",\"fie\",\"foe\"]\n",
    "rhymes = [(\"flop\",\"get a mop\"),\n",
    "         (\"fope\",\"tunr the rope\"),\n",
    "         (\"fa\",\"get your ma\"),\n",
    "         (\"fudge\",\"call the judge\"),\n",
    "         (\"fat\",\"pet the cat\"),\n",
    "         (\"fog\",\"walk the dog\"),\n",
    "         (\"fun\",\"say we're done\"),]\n",
    "start2 = \"somenoe better\"\n",
    "#rhymes의 각 튜플(첫 번째, 두번째)에서\n",
    "#첫번째\n",
    "#첫 번째 start1의 각 문자열을 출력하낟. 첫 글자를 대문자로 만들고, 각 단어 뒤에 느낌표와 공백을 출력한다.\n",
    "#이어서 rhymes의 첫 번째 문자열의 단어 역시 첫 글자를 대문자로 만들고 느낌표를 출력한다.\n",
    "\n",
    "#두번째\n",
    "#start2와 공백을 출력한다.\n",
    "#두 번쨰 문자열과 마침표를 출력한다.\n",
    "start1_caps = \"\".join([word.capitalize()+\"!\"for word in start1])\n",
    "for first, second in rhymes:\n",
    "    print(f\"{start1_caps} {first.capitalize()}!\")\n",
    "    print(f\"{start2}{second}.\")"
   ]
  },
  {
   "cell_type": "code",
   "execution_count": null,
   "id": "suspected-catholic",
   "metadata": {},
   "outputs": [],
   "source": []
  },
  {
   "cell_type": "code",
   "execution_count": null,
   "id": "catholic-conjunction",
   "metadata": {},
   "outputs": [],
   "source": []
  }
 ],
 "metadata": {
  "kernelspec": {
   "display_name": "Python 3",
   "language": "python",
   "name": "python3"
  },
  "language_info": {
   "codemirror_mode": {
    "name": "ipython",
    "version": 3
   },
   "file_extension": ".py",
   "mimetype": "text/x-python",
   "name": "python",
   "nbconvert_exporter": "python",
   "pygments_lexer": "ipython3",
   "version": "3.9.1"
  }
 },
 "nbformat": 4,
 "nbformat_minor": 5
}
