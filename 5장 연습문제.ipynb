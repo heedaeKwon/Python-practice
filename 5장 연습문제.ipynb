{
 "cells": [
  {
   "cell_type": "code",
   "execution_count": 7,
   "id": "sharing-alarm",
   "metadata": {},
   "outputs": [
    {
     "name": "stdout",
     "output_type": "stream",
     "text": [
      "When an eel grabs your arM,\n",
      "And it causes great harM,\n",
      "That's -a Moray!\n"
     ]
    }
   ],
   "source": [
    "# 5.1 m으로 시작하는 단어를 대문자로 만들어보자\n",
    "song = \"\"\"When an eel grabs your arm,\n",
    "And it causes great harm,\n",
    "That's -a moray!\"\"\"\n",
    "song=song.replace('m','M')\n",
    "print(song)"
   ]
  },
  {
   "cell_type": "code",
   "execution_count": 23,
   "id": "unexpected-realtor",
   "metadata": {},
   "outputs": [
    {
     "name": "stdout",
     "output_type": "stream",
     "text": [
      "Q: we don't serve strings around here. Are you string?\n",
      "A: No, I'm a frayed knot\n",
      "\n",
      "Q: What is said on Father's Day in thr forest?\n",
      "A: 'Pop!' goes the weasel.\n",
      "\n",
      "Q: What makes the sound 'Sis! Boom! Bah!'?\n",
      "A: An exploding sheep.\n",
      "\n"
     ]
    }
   ],
   "source": [
    "#5.2다음과 같은 형식으로 각 리스트의 질문과 답을 차례로 출력해보자.\n",
    "questions =[\"we don't serve strings around here. Are you string?\",\n",
    "              \"What is said on Father's Day in thr forest?\",\n",
    "              \"What makes the sound 'Sis! Boom! Bah!'?\"\n",
    "        ]\n",
    "answer = [\"An exploding sheep.\",\n",
    "         \"No, I'm a frayed knot\",\n",
    "         \"'Pop!' goes the weasel.\"\n",
    "         ]\n",
    "q_a = ((0,1),(1,2),(2,0))\n",
    "for q, a in q_a:\n",
    "    print(\"Q:\", questions[q])\n",
    "    print(\"A:\", answer[a])\n",
    "    print()"
   ]
  },
  {
   "cell_type": "code",
   "execution_count": 25,
   "id": "round-remains",
   "metadata": {},
   "outputs": [
    {
     "name": "stdout",
     "output_type": "stream",
     "text": [
      "My kitty cat likes roast beef,\n",
      "My kitty cat likes ham,\n",
      "My kitty cat fell on his head And now thinks he's a clam\n",
      "\n"
     ]
    }
   ],
   "source": [
    "#5.3 옛 스타일 포매팅을 사용하여 시를 써보자. 문자열 'roast beef', 'ham','head','clam'을 아래 문자열에 대체한다\n",
    "poem = '''My kitty cat likes %s,\n",
    "My kitty cat likes %s,\n",
    "My kitty cat fell on his %s And now thinks he's a %s\n",
    "'''\n",
    "favorite = ('roast beef','ham','head','clam')\n",
    "print(poem % favorite)\n"
   ]
  },
  {
   "cell_type": "code",
   "execution_count": 26,
   "id": "subsequent-azerbaijan",
   "metadata": {},
   "outputs": [],
   "source": [
    "#5.4 새 스타일의 포매팅을 사용하여 메일을 써보자. 다음 문자열을 letter변수에 저장한다.\n",
    "letter = ''' Dear {salutation} {name},\n",
    "Thank you for your letter. We are sorry that our {produc} {verbed} in your\n",
    "{room}. Please note that it should never be used in a {room}, especially near any\n",
    "{animals}.\n",
    "\n",
    "Send us your receipt and {amount} for shipping and handling. We will send you\n",
    "another {product} that, in our tests, is {percent}% less likely to {verbed}.\n",
    "\n",
    "Thank you for your supprot.\n",
    "Sincerely,\n",
    "{spokesman}\n",
    "{job_title}\n",
    "'''"
   ]
  },
  {
   "cell_type": "code",
   "execution_count": 54,
   "id": "ordered-deposit",
   "metadata": {},
   "outputs": [
    {
     "ename": "KeyError",
     "evalue": "' percent'",
     "output_type": "error",
     "traceback": [
      "\u001b[0;31m---------------------------------------------------------------------------\u001b[0m",
      "\u001b[0;31mKeyError\u001b[0m                                  Traceback (most recent call last)",
      "\u001b[0;32m<ipython-input-54-02a28673e7a6>\u001b[0m in \u001b[0;36m<module>\u001b[0;34m\u001b[0m\n\u001b[1;32m      1\u001b[0m \u001b[0;31m#5.5 문자열 변수 'salutation' , 'name' , 'product' , 'verbed', 'room','anumals','amount','percent','spokesman','job_title'에 값을 할당한다 문자열 변수와 letter.format()를 사용하여 메일을 출력해보자\u001b[0m\u001b[0;34m\u001b[0m\u001b[0;34m\u001b[0m\u001b[0;34m\u001b[0m\u001b[0m\n\u001b[1;32m      2\u001b[0m \u001b[0;34m\u001b[0m\u001b[0m\n\u001b[0;32m----> 3\u001b[0;31m print ( letter.format (salutation = 'Ambassador', \n\u001b[0m\u001b[1;32m      4\u001b[0m                       \u001b[0mname\u001b[0m \u001b[0;34m=\u001b[0m \u001b[0;34m'Nibbler'\u001b[0m \u001b[0;34m,\u001b[0m\u001b[0;34m\u001b[0m\u001b[0;34m\u001b[0m\u001b[0m\n\u001b[1;32m      5\u001b[0m                       \u001b[0mproduct\u001b[0m \u001b[0;34m=\u001b[0m \u001b[0;34m'pudding'\u001b[0m \u001b[0;34m,\u001b[0m\u001b[0;34m\u001b[0m\u001b[0;34m\u001b[0m\u001b[0m\n",
      "\u001b[0;31mKeyError\u001b[0m: ' percent'"
     ]
    }
   ],
   "source": [
    "#5.5 문자열 변수 'salutation' , 'name' , 'product' , 'verbed', 'room','anumals','amount','percent','spokesman','job_title'에 값을 할당한다 문자열 변수와 letter.format()를 사용하여 메일을 출력해보자\n",
    "\n",
    "print ( \n",
    "    letter.format(salutation = 'Ambassador', \n",
    "                      name = 'Nibbler' , \n",
    "                      product = 'pudding' ,\n",
    "                      verbed = 'evaporated' , \n",
    "                      room = 'gazebo' , \n",
    "                      animals = 'octothorpes', \n",
    "                      amount = '$1.99' ,\n",
    "                      percent = '88' , \n",
    "                      spokesman ='Shirley Iugeste',\n",
    "                      job_title='I hate This Job')\n",
    "      )"
   ]
  },
  {
   "cell_type": "code",
   "execution_count": 52,
   "id": "cultural-detector",
   "metadata": {},
   "outputs": [
    {
     "name": "stdout",
     "output_type": "stream",
     "text": [
      "Ducky McDuckface\n",
      "Gourdy McGourdface\n",
      "Spitzy McSpitzface\n"
     ]
    }
   ],
   "source": [
    "#5.6 어떤 물건에 이름을 짓는 여론조사를 실시한 후 다음과 같은 패턴이 나타났다.\n",
    "    #an English submarine이름은(Boaty McBoatface)로 지어졌다\n",
    "    #an Austailian racehorse 이름은 (Horsey McHorseface)로 지어졋다.\n",
    "    #a Swedish train 이름은 (Triny McTrainface)로 지어졌다.\n",
    "    #문자열'duck','gourd','spitz'과 %포메팅을 사용하여 위괄호 안의 문자열의 형식과 같이 출력해보자\n",
    "names = [\"duck\",\"gourd\",\"spitz\"]\n",
    "for name in names:\n",
    "        cap_name = name.capitalize()\n",
    "        print(\"%sy Mc%sface\"%(cap_name , cap_name))"
   ]
  },
  {
   "cell_type": "code",
   "execution_count": 53,
   "id": "junior-sender",
   "metadata": {},
   "outputs": [
    {
     "name": "stdout",
     "output_type": "stream",
     "text": [
      "Ducky McDuckface\n",
      "Gourdy McGourdface\n",
      "Spitzy McSpitzface\n"
     ]
    }
   ],
   "source": [
    "#5.7 format() 메서드를 사용하여 문제 5.6을풀어본다\n",
    "names = [\"duck\",\"gourd\",\"spitz\"]\n",
    "for name in names:\n",
    "        cap_name = name.capitalize()\n",
    "        print(\"{}y Mc{}face\".format(cap_name , cap_name))"
   ]
  },
  {
   "cell_type": "code",
   "execution_count": 49,
   "id": "effective-liability",
   "metadata": {},
   "outputs": [
    {
     "name": "stdout",
     "output_type": "stream",
     "text": [
      "Ducky McDuckface\n",
      "Gourdy McGourdface\n",
      "Spitzy McSpitzface\n"
     ]
    }
   ],
   "source": [
    "#5.8 f-문자열을 사용하여 문제 5.6을 풀어본다\n",
    "names = [\"duck\",\"gourd\",\"spitz\"]\n",
    "for name in names:\n",
    "        cap_name = name.capitalize()\n",
    "        print(f\"{cap_name}y Mc{cap_name}face\")"
   ]
  },
  {
   "cell_type": "code",
   "execution_count": null,
   "id": "behavioral-paint",
   "metadata": {},
   "outputs": [],
   "source": []
  },
  {
   "cell_type": "code",
   "execution_count": null,
   "id": "artificial-matter",
   "metadata": {},
   "outputs": [],
   "source": []
  },
  {
   "cell_type": "code",
   "execution_count": null,
   "id": "coated-chair",
   "metadata": {},
   "outputs": [],
   "source": []
  }
 ],
 "metadata": {
  "kernelspec": {
   "display_name": "Python 3",
   "language": "python",
   "name": "python3"
  },
  "language_info": {
   "codemirror_mode": {
    "name": "ipython",
    "version": 3
   },
   "file_extension": ".py",
   "mimetype": "text/x-python",
   "name": "python",
   "nbconvert_exporter": "python",
   "pygments_lexer": "ipython3",
   "version": "3.9.1"
  }
 },
 "nbformat": 4,
 "nbformat_minor": 5
}
