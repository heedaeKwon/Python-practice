{
 "cells": [
  {
   "cell_type": "code",
   "execution_count": 1,
   "id": "younger-frank",
   "metadata": {},
   "outputs": [
    {
     "data": {
      "text/plain": [
       "()"
      ]
     },
     "execution_count": 1,
     "metadata": {},
     "output_type": "execute_result"
    }
   ],
   "source": [
    "#튜플과 리스트\n",
    "#튜플 생성하기:,그리고()\n",
    "empty_tuple = ()\n",
    "empty_tuple"
   ]
  },
  {
   "cell_type": "code",
   "execution_count": 2,
   "id": "corporate-concentration",
   "metadata": {},
   "outputs": [
    {
     "data": {
      "text/plain": [
       "('Groucho',)"
      ]
     },
     "execution_count": 2,
     "metadata": {},
     "output_type": "execute_result"
    }
   ],
   "source": [
    "#한 요소 이상의 튜플을 만들기 위해서는 각 요소 뒤에 콤마를 붙인다\n",
    "one_marx = 'Groucho' , #먼저 튜플에 한 요소를 저장했다\n",
    "one_marx"
   ]
  },
  {
   "cell_type": "code",
   "execution_count": 5,
   "id": "certified-primary",
   "metadata": {},
   "outputs": [
    {
     "data": {
      "text/plain": [
       "('Groucho',)"
      ]
     },
     "execution_count": 5,
     "metadata": {},
     "output_type": "execute_result"
    }
   ],
   "source": [
    "one_marx = ('Groucho',)\n",
    "one_marx"
   ]
  },
  {
   "cell_type": "code",
   "execution_count": 6,
   "id": "forced-request",
   "metadata": {},
   "outputs": [
    {
     "data": {
      "text/plain": [
       "'Groucho'"
      ]
     },
     "execution_count": 6,
     "metadata": {},
     "output_type": "execute_result"
    }
   ],
   "source": [
    "one_marx = ('Groucho')\n",
    "one_marx#괄호를 넣었는데 쉼표를 빼면 튜플이 아니라 문자열이 된다"
   ]
  },
  {
   "cell_type": "code",
   "execution_count": 7,
   "id": "authentic-diving",
   "metadata": {},
   "outputs": [
    {
     "data": {
      "text/plain": [
       "('Groucho', 'Chico', 'Harpo')"
      ]
     },
     "execution_count": 7,
     "metadata": {},
     "output_type": "execute_result"
    }
   ],
   "source": [
    "marx_tuple = ('Groucho','Chico','Harpo')\n",
    "marx_tuple"
   ]
  },
  {
   "cell_type": "code",
   "execution_count": 8,
   "id": "figured-zambia",
   "metadata": {},
   "outputs": [
    {
     "data": {
      "text/plain": [
       "tuple"
      ]
     },
     "execution_count": 8,
     "metadata": {},
     "output_type": "execute_result"
    }
   ],
   "source": [
    "type(marx_tuple)"
   ]
  },
  {
   "cell_type": "code",
   "execution_count": 9,
   "id": "french-congress",
   "metadata": {},
   "outputs": [
    {
     "data": {
      "text/plain": [
       "'Groucho'"
      ]
     },
     "execution_count": 9,
     "metadata": {},
     "output_type": "execute_result"
    }
   ],
   "source": [
    "a,b,c= marx_tuple\n",
    "a"
   ]
  },
  {
   "cell_type": "code",
   "execution_count": 10,
   "id": "provincial-youth",
   "metadata": {},
   "outputs": [
    {
     "data": {
      "text/plain": [
       "'Chico'"
      ]
     },
     "execution_count": 10,
     "metadata": {},
     "output_type": "execute_result"
    }
   ],
   "source": [
    "b"
   ]
  },
  {
   "cell_type": "code",
   "execution_count": 11,
   "id": "scheduled-switzerland",
   "metadata": {},
   "outputs": [
    {
     "data": {
      "text/plain": [
       "'Harpo'"
      ]
     },
     "execution_count": 11,
     "metadata": {},
     "output_type": "execute_result"
    }
   ],
   "source": [
    "c #튜플로 한 번에 여러 변수를 할당할 수 있다. 튜플 언패킹"
   ]
  },
  {
   "cell_type": "code",
   "execution_count": 18,
   "id": "tough-ancient",
   "metadata": {},
   "outputs": [
    {
     "name": "stdout",
     "output_type": "stream",
     "text": [
      "['tuttifrutti', 'swordfish']\n"
     ]
    }
   ],
   "source": [
    "#한 문장에서 값을 교환하기 위해 임시변수를 사용하지 않고 튜플을 사용할 수 있다.\n",
    "password='swordfish'\n",
    "icecream = 'tuttifrutti'\n",
    "password, icecream = icecream,password\n",
    "print([password,icecream])"
   ]
  },
  {
   "cell_type": "code",
   "execution_count": 19,
   "id": "approximate-mortgage",
   "metadata": {},
   "outputs": [
    {
     "data": {
      "text/plain": [
       "list"
      ]
     },
     "execution_count": 19,
     "metadata": {},
     "output_type": "execute_result"
    }
   ],
   "source": [
    "#생성하기:tuple() <=다른 객체를 튜플로 만들어준다\n",
    "marx_list = ['Groucho','Chico','Harpo']\n",
    "type(marx_list)"
   ]
  },
  {
   "cell_type": "code",
   "execution_count": 20,
   "id": "recent-freedom",
   "metadata": {},
   "outputs": [
    {
     "data": {
      "text/plain": [
       "('Groucho', 'Chico', 'Harpo')"
      ]
     },
     "execution_count": 20,
     "metadata": {},
     "output_type": "execute_result"
    }
   ],
   "source": [
    "#현재 marx_list타입은 list타입이다 이걸 튜플을 이용해 튜플로 바꾸자\n",
    "tuple(marx_list)"
   ]
  },
  {
   "cell_type": "code",
   "execution_count": 30,
   "id": "integrated-uzbekistan",
   "metadata": {},
   "outputs": [
    {
     "data": {
      "text/plain": [
       "tuple"
      ]
     },
     "execution_count": 30,
     "metadata": {},
     "output_type": "execute_result"
    }
   ],
   "source": [
    "type(tuple(marx_list)) #확인결과 리스트 타입이 튜플로 바뀐것을 알 수가 있다."
   ]
  },
  {
   "cell_type": "code",
   "execution_count": 23,
   "id": "passive-screen",
   "metadata": {},
   "outputs": [
    {
     "data": {
      "text/plain": [
       "('Groucho', 'Chico')"
      ]
     },
     "execution_count": 23,
     "metadata": {},
     "output_type": "execute_result"
    }
   ],
   "source": [
    "#결합하기:+\n",
    "('Groucho',)+('Chico',)"
   ]
  },
  {
   "cell_type": "code",
   "execution_count": 24,
   "id": "dutch-blake",
   "metadata": {},
   "outputs": [
    {
     "data": {
      "text/plain": [
       "('yada', 'yada', 'yada', 'yada', 'yada')"
      ]
     },
     "execution_count": 24,
     "metadata": {},
     "output_type": "execute_result"
    }
   ],
   "source": [
    "#항목 복제하기:*\n",
    "# *연산자는 +연산자를 반복하는 것과 같다\n",
    "('yada',)*5"
   ]
  },
  {
   "cell_type": "code",
   "execution_count": 25,
   "id": "dynamic-sociology",
   "metadata": {},
   "outputs": [
    {
     "data": {
      "text/plain": [
       "False"
      ]
     },
     "execution_count": 25,
     "metadata": {},
     "output_type": "execute_result"
    }
   ],
   "source": [
    "#비교하기는 리스트 비교와 같다고한다\\\n",
    "a=(7,2)\n",
    "b=(7,2,9)\n",
    "a==b"
   ]
  },
  {
   "cell_type": "code",
   "execution_count": 40,
   "id": "legendary-metro",
   "metadata": {},
   "outputs": [
    {
     "data": {
      "text/plain": [
       "True"
      ]
     },
     "execution_count": 40,
     "metadata": {},
     "output_type": "execute_result"
    }
   ],
   "source": [
    "a<b"
   ]
  },
  {
   "cell_type": "code",
   "execution_count": 27,
   "id": "divided-burke",
   "metadata": {},
   "outputs": [
    {
     "data": {
      "text/plain": [
       "False"
      ]
     },
     "execution_count": 27,
     "metadata": {},
     "output_type": "execute_result"
    }
   ],
   "source": [
    "a>b"
   ]
  },
  {
   "cell_type": "code",
   "execution_count": 28,
   "id": "covered-disposal",
   "metadata": {},
   "outputs": [
    {
     "data": {
      "text/plain": [
       "True"
      ]
     },
     "execution_count": 28,
     "metadata": {},
     "output_type": "execute_result"
    }
   ],
   "source": [
    "a<=b"
   ]
  },
  {
   "cell_type": "code",
   "execution_count": 29,
   "id": "caroline-plaintiff",
   "metadata": {},
   "outputs": [
    {
     "ename": "SyntaxError",
     "evalue": "invalid syntax (<ipython-input-29-f4c51811f17e>, line 1)",
     "output_type": "error",
     "traceback": [
      "\u001b[0;36m  File \u001b[0;32m\"<ipython-input-29-f4c51811f17e>\"\u001b[0;36m, line \u001b[0;32m1\u001b[0m\n\u001b[0;31m    a=<b\u001b[0m\n\u001b[0m      ^\u001b[0m\n\u001b[0;31mSyntaxError\u001b[0m\u001b[0;31m:\u001b[0m invalid syntax\n"
     ]
    }
   ],
   "source": [
    "a=<b"
   ]
  },
  {
   "cell_type": "code",
   "execution_count": 31,
   "id": "exciting-crystal",
   "metadata": {},
   "outputs": [
    {
     "data": {
      "text/plain": [
       "tuple"
      ]
     },
     "execution_count": 31,
     "metadata": {},
     "output_type": "execute_result"
    }
   ],
   "source": [
    "#순회하기 : for와in\n",
    "words = ('fresh','out','of','ideas')\n",
    "type(words)"
   ]
  },
  {
   "cell_type": "code",
   "execution_count": 34,
   "id": "homeless-amendment",
   "metadata": {},
   "outputs": [
    {
     "data": {
      "text/plain": [
       "tuple"
      ]
     },
     "execution_count": 34,
     "metadata": {},
     "output_type": "execute_result"
    }
   ],
   "source": [
    "imap=('fresh',)\n",
    "type(imap)"
   ]
  },
  {
   "cell_type": "code",
   "execution_count": 35,
   "id": "mature-camera",
   "metadata": {},
   "outputs": [
    {
     "name": "stdout",
     "output_type": "stream",
     "text": [
      "fresh\n",
      "out\n",
      "of\n",
      "ideas\n"
     ]
    }
   ],
   "source": [
    "for word in words:\n",
    "    print(word)"
   ]
  },
  {
   "cell_type": "code",
   "execution_count": 36,
   "id": "adaptive-clarity",
   "metadata": {},
   "outputs": [
    {
     "data": {
      "text/plain": [
       "('Fee', 'Fie', 'Foe', 'Flop')"
      ]
     },
     "execution_count": 36,
     "metadata": {},
     "output_type": "execute_result"
    }
   ],
   "source": [
    "#튜플은 문자열처럼 불변 객체이므로 기존 튜플을 변경할 수 없다. 문장ㄹ과 같이 튜플을 재결합하여 새 튜플을 만들 수 있다.\n",
    "t1 = ('Fee', 'Fie',\"Foe\")\n",
    "t2 = (\"Flop\",)\n",
    "t1+t2"
   ]
  },
  {
   "cell_type": "code",
   "execution_count": 37,
   "id": "executed-psychology",
   "metadata": {},
   "outputs": [
    {
     "data": {
      "text/plain": [
       "('Fee', 'Fie', 'Foe', 'Flop')"
      ]
     },
     "execution_count": 37,
     "metadata": {},
     "output_type": "execute_result"
    }
   ],
   "source": [
    "t1 +=t2\n",
    "t1\n",
    "#이것은 마치 튜플을 수정하는 것 처럼 보인다\n",
    "#그러나 이것은 이전의 t1이 아니다. t1과t2가 가리키는 원래 튜플에 새로운 튜플을 만들고,\n",
    "#새로운 튜플을t1에 할당했다. 변수 이름이 새로운 값을 가리킬 때 id()함수로 확인 할 수 있다."
   ]
  },
  {
   "cell_type": "code",
   "execution_count": 38,
   "id": "broke-recall",
   "metadata": {},
   "outputs": [
    {
     "data": {
      "text/plain": [
       "140081366325504"
      ]
     },
     "execution_count": 38,
     "metadata": {},
     "output_type": "execute_result"
    }
   ],
   "source": [
    "t1 = ('Fee', 'Fie',\"Foe\")\n",
    "t2 = (\"Flop\",)\n",
    "id(t1)"
   ]
  },
  {
   "cell_type": "code",
   "execution_count": 39,
   "id": "nuclear-dairy",
   "metadata": {},
   "outputs": [
    {
     "data": {
      "text/plain": [
       "140081365793824"
      ]
     },
     "execution_count": 39,
     "metadata": {},
     "output_type": "execute_result"
    }
   ],
   "source": [
    "t1+=t2\n",
    "id(t1)"
   ]
  },
  {
   "cell_type": "code",
   "execution_count": 41,
   "id": "frequent-oxygen",
   "metadata": {},
   "outputs": [
    {
     "data": {
      "text/plain": [
       "False"
      ]
     },
     "execution_count": 41,
     "metadata": {},
     "output_type": "execute_result"
    }
   ],
   "source": [
    "140081366325504 == 140081365793824\n",
    "#첫번째 id(t1)값       #두 번째 id(t1)값\n",
    "#id()값이 변한것을 확인할 수 있다."
   ]
  },
  {
   "cell_type": "code",
   "execution_count": null,
   "id": "great-automation",
   "metadata": {},
   "outputs": [],
   "source": []
  }
 ],
 "metadata": {
  "kernelspec": {
   "display_name": "Python 3",
   "language": "python",
   "name": "python3"
  },
  "language_info": {
   "codemirror_mode": {
    "name": "ipython",
    "version": 3
   },
   "file_extension": ".py",
   "mimetype": "text/x-python",
   "name": "python",
   "nbconvert_exporter": "python",
   "pygments_lexer": "ipython3",
   "version": "3.9.1"
  }
 },
 "nbformat": 4,
 "nbformat_minor": 5
}
