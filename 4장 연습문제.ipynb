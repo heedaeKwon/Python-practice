{
 "cells": [
  {
   "cell_type": "code",
   "execution_count": 2,
   "id": "significant-ecology",
   "metadata": {},
   "outputs": [
    {
     "name": "stdout",
     "output_type": "stream",
     "text": [
      "too high\n"
     ]
    }
   ],
   "source": [
    "#4.1 1~10사이의 숫자를 선택해서 secret 변수에 할당한다. 그리고 1~10 사이의 다른숫자\n",
    "#    를 선택해서 guess변수에 할당한다. if,elif,else문을 사용하여 guess 변수가 secret\n",
    "#    변수보다 작으면  'too low', 크면  too high 일치하면 just right을 출력한다\n",
    "secret = 2\n",
    "guess  = 3\n",
    "if guess < secret:\n",
    "    print('too low')\n",
    "elif guess == secret:\n",
    "    print('just right')\n",
    "else:\n",
    "    print('too high')"
   ]
  },
  {
   "cell_type": "code",
   "execution_count": 3,
   "id": "inclusive-desert",
   "metadata": {},
   "outputs": [
    {
     "name": "stdout",
     "output_type": "stream",
     "text": [
      "just right\n"
     ]
    }
   ],
   "source": [
    "secret = 2\n",
    "guess  = 2\n",
    "if guess < secret:\n",
    "    print('too low')\n",
    "elif guess == secret:\n",
    "    print('just right')\n",
    "else:\n",
    "    print('too high')"
   ]
  },
  {
   "cell_type": "code",
   "execution_count": 4,
   "id": "assigned-disabled",
   "metadata": {},
   "outputs": [
    {
     "name": "stdout",
     "output_type": "stream",
     "text": [
      "too low\n"
     ]
    }
   ],
   "source": [
    "secret = 2\n",
    "guess  = 1\n",
    "if guess < secret:\n",
    "    print('too low')\n",
    "elif guess == secret:\n",
    "    print('just right')\n",
    "else:\n",
    "    print('too high')"
   ]
  },
  {
   "cell_type": "code",
   "execution_count": 6,
   "id": "particular-identity",
   "metadata": {},
   "outputs": [
    {
     "name": "stdout",
     "output_type": "stream",
     "text": [
      "cherry\n"
     ]
    }
   ],
   "source": [
    "#4.2 True나 False를 small과green변수에 할당한다. if,else문을 사용하여 작은것(small)과\n",
    "#    녹색(green)을 기준으로 체리 완두콩,수박,호박(cherry,pea,watermelon,pumpkin)을 출력해보자\n",
    "#    예 : 체리는 작고 녹색이 아니다, 완두콩은 작고 녹색이다, 수박은 크고 녹색이다, 호박은 크고 녹색이아니다\n",
    "small =True\n",
    "green =False\n",
    "if small:\n",
    "    if green:\n",
    "        print('pea')\n",
    "    else:\n",
    "        print('cherry')\n",
    "else:\n",
    "    if green:\n",
    "        print('watermelon')\n",
    "    else:\n",
    "        print('pumpkin')\n",
    "#변수로 해석하면 작고 초록색이아니니 체리가 출력된다        "
   ]
  },
  {
   "cell_type": "code",
   "execution_count": 7,
   "id": "attractive-sight",
   "metadata": {},
   "outputs": [
    {
     "name": "stdout",
     "output_type": "stream",
     "text": [
      "pea\n"
     ]
    }
   ],
   "source": [
    "small =True\n",
    "green =True\n",
    "if small:\n",
    "    if green:\n",
    "        print('pea')\n",
    "    else:\n",
    "        print('cherry')\n",
    "else:\n",
    "    if green:\n",
    "        print('watermelon')\n",
    "    else:\n",
    "        print('pumpkin')\n",
    " #작고 초록색이니 완두콩이 출력된다       "
   ]
  },
  {
   "cell_type": "code",
   "execution_count": 8,
   "id": "together-vietnam",
   "metadata": {},
   "outputs": [
    {
     "name": "stdout",
     "output_type": "stream",
     "text": [
      "pumpkin\n"
     ]
    }
   ],
   "source": [
    "small =False\n",
    "green =False\n",
    "if small:\n",
    "    if green:\n",
    "        print('pea')\n",
    "    else:\n",
    "        print('cherry')\n",
    "else:\n",
    "    if green:\n",
    "        print('watermelon')\n",
    "    else:\n",
    "        print('pumpkin')\n",
    "#크코 녹색이 아니니 호박이 출력된다        "
   ]
  },
  {
   "cell_type": "code",
   "execution_count": 9,
   "id": "monetary-coating",
   "metadata": {},
   "outputs": [
    {
     "name": "stdout",
     "output_type": "stream",
     "text": [
      "watermelon\n"
     ]
    }
   ],
   "source": [
    "small =False\n",
    "green =True\n",
    "if small:\n",
    "    if green:\n",
    "        print('pea')\n",
    "    else:\n",
    "        print('cherry')\n",
    "else:\n",
    "    if green:\n",
    "        print('watermelon')\n",
    "    else:\n",
    "        print('pumpkin')\n",
    "#크고 녹색이니 수박이 출력된다        "
   ]
  },
  {
   "cell_type": "code",
   "execution_count": null,
   "id": "legal-validation",
   "metadata": {},
   "outputs": [],
   "source": []
  }
 ],
 "metadata": {
  "kernelspec": {
   "display_name": "Python 3",
   "language": "python",
   "name": "python3"
  },
  "language_info": {
   "codemirror_mode": {
    "name": "ipython",
    "version": 3
   },
   "file_extension": ".py",
   "mimetype": "text/x-python",
   "name": "python",
   "nbconvert_exporter": "python",
   "pygments_lexer": "ipython3",
   "version": "3.9.1"
  }
 },
 "nbformat": 4,
 "nbformat_minor": 5
}
